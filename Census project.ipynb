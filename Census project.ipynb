{
 "cells": [
  {
   "cell_type": "markdown",
   "id": "149120c2",
   "metadata": {},
   "source": [
    "# Mock Census Data PROJECT\n",
    "---"
   ]
  },
  {
   "cell_type": "markdown",
   "id": "19d26de8",
   "metadata": {},
   "source": [
    "## Background Information:\n",
    "Every ten years, the United Kingdom undertakes a census of the population, with the most recent one having \n",
    "been conducted in 2021. The purpose of such a census is to compare different people across the nation and to \n",
    "provide the government with accurate statistics of the population to enable better planning, to develop policies, \n",
    "and to allocate certain funding. \n",
    "\n",
    "This project provides a comprehensive and detailed analysis of the population data of a moderately sized town, \n",
    "situated in between two major cities. The aim is to make insightful recommendations on what the local \n",
    "government should build on an unoccupied piece of land.\n",
    "To ensure accurate recommendations, errors in the data such as missing (null) values, spurious entries and\n",
    "misleading information were treated or dropped where appropriate.\n",
    "\n",
    "Furthermore, a well detailed visualization and analysis will be used to arrive at the recommendations in the latter \n",
    "part of the report.\n",
    "\n",
    "\n",
    "## Data Dictionary: \n",
    "The mock census you will be given contains randomly generate data using the Faker package in Python. It has \n",
    "been generated in a similar manner to (and designed to directly emulate the format of) the 1881 census of the \n",
    "UK wherein only a few questions were asked of the population. The fields recorded are as follows: \n",
    "- Street Number (this is set to “1” if it is a unique dwelling); \n",
    "- Street Name; \n",
    "- First Name of occupant; \n",
    "- Surname of occupant; \n",
    "- Age of occupant; \n",
    "- Relationship to the “Head” of the household (anyone aged over 18 can be a “Head” – they are simply the person who had the responsibility to fill in the census details); \n",
    "- Marital status (one of: Single, Married, Divorced, Widowed, or “NA” in the case of minors); \n",
    "- Gender (one of: Male, Female; note that other responses were not implemented in 1881); \n",
    "- Occupation (this field was implemented in a modern style, rather than typical 1881 occupations); \n",
    "- Infirmity (we have implemented a limited set of infirmities following the style of 1881); \n",
    "- Religion (we have implemented a set of real-world religions).\n",
    "\n",
    "## Project Task:\n",
    "- Clean and preprocess the data and make necessary visualizations.\n",
    "- To advise on what the government should build on an unused plot of land\n",
    "- To provide insights based on the data into what services should be invested in."
   ]
  },
  {
   "cell_type": "markdown",
   "id": "f1de793a",
   "metadata": {},
   "source": [
    "Importing Libraries:"
   ]
  },
  {
   "cell_type": "code",
   "execution_count": 1,
   "id": "a61d50b6",
   "metadata": {},
   "outputs": [],
   "source": [
    "import pandas as pd\n",
    "import numpy as np\n",
    "import matplotlib.pyplot as plt\n",
    "import seaborn as sns"
   ]
  },
  {
   "cell_type": "markdown",
   "id": "9133c86c",
   "metadata": {},
   "source": [
    "### Reading in the File:"
   ]
  },
  {
   "cell_type": "code",
   "execution_count": 2,
   "id": "5df54aeb",
   "metadata": {},
   "outputs": [
    {
     "data": {
      "text/html": [
       "<div>\n",
       "<style scoped>\n",
       "    .dataframe tbody tr th:only-of-type {\n",
       "        vertical-align: middle;\n",
       "    }\n",
       "\n",
       "    .dataframe tbody tr th {\n",
       "        vertical-align: top;\n",
       "    }\n",
       "\n",
       "    .dataframe thead th {\n",
       "        text-align: right;\n",
       "    }\n",
       "</style>\n",
       "<table border=\"1\" class=\"dataframe\">\n",
       "  <thead>\n",
       "    <tr style=\"text-align: right;\">\n",
       "      <th></th>\n",
       "      <th>House Number</th>\n",
       "      <th>Street</th>\n",
       "      <th>First Name</th>\n",
       "      <th>Surname</th>\n",
       "      <th>Age</th>\n",
       "      <th>Relationship to Head of House</th>\n",
       "      <th>Marital Status</th>\n",
       "      <th>Gender</th>\n",
       "      <th>Occupation</th>\n",
       "      <th>Infirmity</th>\n",
       "      <th>Religion</th>\n",
       "    </tr>\n",
       "  </thead>\n",
       "  <tbody>\n",
       "    <tr>\n",
       "      <th>6560</th>\n",
       "      <td>26</td>\n",
       "      <td>ExcaliburBellsby Drive</td>\n",
       "      <td>June</td>\n",
       "      <td>Martin</td>\n",
       "      <td>17</td>\n",
       "      <td>Daughter</td>\n",
       "      <td>NaN</td>\n",
       "      <td>Female</td>\n",
       "      <td>Student</td>\n",
       "      <td>None</td>\n",
       "      <td>NaN</td>\n",
       "    </tr>\n",
       "    <tr>\n",
       "      <th>823</th>\n",
       "      <td>55</td>\n",
       "      <td>Cambridge Street</td>\n",
       "      <td>Jill</td>\n",
       "      <td>Cole</td>\n",
       "      <td>1</td>\n",
       "      <td>Daughter</td>\n",
       "      <td>NaN</td>\n",
       "      <td>Female</td>\n",
       "      <td>Child</td>\n",
       "      <td>None</td>\n",
       "      <td>NaN</td>\n",
       "    </tr>\n",
       "    <tr>\n",
       "      <th>7196</th>\n",
       "      <td>25</td>\n",
       "      <td>Murray Drive</td>\n",
       "      <td>Timothy</td>\n",
       "      <td>Martin</td>\n",
       "      <td>9</td>\n",
       "      <td>Son</td>\n",
       "      <td>NaN</td>\n",
       "      <td>Male</td>\n",
       "      <td>Student</td>\n",
       "      <td>None</td>\n",
       "      <td>NaN</td>\n",
       "    </tr>\n",
       "    <tr>\n",
       "      <th>764</th>\n",
       "      <td>40</td>\n",
       "      <td>Cambridge Street</td>\n",
       "      <td>Paula</td>\n",
       "      <td>Booth</td>\n",
       "      <td>0</td>\n",
       "      <td>Daughter</td>\n",
       "      <td>NaN</td>\n",
       "      <td>Female</td>\n",
       "      <td>Child</td>\n",
       "      <td>None</td>\n",
       "      <td>NaN</td>\n",
       "    </tr>\n",
       "    <tr>\n",
       "      <th>1282</th>\n",
       "      <td>43</td>\n",
       "      <td>Wharf Track</td>\n",
       "      <td>Scott</td>\n",
       "      <td>Brown</td>\n",
       "      <td>27</td>\n",
       "      <td>Head</td>\n",
       "      <td>Married</td>\n",
       "      <td>Male</td>\n",
       "      <td>Retail buyer</td>\n",
       "      <td>None</td>\n",
       "      <td>None</td>\n",
       "    </tr>\n",
       "  </tbody>\n",
       "</table>\n",
       "</div>"
      ],
      "text/plain": [
       "      House Number                  Street First Name Surname Age  \\\n",
       "6560            26  ExcaliburBellsby Drive       June  Martin  17   \n",
       "823             55        Cambridge Street       Jill    Cole   1   \n",
       "7196            25            Murray Drive    Timothy  Martin   9   \n",
       "764             40        Cambridge Street      Paula   Booth   0   \n",
       "1282            43             Wharf Track      Scott   Brown  27   \n",
       "\n",
       "     Relationship to Head of House Marital Status  Gender    Occupation  \\\n",
       "6560                      Daughter            NaN  Female       Student   \n",
       "823                       Daughter            NaN  Female         Child   \n",
       "7196                           Son            NaN    Male       Student   \n",
       "764                       Daughter            NaN  Female         Child   \n",
       "1282                          Head        Married    Male  Retail buyer   \n",
       "\n",
       "     Infirmity Religion  \n",
       "6560      None      NaN  \n",
       "823       None      NaN  \n",
       "7196      None      NaN  \n",
       "764       None      NaN  \n",
       "1282      None     None  "
      ]
     },
     "execution_count": 2,
     "metadata": {},
     "output_type": "execute_result"
    }
   ],
   "source": [
    "#Reading the CSV file:\n",
    "census_df = pd.read_csv(r\"C:\\Users\\ohiom\\Documents\\My work space\\Hull\\Module 2\\Fundamentals of DS\\project\\5 mins presentation\\census11.csv\")\n",
    "census_df.sample(5)"
   ]
  },
  {
   "cell_type": "markdown",
   "id": "f5eef15c",
   "metadata": {},
   "source": [
    "### Inspecting the Data Properties:"
   ]
  },
  {
   "cell_type": "code",
   "execution_count": 3,
   "id": "74570cbb",
   "metadata": {},
   "outputs": [
    {
     "name": "stdout",
     "output_type": "stream",
     "text": [
      "<class 'pandas.core.frame.DataFrame'>\n",
      "RangeIndex: 8377 entries, 0 to 8376\n",
      "Data columns (total 11 columns):\n",
      " #   Column                         Non-Null Count  Dtype \n",
      "---  ------                         --------------  ----- \n",
      " 0   House Number                   8377 non-null   int64 \n",
      " 1   Street                         8377 non-null   object\n",
      " 2   First Name                     8377 non-null   object\n",
      " 3   Surname                        8377 non-null   object\n",
      " 4   Age                            8377 non-null   object\n",
      " 5   Relationship to Head of House  8377 non-null   object\n",
      " 6   Marital Status                 6402 non-null   object\n",
      " 7   Gender                         8377 non-null   object\n",
      " 8   Occupation                     8377 non-null   object\n",
      " 9   Infirmity                      8377 non-null   object\n",
      " 10  Religion                       6365 non-null   object\n",
      "dtypes: int64(1), object(10)\n",
      "memory usage: 720.0+ KB\n"
     ]
    }
   ],
   "source": [
    "#Checking the properties of the data:\n",
    "census_df.info()"
   ]
  },
  {
   "cell_type": "markdown",
   "id": "75c7cfed",
   "metadata": {},
   "source": [
    "- The data comprises of 8377 entries and 11 features\n",
    "- All features contain 8377 entries except Marital status and religion.\n",
    "- There are 10 object data type and 1 integer data type across the 11 features.\n",
    "- Age is recorded as an object. This needs to be an int or a float.\n",
    "---"
   ]
  },
  {
   "cell_type": "code",
   "execution_count": 4,
   "id": "f7a7e0c3",
   "metadata": {},
   "outputs": [
    {
     "data": {
      "text/plain": [
       "House Number                        0\n",
       "Street                              0\n",
       "First Name                          0\n",
       "Surname                             0\n",
       "Age                                 0\n",
       "Relationship to Head of House       0\n",
       "Marital Status                   1975\n",
       "Gender                              0\n",
       "Occupation                          0\n",
       "Infirmity                           0\n",
       "Religion                         2012\n",
       "dtype: int64"
      ]
     },
     "execution_count": 4,
     "metadata": {},
     "output_type": "execute_result"
    }
   ],
   "source": [
    "#Checking total number of missing (NaN) values across all features:\n",
    "census_df.isna().sum()"
   ]
  },
  {
   "cell_type": "markdown",
   "id": "bbb95d02",
   "metadata": {},
   "source": [
    "- Marital Status and Religion has 1975 and 2012 NaN values respectively.\n",
    "------"
   ]
  },
  {
   "cell_type": "markdown",
   "id": "7267869f",
   "metadata": {},
   "source": [
    "## Data Cleaning Across Features:"
   ]
  },
  {
   "cell_type": "markdown",
   "id": "dfcc3302",
   "metadata": {},
   "source": [
    "### 1. Age:"
   ]
  },
  {
   "cell_type": "markdown",
   "id": "f1d5e130",
   "metadata": {},
   "source": [
    "#### Identifying Errors:"
   ]
  },
  {
   "cell_type": "code",
   "execution_count": 5,
   "id": "a9316fa6",
   "metadata": {
    "scrolled": false
   },
   "outputs": [
    {
     "data": {
      "text/plain": [
       "array(['41', '11', '7', '40', '35', '19', '17', '60', '62', '30', '42',\n",
       "       '46', '4', '78', '81', '43', '44', '24', '57', '53', '32', '12',\n",
       "       '9', '85', '58', '59', '26', '90', '97', '63', '18', '15', '10',\n",
       "       '47', '16', '13', '36', '6', '2', '1', '25', '56', '38', '21',\n",
       "       '31', '74', '67', '65', '71', '79', '45', '61', '72', '54', '33',\n",
       "       '34', '23', '28', '29', '91', '64', '80', '76', '49', '73', '50',\n",
       "       '84', '75', '48', '14', '51', '22', '66', '20', '77', '0', '27',\n",
       "       '86', '68', '5', '83', '55', '69', '70', '39', '82', '88', '37',\n",
       "       '52', '8', '3', '87', '105', '95', '96', '89', '92', '93', '99',\n",
       "       '101', '98', '116', '112', '94', '59.782817341882584', '9.0',\n",
       "       '102', '103', ' ', '100', '104', '106', '59.841399743989754',\n",
       "       '63.841399743989754', '107', '75.27548655560247',\n",
       "       '21.999999999999993', '17.999999999999993'], dtype=object)"
      ]
     },
     "execution_count": 5,
     "metadata": {},
     "output_type": "execute_result"
    }
   ],
   "source": [
    "#Checking the unique entries for Age across the data:\n",
    "census_df['Age'].unique()"
   ]
  },
  {
   "cell_type": "markdown",
   "id": "25865fe6",
   "metadata": {},
   "source": [
    "- Age is stored as an object and not a number and some values are floats.\n",
    "- Some floats have some highly unlikely digits after the decimals. These numbers will be subsequently removed because most ages in the data have no decimals.\n",
    "- Age also contains one empty string as seen above."
   ]
  },
  {
   "cell_type": "code",
   "execution_count": 6,
   "id": "a432ca82",
   "metadata": {
    "scrolled": true
   },
   "outputs": [
    {
     "data": {
      "text/html": [
       "<div>\n",
       "<style scoped>\n",
       "    .dataframe tbody tr th:only-of-type {\n",
       "        vertical-align: middle;\n",
       "    }\n",
       "\n",
       "    .dataframe tbody tr th {\n",
       "        vertical-align: top;\n",
       "    }\n",
       "\n",
       "    .dataframe thead th {\n",
       "        text-align: right;\n",
       "    }\n",
       "</style>\n",
       "<table border=\"1\" class=\"dataframe\">\n",
       "  <thead>\n",
       "    <tr style=\"text-align: right;\">\n",
       "      <th></th>\n",
       "      <th>House Number</th>\n",
       "      <th>Street</th>\n",
       "      <th>First Name</th>\n",
       "      <th>Surname</th>\n",
       "      <th>Age</th>\n",
       "      <th>Relationship to Head of House</th>\n",
       "      <th>Marital Status</th>\n",
       "      <th>Gender</th>\n",
       "      <th>Occupation</th>\n",
       "      <th>Infirmity</th>\n",
       "      <th>Religion</th>\n",
       "    </tr>\n",
       "  </thead>\n",
       "  <tbody>\n",
       "    <tr>\n",
       "      <th>4000</th>\n",
       "      <td>6</td>\n",
       "      <td>Pendragon Lane</td>\n",
       "      <td>Howard</td>\n",
       "      <td>Baker</td>\n",
       "      <td></td>\n",
       "      <td>Son</td>\n",
       "      <td>Single</td>\n",
       "      <td>Male</td>\n",
       "      <td>University Student</td>\n",
       "      <td>None</td>\n",
       "      <td>Methodist</td>\n",
       "    </tr>\n",
       "  </tbody>\n",
       "</table>\n",
       "</div>"
      ],
      "text/plain": [
       "      House Number          Street First Name Surname Age  \\\n",
       "4000             6  Pendragon Lane     Howard   Baker       \n",
       "\n",
       "     Relationship to Head of House Marital Status Gender          Occupation  \\\n",
       "4000                           Son         Single   Male  University Student   \n",
       "\n",
       "     Infirmity   Religion  \n",
       "4000      None  Methodist  "
      ]
     },
     "execution_count": 6,
     "metadata": {},
     "output_type": "execute_result"
    }
   ],
   "source": [
    "census_df[census_df.Age==' ']"
   ]
  },
  {
   "cell_type": "markdown",
   "id": "6f3810d7",
   "metadata": {},
   "source": [
    "- Only one entry located at row 4000 has an empty string (\" \") value for Age."
   ]
  },
  {
   "cell_type": "markdown",
   "id": "e404251b",
   "metadata": {},
   "source": [
    "#### Fixing Errors in Age feature:"
   ]
  },
  {
   "cell_type": "markdown",
   "id": "a5d55762",
   "metadata": {},
   "source": [
    "Treating the floats:"
   ]
  },
  {
   "cell_type": "code",
   "execution_count": 7,
   "id": "b5aeb0f5",
   "metadata": {},
   "outputs": [],
   "source": [
    "#Obtaining a list containing the new age values without decimals:\n",
    "age = [val.split('.')[0] if '.' in val else val for val in census_df.Age]\n",
    "\n",
    "#Converting the age list to array and assigning it to the Age feature in the data.\n",
    "census_df.Age = np.array(age)"
   ]
  },
  {
   "cell_type": "code",
   "execution_count": 8,
   "id": "a92f6086",
   "metadata": {},
   "outputs": [
    {
     "data": {
      "text/plain": [
       "array(['41', '11', '7', '40', '35', '19', '17', '60', '62', '30', '42',\n",
       "       '46', '4', '78', '81', '43', '44', '24', '57', '53', '32', '12',\n",
       "       '9', '85', '58', '59', '26', '90', '97', '63', '18', '15', '10',\n",
       "       '47', '16', '13', '36', '6', '2', '1', '25', '56', '38', '21',\n",
       "       '31', '74', '67', '65', '71', '79', '45', '61', '72', '54', '33',\n",
       "       '34', '23', '28', '29', '91', '64', '80', '76', '49', '73', '50',\n",
       "       '84', '75', '48', '14', '51', '22', '66', '20', '77', '0', '27',\n",
       "       '86', '68', '5', '83', '55', '69', '70', '39', '82', '88', '37',\n",
       "       '52', '8', '3', '87', '105', '95', '96', '89', '92', '93', '99',\n",
       "       '101', '98', '116', '112', '94', '102', '103', ' ', '100', '104',\n",
       "       '106', '107'], dtype=object)"
      ]
     },
     "execution_count": 8,
     "metadata": {},
     "output_type": "execute_result"
    }
   ],
   "source": [
    "#Verifying new age values without decimals:\n",
    "census_df.Age.unique()"
   ]
  },
  {
   "cell_type": "markdown",
   "id": "479adbe5",
   "metadata": {},
   "source": [
    "#### Treating the empty string in Age:"
   ]
  },
  {
   "cell_type": "code",
   "execution_count": 9,
   "id": "2b317a6a",
   "metadata": {},
   "outputs": [
    {
     "data": {
      "text/html": [
       "<div>\n",
       "<style scoped>\n",
       "    .dataframe tbody tr th:only-of-type {\n",
       "        vertical-align: middle;\n",
       "    }\n",
       "\n",
       "    .dataframe tbody tr th {\n",
       "        vertical-align: top;\n",
       "    }\n",
       "\n",
       "    .dataframe thead th {\n",
       "        text-align: right;\n",
       "    }\n",
       "</style>\n",
       "<table border=\"1\" class=\"dataframe\">\n",
       "  <thead>\n",
       "    <tr style=\"text-align: right;\">\n",
       "      <th></th>\n",
       "      <th>House Number</th>\n",
       "      <th>Street</th>\n",
       "      <th>First Name</th>\n",
       "      <th>Surname</th>\n",
       "      <th>Age</th>\n",
       "      <th>Relationship to Head of House</th>\n",
       "      <th>Marital Status</th>\n",
       "      <th>Gender</th>\n",
       "      <th>Occupation</th>\n",
       "      <th>Infirmity</th>\n",
       "      <th>Religion</th>\n",
       "    </tr>\n",
       "  </thead>\n",
       "  <tbody>\n",
       "    <tr>\n",
       "      <th>4000</th>\n",
       "      <td>6</td>\n",
       "      <td>Pendragon Lane</td>\n",
       "      <td>Howard</td>\n",
       "      <td>Baker</td>\n",
       "      <td></td>\n",
       "      <td>Son</td>\n",
       "      <td>Single</td>\n",
       "      <td>Male</td>\n",
       "      <td>University Student</td>\n",
       "      <td>None</td>\n",
       "      <td>Methodist</td>\n",
       "    </tr>\n",
       "  </tbody>\n",
       "</table>\n",
       "</div>"
      ],
      "text/plain": [
       "      House Number          Street First Name Surname Age  \\\n",
       "4000             6  Pendragon Lane     Howard   Baker       \n",
       "\n",
       "     Relationship to Head of House Marital Status Gender          Occupation  \\\n",
       "4000                           Son         Single   Male  University Student   \n",
       "\n",
       "     Infirmity   Religion  \n",
       "4000      None  Methodist  "
      ]
     },
     "execution_count": 9,
     "metadata": {},
     "output_type": "execute_result"
    }
   ],
   "source": [
    "census_df[census_df.Age==' ']"
   ]
  },
  {
   "cell_type": "markdown",
   "id": "adae9f24",
   "metadata": {},
   "source": [
    "- As seen, the person with the empty age value, Howard Baker, is a University Student."
   ]
  },
  {
   "cell_type": "code",
   "execution_count": 10,
   "id": "b887911d",
   "metadata": {},
   "outputs": [
    {
     "data": {
      "text/plain": [
       "array(['19', '21', '22', '20', '18', ' '], dtype=object)"
      ]
     },
     "execution_count": 10,
     "metadata": {},
     "output_type": "execute_result"
    }
   ],
   "source": [
    "#University age range from the data:\n",
    "University_ages = census_df.loc[census_df['Occupation']=='University Student']['Age'].unique()\n",
    "University_ages"
   ]
  },
  {
   "cell_type": "markdown",
   "id": "c7a353fd",
   "metadata": {},
   "source": [
    "- As seen, the ages of University student are 19, 21, 22, 20 and 18. It is highly possible that Howard's age will fall within those age bracket. As a result, the mean age will be computed and used to replace the empty string:"
   ]
  },
  {
   "cell_type": "code",
   "execution_count": 11,
   "id": "ada263a0",
   "metadata": {},
   "outputs": [
    {
     "data": {
      "text/plain": [
       "20.0"
      ]
     },
     "execution_count": 11,
     "metadata": {},
     "output_type": "execute_result"
    }
   ],
   "source": [
    "#Finding the mean age value for the unique ages excluding the empty string:\n",
    "mean_age = University_ages[0:5].astype(int).mean()\n",
    "mean_age"
   ]
  },
  {
   "cell_type": "code",
   "execution_count": 12,
   "id": "1b2a10df",
   "metadata": {},
   "outputs": [],
   "source": [
    "#Replacing the ' ' with the mean age (ie 20) and converting all entries to integer using .astype() method:\n",
    "census_df.Age = census_df.Age.replace(' ', mean_age).astype(int)"
   ]
  },
  {
   "cell_type": "code",
   "execution_count": 13,
   "id": "9e536f7b",
   "metadata": {},
   "outputs": [
    {
     "data": {
      "text/plain": [
       "House Number                                      6\n",
       "Street                               Pendragon Lane\n",
       "First Name                                   Howard\n",
       "Surname                                       Baker\n",
       "Age                                              20\n",
       "Relationship to Head of House                   Son\n",
       "Marital Status                               Single\n",
       "Gender                                         Male\n",
       "Occupation                       University Student\n",
       "Infirmity                                      None\n",
       "Religion                                  Methodist\n",
       "Name: 4000, dtype: object"
      ]
     },
     "execution_count": 13,
     "metadata": {},
     "output_type": "execute_result"
    }
   ],
   "source": [
    "#Verifying that Age for Howard has been filled with 20:\n",
    "census_df.loc[4000, :]"
   ]
  },
  {
   "cell_type": "code",
   "execution_count": 14,
   "id": "e0876844",
   "metadata": {
    "scrolled": true
   },
   "outputs": [
    {
     "name": "stdout",
     "output_type": "stream",
     "text": [
      "<class 'pandas.core.frame.DataFrame'>\n",
      "RangeIndex: 8377 entries, 0 to 8376\n",
      "Data columns (total 11 columns):\n",
      " #   Column                         Non-Null Count  Dtype \n",
      "---  ------                         --------------  ----- \n",
      " 0   House Number                   8377 non-null   int64 \n",
      " 1   Street                         8377 non-null   object\n",
      " 2   First Name                     8377 non-null   object\n",
      " 3   Surname                        8377 non-null   object\n",
      " 4   Age                            8377 non-null   int32 \n",
      " 5   Relationship to Head of House  8377 non-null   object\n",
      " 6   Marital Status                 6402 non-null   object\n",
      " 7   Gender                         8377 non-null   object\n",
      " 8   Occupation                     8377 non-null   object\n",
      " 9   Infirmity                      8377 non-null   object\n",
      " 10  Religion                       6365 non-null   object\n",
      "dtypes: int32(1), int64(1), object(9)\n",
      "memory usage: 687.3+ KB\n"
     ]
    }
   ],
   "source": [
    "census_df.info()"
   ]
  },
  {
   "cell_type": "markdown",
   "id": "cbd8f502",
   "metadata": {},
   "source": [
    "- The Age feature now shows a dtype of int32 meaning it has been casted to integers."
   ]
  },
  {
   "cell_type": "markdown",
   "id": "e0876b82",
   "metadata": {},
   "source": [
    "### House Number:"
   ]
  },
  {
   "cell_type": "code",
   "execution_count": 15,
   "id": "99318cb3",
   "metadata": {},
   "outputs": [
    {
     "data": {
      "text/html": [
       "<div>\n",
       "<style scoped>\n",
       "    .dataframe tbody tr th:only-of-type {\n",
       "        vertical-align: middle;\n",
       "    }\n",
       "\n",
       "    .dataframe tbody tr th {\n",
       "        vertical-align: top;\n",
       "    }\n",
       "\n",
       "    .dataframe thead th {\n",
       "        text-align: right;\n",
       "    }\n",
       "</style>\n",
       "<table border=\"1\" class=\"dataframe\">\n",
       "  <thead>\n",
       "    <tr style=\"text-align: right;\">\n",
       "      <th></th>\n",
       "      <th>House Number</th>\n",
       "      <th>Street</th>\n",
       "      <th>First Name</th>\n",
       "      <th>Surname</th>\n",
       "      <th>Age</th>\n",
       "      <th>Relationship to Head of House</th>\n",
       "      <th>Marital Status</th>\n",
       "      <th>Gender</th>\n",
       "      <th>Occupation</th>\n",
       "      <th>Infirmity</th>\n",
       "      <th>Religion</th>\n",
       "    </tr>\n",
       "  </thead>\n",
       "  <tbody>\n",
       "  </tbody>\n",
       "</table>\n",
       "</div>"
      ],
      "text/plain": [
       "Empty DataFrame\n",
       "Columns: [House Number, Street, First Name, Surname, Age, Relationship to Head of House, Marital Status, Gender, Occupation, Infirmity, Religion]\n",
       "Index: []"
      ]
     },
     "execution_count": 15,
     "metadata": {},
     "output_type": "execute_result"
    }
   ],
   "source": [
    "census_df[census_df['House Number']==' ']"
   ]
  },
  {
   "cell_type": "markdown",
   "id": "d26b9bcd",
   "metadata": {},
   "source": [
    "- There are no error entry in the House Number feature."
   ]
  },
  {
   "cell_type": "markdown",
   "id": "ca216c94",
   "metadata": {},
   "source": [
    "### Street:"
   ]
  },
  {
   "cell_type": "code",
   "execution_count": 16,
   "id": "92002415",
   "metadata": {},
   "outputs": [
    {
     "data": {
      "text/html": [
       "<div>\n",
       "<style scoped>\n",
       "    .dataframe tbody tr th:only-of-type {\n",
       "        vertical-align: middle;\n",
       "    }\n",
       "\n",
       "    .dataframe tbody tr th {\n",
       "        vertical-align: top;\n",
       "    }\n",
       "\n",
       "    .dataframe thead th {\n",
       "        text-align: right;\n",
       "    }\n",
       "</style>\n",
       "<table border=\"1\" class=\"dataframe\">\n",
       "  <thead>\n",
       "    <tr style=\"text-align: right;\">\n",
       "      <th></th>\n",
       "      <th>House Number</th>\n",
       "      <th>Street</th>\n",
       "      <th>First Name</th>\n",
       "      <th>Surname</th>\n",
       "      <th>Age</th>\n",
       "      <th>Relationship to Head of House</th>\n",
       "      <th>Marital Status</th>\n",
       "      <th>Gender</th>\n",
       "      <th>Occupation</th>\n",
       "      <th>Infirmity</th>\n",
       "      <th>Religion</th>\n",
       "    </tr>\n",
       "  </thead>\n",
       "  <tbody>\n",
       "  </tbody>\n",
       "</table>\n",
       "</div>"
      ],
      "text/plain": [
       "Empty DataFrame\n",
       "Columns: [House Number, Street, First Name, Surname, Age, Relationship to Head of House, Marital Status, Gender, Occupation, Infirmity, Religion]\n",
       "Index: []"
      ]
     },
     "execution_count": 16,
     "metadata": {},
     "output_type": "execute_result"
    }
   ],
   "source": [
    "census_df[census_df['Street']==' ']"
   ]
  },
  {
   "cell_type": "markdown",
   "id": "c8afca9a",
   "metadata": {},
   "source": [
    "- No errors as well."
   ]
  },
  {
   "cell_type": "markdown",
   "id": "75659383",
   "metadata": {},
   "source": [
    "### First Name:"
   ]
  },
  {
   "cell_type": "code",
   "execution_count": 17,
   "id": "8b29b65c",
   "metadata": {},
   "outputs": [
    {
     "data": {
      "text/html": [
       "<div>\n",
       "<style scoped>\n",
       "    .dataframe tbody tr th:only-of-type {\n",
       "        vertical-align: middle;\n",
       "    }\n",
       "\n",
       "    .dataframe tbody tr th {\n",
       "        vertical-align: top;\n",
       "    }\n",
       "\n",
       "    .dataframe thead th {\n",
       "        text-align: right;\n",
       "    }\n",
       "</style>\n",
       "<table border=\"1\" class=\"dataframe\">\n",
       "  <thead>\n",
       "    <tr style=\"text-align: right;\">\n",
       "      <th></th>\n",
       "      <th>House Number</th>\n",
       "      <th>Street</th>\n",
       "      <th>First Name</th>\n",
       "      <th>Surname</th>\n",
       "      <th>Age</th>\n",
       "      <th>Relationship to Head of House</th>\n",
       "      <th>Marital Status</th>\n",
       "      <th>Gender</th>\n",
       "      <th>Occupation</th>\n",
       "      <th>Infirmity</th>\n",
       "      <th>Religion</th>\n",
       "    </tr>\n",
       "  </thead>\n",
       "  <tbody>\n",
       "    <tr>\n",
       "      <th>1497</th>\n",
       "      <td>4</td>\n",
       "      <td>Power Keys</td>\n",
       "      <td></td>\n",
       "      <td>Frost</td>\n",
       "      <td>88</td>\n",
       "      <td>Head</td>\n",
       "      <td>Widowed</td>\n",
       "      <td>Male</td>\n",
       "      <td>Retired Civil Service fast streamer</td>\n",
       "      <td>None</td>\n",
       "      <td>Methodist</td>\n",
       "    </tr>\n",
       "  </tbody>\n",
       "</table>\n",
       "</div>"
      ],
      "text/plain": [
       "      House Number      Street First Name Surname  Age  \\\n",
       "1497             4  Power Keys              Frost   88   \n",
       "\n",
       "     Relationship to Head of House Marital Status Gender  \\\n",
       "1497                          Head        Widowed   Male   \n",
       "\n",
       "                               Occupation Infirmity   Religion  \n",
       "1497  Retired Civil Service fast streamer      None  Methodist  "
      ]
     },
     "execution_count": 17,
     "metadata": {},
     "output_type": "execute_result"
    }
   ],
   "source": [
    "#Returning entries where First Name is \"  \":\n",
    "census_df[census_df['First Name']==' ']"
   ]
  },
  {
   "cell_type": "markdown",
   "id": "06e024dc",
   "metadata": {},
   "source": [
    "- It is almost imposible to predict the first name of a person. However, from the details of the data, which is to help the government plan beter, the first name of a person has little or no effect on the both the goal of the data collection and the census outcome. Hence, I will assign the surname (Frost) as the first name:\n",
    "\n",
    "- Row number for this entry is 1497"
   ]
  },
  {
   "cell_type": "code",
   "execution_count": 18,
   "id": "1bda7d33",
   "metadata": {},
   "outputs": [],
   "source": [
    "#Replacing First name with 'Frost':\n",
    "census_df.loc[1497, 'First Name'] = 'No Entry'"
   ]
  },
  {
   "cell_type": "code",
   "execution_count": 19,
   "id": "85edc5a8",
   "metadata": {},
   "outputs": [
    {
     "data": {
      "text/html": [
       "<div>\n",
       "<style scoped>\n",
       "    .dataframe tbody tr th:only-of-type {\n",
       "        vertical-align: middle;\n",
       "    }\n",
       "\n",
       "    .dataframe tbody tr th {\n",
       "        vertical-align: top;\n",
       "    }\n",
       "\n",
       "    .dataframe thead th {\n",
       "        text-align: right;\n",
       "    }\n",
       "</style>\n",
       "<table border=\"1\" class=\"dataframe\">\n",
       "  <thead>\n",
       "    <tr style=\"text-align: right;\">\n",
       "      <th></th>\n",
       "      <th>House Number</th>\n",
       "      <th>Street</th>\n",
       "      <th>First Name</th>\n",
       "      <th>Surname</th>\n",
       "      <th>Age</th>\n",
       "      <th>Relationship to Head of House</th>\n",
       "      <th>Marital Status</th>\n",
       "      <th>Gender</th>\n",
       "      <th>Occupation</th>\n",
       "      <th>Infirmity</th>\n",
       "      <th>Religion</th>\n",
       "    </tr>\n",
       "  </thead>\n",
       "  <tbody>\n",
       "    <tr>\n",
       "      <th>1497</th>\n",
       "      <td>4</td>\n",
       "      <td>Power Keys</td>\n",
       "      <td>No Entry</td>\n",
       "      <td>Frost</td>\n",
       "      <td>88</td>\n",
       "      <td>Head</td>\n",
       "      <td>Widowed</td>\n",
       "      <td>Male</td>\n",
       "      <td>Retired Civil Service fast streamer</td>\n",
       "      <td>None</td>\n",
       "      <td>Methodist</td>\n",
       "    </tr>\n",
       "  </tbody>\n",
       "</table>\n",
       "</div>"
      ],
      "text/plain": [
       "      House Number      Street First Name Surname  Age  \\\n",
       "1497             4  Power Keys   No Entry   Frost   88   \n",
       "\n",
       "     Relationship to Head of House Marital Status Gender  \\\n",
       "1497                          Head        Widowed   Male   \n",
       "\n",
       "                               Occupation Infirmity   Religion  \n",
       "1497  Retired Civil Service fast streamer      None  Methodist  "
      ]
     },
     "execution_count": 19,
     "metadata": {},
     "output_type": "execute_result"
    }
   ],
   "source": [
    "#Verifying First name change:\n",
    "census_df.loc[(census_df['Surname']=='Frost') & (census_df['Street']=='Power Keys')]"
   ]
  },
  {
   "cell_type": "markdown",
   "id": "dc301fbf",
   "metadata": {},
   "source": [
    "### Surname:"
   ]
  },
  {
   "cell_type": "code",
   "execution_count": 20,
   "id": "c06bd01b",
   "metadata": {},
   "outputs": [
    {
     "data": {
      "text/html": [
       "<div>\n",
       "<style scoped>\n",
       "    .dataframe tbody tr th:only-of-type {\n",
       "        vertical-align: middle;\n",
       "    }\n",
       "\n",
       "    .dataframe tbody tr th {\n",
       "        vertical-align: top;\n",
       "    }\n",
       "\n",
       "    .dataframe thead th {\n",
       "        text-align: right;\n",
       "    }\n",
       "</style>\n",
       "<table border=\"1\" class=\"dataframe\">\n",
       "  <thead>\n",
       "    <tr style=\"text-align: right;\">\n",
       "      <th></th>\n",
       "      <th>House Number</th>\n",
       "      <th>Street</th>\n",
       "      <th>First Name</th>\n",
       "      <th>Surname</th>\n",
       "      <th>Age</th>\n",
       "      <th>Relationship to Head of House</th>\n",
       "      <th>Marital Status</th>\n",
       "      <th>Gender</th>\n",
       "      <th>Occupation</th>\n",
       "      <th>Infirmity</th>\n",
       "      <th>Religion</th>\n",
       "    </tr>\n",
       "  </thead>\n",
       "  <tbody>\n",
       "    <tr>\n",
       "      <th>60</th>\n",
       "      <td>8</td>\n",
       "      <td>Telegraphnet Street</td>\n",
       "      <td>Linda</td>\n",
       "      <td></td>\n",
       "      <td>41</td>\n",
       "      <td>Daughter</td>\n",
       "      <td>Single</td>\n",
       "      <td>Female</td>\n",
       "      <td>Commercial art gallery manager</td>\n",
       "      <td>None</td>\n",
       "      <td>Christian</td>\n",
       "    </tr>\n",
       "    <tr>\n",
       "      <th>4236</th>\n",
       "      <td>48</td>\n",
       "      <td>Chan Estate</td>\n",
       "      <td>Denise</td>\n",
       "      <td></td>\n",
       "      <td>9</td>\n",
       "      <td>Adopted Daughter</td>\n",
       "      <td>NaN</td>\n",
       "      <td>Female</td>\n",
       "      <td>Student</td>\n",
       "      <td>None</td>\n",
       "      <td>NaN</td>\n",
       "    </tr>\n",
       "  </tbody>\n",
       "</table>\n",
       "</div>"
      ],
      "text/plain": [
       "      House Number               Street First Name Surname  Age  \\\n",
       "60               8  Telegraphnet Street      Linda           41   \n",
       "4236            48          Chan Estate     Denise            9   \n",
       "\n",
       "     Relationship to Head of House Marital Status  Gender  \\\n",
       "60                        Daughter         Single  Female   \n",
       "4236              Adopted Daughter            NaN  Female   \n",
       "\n",
       "                          Occupation Infirmity   Religion  \n",
       "60    Commercial art gallery manager      None  Christian  \n",
       "4236                         Student      None        NaN  "
      ]
     },
     "execution_count": 20,
     "metadata": {},
     "output_type": "execute_result"
    }
   ],
   "source": [
    "#Returning entries where Surname is \"  \"\n",
    "census_df[census_df['Surname']==' ']"
   ]
  },
  {
   "cell_type": "markdown",
   "id": "cf4195d9",
   "metadata": {},
   "source": [
    "- Two entries at row 60 and 4236 has empty values as Surname."
   ]
  },
  {
   "cell_type": "code",
   "execution_count": 21,
   "id": "8bc31673",
   "metadata": {},
   "outputs": [
    {
     "data": {
      "text/html": [
       "<div>\n",
       "<style scoped>\n",
       "    .dataframe tbody tr th:only-of-type {\n",
       "        vertical-align: middle;\n",
       "    }\n",
       "\n",
       "    .dataframe tbody tr th {\n",
       "        vertical-align: top;\n",
       "    }\n",
       "\n",
       "    .dataframe thead th {\n",
       "        text-align: right;\n",
       "    }\n",
       "</style>\n",
       "<table border=\"1\" class=\"dataframe\">\n",
       "  <thead>\n",
       "    <tr style=\"text-align: right;\">\n",
       "      <th></th>\n",
       "      <th>House Number</th>\n",
       "      <th>Street</th>\n",
       "      <th>First Name</th>\n",
       "      <th>Surname</th>\n",
       "      <th>Age</th>\n",
       "      <th>Relationship to Head of House</th>\n",
       "      <th>Marital Status</th>\n",
       "      <th>Gender</th>\n",
       "      <th>Occupation</th>\n",
       "      <th>Infirmity</th>\n",
       "      <th>Religion</th>\n",
       "    </tr>\n",
       "  </thead>\n",
       "  <tbody>\n",
       "    <tr>\n",
       "      <th>57</th>\n",
       "      <td>8</td>\n",
       "      <td>Telegraphnet Street</td>\n",
       "      <td>Elaine</td>\n",
       "      <td>Patel</td>\n",
       "      <td>78</td>\n",
       "      <td>Head</td>\n",
       "      <td>Divorced</td>\n",
       "      <td>Female</td>\n",
       "      <td>Retired Clinical biochemist</td>\n",
       "      <td>None</td>\n",
       "      <td>Christian</td>\n",
       "    </tr>\n",
       "    <tr>\n",
       "      <th>58</th>\n",
       "      <td>8</td>\n",
       "      <td>Telegraphnet Street</td>\n",
       "      <td>Kate</td>\n",
       "      <td>Patel</td>\n",
       "      <td>44</td>\n",
       "      <td>Daughter</td>\n",
       "      <td>Single</td>\n",
       "      <td>Female</td>\n",
       "      <td>Translator</td>\n",
       "      <td>None</td>\n",
       "      <td>Christian</td>\n",
       "    </tr>\n",
       "    <tr>\n",
       "      <th>59</th>\n",
       "      <td>8</td>\n",
       "      <td>Telegraphnet Street</td>\n",
       "      <td>Damien</td>\n",
       "      <td>Patel</td>\n",
       "      <td>42</td>\n",
       "      <td>Son</td>\n",
       "      <td>Single</td>\n",
       "      <td>Male</td>\n",
       "      <td>Tourist information centre manager</td>\n",
       "      <td>None</td>\n",
       "      <td>Christian</td>\n",
       "    </tr>\n",
       "    <tr>\n",
       "      <th>60</th>\n",
       "      <td>8</td>\n",
       "      <td>Telegraphnet Street</td>\n",
       "      <td>Linda</td>\n",
       "      <td></td>\n",
       "      <td>41</td>\n",
       "      <td>Daughter</td>\n",
       "      <td>Single</td>\n",
       "      <td>Female</td>\n",
       "      <td>Commercial art gallery manager</td>\n",
       "      <td>None</td>\n",
       "      <td>Christian</td>\n",
       "    </tr>\n",
       "    <tr>\n",
       "      <th>61</th>\n",
       "      <td>8</td>\n",
       "      <td>Telegraphnet Street</td>\n",
       "      <td>Patricia</td>\n",
       "      <td>Patel</td>\n",
       "      <td>38</td>\n",
       "      <td>Daughter</td>\n",
       "      <td>Divorced</td>\n",
       "      <td>Female</td>\n",
       "      <td>Psychiatrist</td>\n",
       "      <td>None</td>\n",
       "      <td>Christian</td>\n",
       "    </tr>\n",
       "  </tbody>\n",
       "</table>\n",
       "</div>"
      ],
      "text/plain": [
       "    House Number               Street First Name Surname  Age  \\\n",
       "57             8  Telegraphnet Street     Elaine   Patel   78   \n",
       "58             8  Telegraphnet Street       Kate   Patel   44   \n",
       "59             8  Telegraphnet Street     Damien   Patel   42   \n",
       "60             8  Telegraphnet Street      Linda           41   \n",
       "61             8  Telegraphnet Street   Patricia   Patel   38   \n",
       "\n",
       "   Relationship to Head of House Marital Status  Gender  \\\n",
       "57                          Head       Divorced  Female   \n",
       "58                      Daughter         Single  Female   \n",
       "59                           Son         Single    Male   \n",
       "60                      Daughter         Single  Female   \n",
       "61                      Daughter       Divorced  Female   \n",
       "\n",
       "                            Occupation Infirmity   Religion  \n",
       "57         Retired Clinical biochemist      None  Christian  \n",
       "58                          Translator      None  Christian  \n",
       "59  Tourist information centre manager      None  Christian  \n",
       "60      Commercial art gallery manager      None  Christian  \n",
       "61                        Psychiatrist      None  Christian  "
      ]
     },
     "execution_count": 21,
     "metadata": {},
     "output_type": "execute_result"
    }
   ],
   "source": [
    "#checking details of everyone living at same address as row 60:\n",
    "census_df.loc[(census_df['House Number']==8) & (census_df['Street']=='Telegraphnet Street')]"
   ]
  },
  {
   "cell_type": "code",
   "execution_count": 22,
   "id": "f89859b0",
   "metadata": {},
   "outputs": [
    {
     "data": {
      "text/html": [
       "<div>\n",
       "<style scoped>\n",
       "    .dataframe tbody tr th:only-of-type {\n",
       "        vertical-align: middle;\n",
       "    }\n",
       "\n",
       "    .dataframe tbody tr th {\n",
       "        vertical-align: top;\n",
       "    }\n",
       "\n",
       "    .dataframe thead th {\n",
       "        text-align: right;\n",
       "    }\n",
       "</style>\n",
       "<table border=\"1\" class=\"dataframe\">\n",
       "  <thead>\n",
       "    <tr style=\"text-align: right;\">\n",
       "      <th></th>\n",
       "      <th>House Number</th>\n",
       "      <th>Street</th>\n",
       "      <th>First Name</th>\n",
       "      <th>Surname</th>\n",
       "      <th>Age</th>\n",
       "      <th>Relationship to Head of House</th>\n",
       "      <th>Marital Status</th>\n",
       "      <th>Gender</th>\n",
       "      <th>Occupation</th>\n",
       "      <th>Infirmity</th>\n",
       "      <th>Religion</th>\n",
       "    </tr>\n",
       "  </thead>\n",
       "  <tbody>\n",
       "    <tr>\n",
       "      <th>4232</th>\n",
       "      <td>48</td>\n",
       "      <td>Chan Estate</td>\n",
       "      <td>Francesca</td>\n",
       "      <td>Lloyd</td>\n",
       "      <td>37</td>\n",
       "      <td>Head</td>\n",
       "      <td>Married</td>\n",
       "      <td>Female</td>\n",
       "      <td>Drilling engineer</td>\n",
       "      <td>None</td>\n",
       "      <td>Catholic</td>\n",
       "    </tr>\n",
       "    <tr>\n",
       "      <th>4233</th>\n",
       "      <td>48</td>\n",
       "      <td>Chan Estate</td>\n",
       "      <td>Shane</td>\n",
       "      <td>Lloyd</td>\n",
       "      <td>41</td>\n",
       "      <td>Husband</td>\n",
       "      <td>Married</td>\n",
       "      <td>Male</td>\n",
       "      <td>Banker</td>\n",
       "      <td>None</td>\n",
       "      <td>Catholic</td>\n",
       "    </tr>\n",
       "    <tr>\n",
       "      <th>4234</th>\n",
       "      <td>48</td>\n",
       "      <td>Chan Estate</td>\n",
       "      <td>Alexandra</td>\n",
       "      <td>Lloyd</td>\n",
       "      <td>13</td>\n",
       "      <td>Daughter</td>\n",
       "      <td>NaN</td>\n",
       "      <td>Female</td>\n",
       "      <td>Student</td>\n",
       "      <td>None</td>\n",
       "      <td>NaN</td>\n",
       "    </tr>\n",
       "    <tr>\n",
       "      <th>4235</th>\n",
       "      <td>48</td>\n",
       "      <td>Chan Estate</td>\n",
       "      <td>Arthur</td>\n",
       "      <td>Lloyd</td>\n",
       "      <td>12</td>\n",
       "      <td>Son</td>\n",
       "      <td>NaN</td>\n",
       "      <td>Male</td>\n",
       "      <td>Student</td>\n",
       "      <td>None</td>\n",
       "      <td>NaN</td>\n",
       "    </tr>\n",
       "    <tr>\n",
       "      <th>4236</th>\n",
       "      <td>48</td>\n",
       "      <td>Chan Estate</td>\n",
       "      <td>Denise</td>\n",
       "      <td></td>\n",
       "      <td>9</td>\n",
       "      <td>Adopted Daughter</td>\n",
       "      <td>NaN</td>\n",
       "      <td>Female</td>\n",
       "      <td>Student</td>\n",
       "      <td>None</td>\n",
       "      <td>NaN</td>\n",
       "    </tr>\n",
       "  </tbody>\n",
       "</table>\n",
       "</div>"
      ],
      "text/plain": [
       "      House Number       Street First Name Surname  Age  \\\n",
       "4232            48  Chan Estate  Francesca   Lloyd   37   \n",
       "4233            48  Chan Estate      Shane   Lloyd   41   \n",
       "4234            48  Chan Estate  Alexandra   Lloyd   13   \n",
       "4235            48  Chan Estate     Arthur   Lloyd   12   \n",
       "4236            48  Chan Estate     Denise            9   \n",
       "\n",
       "     Relationship to Head of House Marital Status  Gender         Occupation  \\\n",
       "4232                          Head        Married  Female  Drilling engineer   \n",
       "4233                       Husband        Married    Male             Banker   \n",
       "4234                      Daughter            NaN  Female            Student   \n",
       "4235                           Son            NaN    Male            Student   \n",
       "4236              Adopted Daughter            NaN  Female            Student   \n",
       "\n",
       "     Infirmity  Religion  \n",
       "4232      None  Catholic  \n",
       "4233      None  Catholic  \n",
       "4234      None       NaN  \n",
       "4235      None       NaN  \n",
       "4236      None       NaN  "
      ]
     },
     "execution_count": 22,
     "metadata": {},
     "output_type": "execute_result"
    }
   ],
   "source": [
    "#checking details of everyone living at same address as row 4236:\n",
    "census_df.loc[(census_df['House Number']==48) & (census_df['Street']=='Chan Estate')]"
   ]
  },
  {
   "cell_type": "markdown",
   "id": "1c800b7b",
   "metadata": {},
   "source": [
    "- It is clear that the surnames for both entries are Patel and Lloyd respectively."
   ]
  },
  {
   "cell_type": "code",
   "execution_count": 23,
   "id": "938d905d",
   "metadata": {
    "scrolled": true
   },
   "outputs": [],
   "source": [
    "#Replacing the Surnames with 'Patel' and 'Lloyd' respectively:\n",
    "census_df.loc[60,'Surname'] = census_df.loc[60,'Surname'].replace(' ', 'Patel')\n",
    "\n",
    "census_df.loc[4236,'Surname'] = census_df.loc[4236,'Surname'].replace(' ', 'Lloyd')"
   ]
  },
  {
   "cell_type": "code",
   "execution_count": 24,
   "id": "01f1ce4c",
   "metadata": {},
   "outputs": [
    {
     "data": {
      "text/html": [
       "<div>\n",
       "<style scoped>\n",
       "    .dataframe tbody tr th:only-of-type {\n",
       "        vertical-align: middle;\n",
       "    }\n",
       "\n",
       "    .dataframe tbody tr th {\n",
       "        vertical-align: top;\n",
       "    }\n",
       "\n",
       "    .dataframe thead th {\n",
       "        text-align: right;\n",
       "    }\n",
       "</style>\n",
       "<table border=\"1\" class=\"dataframe\">\n",
       "  <thead>\n",
       "    <tr style=\"text-align: right;\">\n",
       "      <th></th>\n",
       "      <th>House Number</th>\n",
       "      <th>Street</th>\n",
       "      <th>First Name</th>\n",
       "      <th>Surname</th>\n",
       "      <th>Age</th>\n",
       "      <th>Relationship to Head of House</th>\n",
       "      <th>Marital Status</th>\n",
       "      <th>Gender</th>\n",
       "      <th>Occupation</th>\n",
       "      <th>Infirmity</th>\n",
       "      <th>Religion</th>\n",
       "    </tr>\n",
       "  </thead>\n",
       "  <tbody>\n",
       "    <tr>\n",
       "      <th>57</th>\n",
       "      <td>8</td>\n",
       "      <td>Telegraphnet Street</td>\n",
       "      <td>Elaine</td>\n",
       "      <td>Patel</td>\n",
       "      <td>78</td>\n",
       "      <td>Head</td>\n",
       "      <td>Divorced</td>\n",
       "      <td>Female</td>\n",
       "      <td>Retired Clinical biochemist</td>\n",
       "      <td>None</td>\n",
       "      <td>Christian</td>\n",
       "    </tr>\n",
       "    <tr>\n",
       "      <th>58</th>\n",
       "      <td>8</td>\n",
       "      <td>Telegraphnet Street</td>\n",
       "      <td>Kate</td>\n",
       "      <td>Patel</td>\n",
       "      <td>44</td>\n",
       "      <td>Daughter</td>\n",
       "      <td>Single</td>\n",
       "      <td>Female</td>\n",
       "      <td>Translator</td>\n",
       "      <td>None</td>\n",
       "      <td>Christian</td>\n",
       "    </tr>\n",
       "    <tr>\n",
       "      <th>59</th>\n",
       "      <td>8</td>\n",
       "      <td>Telegraphnet Street</td>\n",
       "      <td>Damien</td>\n",
       "      <td>Patel</td>\n",
       "      <td>42</td>\n",
       "      <td>Son</td>\n",
       "      <td>Single</td>\n",
       "      <td>Male</td>\n",
       "      <td>Tourist information centre manager</td>\n",
       "      <td>None</td>\n",
       "      <td>Christian</td>\n",
       "    </tr>\n",
       "    <tr>\n",
       "      <th>60</th>\n",
       "      <td>8</td>\n",
       "      <td>Telegraphnet Street</td>\n",
       "      <td>Linda</td>\n",
       "      <td>Patel</td>\n",
       "      <td>41</td>\n",
       "      <td>Daughter</td>\n",
       "      <td>Single</td>\n",
       "      <td>Female</td>\n",
       "      <td>Commercial art gallery manager</td>\n",
       "      <td>None</td>\n",
       "      <td>Christian</td>\n",
       "    </tr>\n",
       "    <tr>\n",
       "      <th>61</th>\n",
       "      <td>8</td>\n",
       "      <td>Telegraphnet Street</td>\n",
       "      <td>Patricia</td>\n",
       "      <td>Patel</td>\n",
       "      <td>38</td>\n",
       "      <td>Daughter</td>\n",
       "      <td>Divorced</td>\n",
       "      <td>Female</td>\n",
       "      <td>Psychiatrist</td>\n",
       "      <td>None</td>\n",
       "      <td>Christian</td>\n",
       "    </tr>\n",
       "  </tbody>\n",
       "</table>\n",
       "</div>"
      ],
      "text/plain": [
       "    House Number               Street First Name Surname  Age  \\\n",
       "57             8  Telegraphnet Street     Elaine   Patel   78   \n",
       "58             8  Telegraphnet Street       Kate   Patel   44   \n",
       "59             8  Telegraphnet Street     Damien   Patel   42   \n",
       "60             8  Telegraphnet Street      Linda   Patel   41   \n",
       "61             8  Telegraphnet Street   Patricia   Patel   38   \n",
       "\n",
       "   Relationship to Head of House Marital Status  Gender  \\\n",
       "57                          Head       Divorced  Female   \n",
       "58                      Daughter         Single  Female   \n",
       "59                           Son         Single    Male   \n",
       "60                      Daughter         Single  Female   \n",
       "61                      Daughter       Divorced  Female   \n",
       "\n",
       "                            Occupation Infirmity   Religion  \n",
       "57         Retired Clinical biochemist      None  Christian  \n",
       "58                          Translator      None  Christian  \n",
       "59  Tourist information centre manager      None  Christian  \n",
       "60      Commercial art gallery manager      None  Christian  \n",
       "61                        Psychiatrist      None  Christian  "
      ]
     },
     "execution_count": 24,
     "metadata": {},
     "output_type": "execute_result"
    }
   ],
   "source": [
    "#Verifying Surname change:\n",
    "census_df.loc[(census_df['House Number']==8) & (census_df['Street']=='Telegraphnet Street')]"
   ]
  },
  {
   "cell_type": "code",
   "execution_count": 25,
   "id": "d3a06e40",
   "metadata": {},
   "outputs": [
    {
     "data": {
      "text/html": [
       "<div>\n",
       "<style scoped>\n",
       "    .dataframe tbody tr th:only-of-type {\n",
       "        vertical-align: middle;\n",
       "    }\n",
       "\n",
       "    .dataframe tbody tr th {\n",
       "        vertical-align: top;\n",
       "    }\n",
       "\n",
       "    .dataframe thead th {\n",
       "        text-align: right;\n",
       "    }\n",
       "</style>\n",
       "<table border=\"1\" class=\"dataframe\">\n",
       "  <thead>\n",
       "    <tr style=\"text-align: right;\">\n",
       "      <th></th>\n",
       "      <th>House Number</th>\n",
       "      <th>Street</th>\n",
       "      <th>First Name</th>\n",
       "      <th>Surname</th>\n",
       "      <th>Age</th>\n",
       "      <th>Relationship to Head of House</th>\n",
       "      <th>Marital Status</th>\n",
       "      <th>Gender</th>\n",
       "      <th>Occupation</th>\n",
       "      <th>Infirmity</th>\n",
       "      <th>Religion</th>\n",
       "    </tr>\n",
       "  </thead>\n",
       "  <tbody>\n",
       "    <tr>\n",
       "      <th>4232</th>\n",
       "      <td>48</td>\n",
       "      <td>Chan Estate</td>\n",
       "      <td>Francesca</td>\n",
       "      <td>Lloyd</td>\n",
       "      <td>37</td>\n",
       "      <td>Head</td>\n",
       "      <td>Married</td>\n",
       "      <td>Female</td>\n",
       "      <td>Drilling engineer</td>\n",
       "      <td>None</td>\n",
       "      <td>Catholic</td>\n",
       "    </tr>\n",
       "    <tr>\n",
       "      <th>4233</th>\n",
       "      <td>48</td>\n",
       "      <td>Chan Estate</td>\n",
       "      <td>Shane</td>\n",
       "      <td>Lloyd</td>\n",
       "      <td>41</td>\n",
       "      <td>Husband</td>\n",
       "      <td>Married</td>\n",
       "      <td>Male</td>\n",
       "      <td>Banker</td>\n",
       "      <td>None</td>\n",
       "      <td>Catholic</td>\n",
       "    </tr>\n",
       "    <tr>\n",
       "      <th>4234</th>\n",
       "      <td>48</td>\n",
       "      <td>Chan Estate</td>\n",
       "      <td>Alexandra</td>\n",
       "      <td>Lloyd</td>\n",
       "      <td>13</td>\n",
       "      <td>Daughter</td>\n",
       "      <td>NaN</td>\n",
       "      <td>Female</td>\n",
       "      <td>Student</td>\n",
       "      <td>None</td>\n",
       "      <td>NaN</td>\n",
       "    </tr>\n",
       "    <tr>\n",
       "      <th>4235</th>\n",
       "      <td>48</td>\n",
       "      <td>Chan Estate</td>\n",
       "      <td>Arthur</td>\n",
       "      <td>Lloyd</td>\n",
       "      <td>12</td>\n",
       "      <td>Son</td>\n",
       "      <td>NaN</td>\n",
       "      <td>Male</td>\n",
       "      <td>Student</td>\n",
       "      <td>None</td>\n",
       "      <td>NaN</td>\n",
       "    </tr>\n",
       "    <tr>\n",
       "      <th>4236</th>\n",
       "      <td>48</td>\n",
       "      <td>Chan Estate</td>\n",
       "      <td>Denise</td>\n",
       "      <td>Lloyd</td>\n",
       "      <td>9</td>\n",
       "      <td>Adopted Daughter</td>\n",
       "      <td>NaN</td>\n",
       "      <td>Female</td>\n",
       "      <td>Student</td>\n",
       "      <td>None</td>\n",
       "      <td>NaN</td>\n",
       "    </tr>\n",
       "  </tbody>\n",
       "</table>\n",
       "</div>"
      ],
      "text/plain": [
       "      House Number       Street First Name Surname  Age  \\\n",
       "4232            48  Chan Estate  Francesca   Lloyd   37   \n",
       "4233            48  Chan Estate      Shane   Lloyd   41   \n",
       "4234            48  Chan Estate  Alexandra   Lloyd   13   \n",
       "4235            48  Chan Estate     Arthur   Lloyd   12   \n",
       "4236            48  Chan Estate     Denise   Lloyd    9   \n",
       "\n",
       "     Relationship to Head of House Marital Status  Gender         Occupation  \\\n",
       "4232                          Head        Married  Female  Drilling engineer   \n",
       "4233                       Husband        Married    Male             Banker   \n",
       "4234                      Daughter            NaN  Female            Student   \n",
       "4235                           Son            NaN    Male            Student   \n",
       "4236              Adopted Daughter            NaN  Female            Student   \n",
       "\n",
       "     Infirmity  Religion  \n",
       "4232      None  Catholic  \n",
       "4233      None  Catholic  \n",
       "4234      None       NaN  \n",
       "4235      None       NaN  \n",
       "4236      None       NaN  "
      ]
     },
     "execution_count": 25,
     "metadata": {},
     "output_type": "execute_result"
    }
   ],
   "source": [
    "#Verifying Surname change:\n",
    "census_df.loc[(census_df['House Number']==48) & (census_df['Street']=='Chan Estate')]"
   ]
  },
  {
   "cell_type": "markdown",
   "id": "4a0b29d4",
   "metadata": {},
   "source": [
    "### Relationship to Head of House:"
   ]
  },
  {
   "cell_type": "code",
   "execution_count": 26,
   "id": "5d54675b",
   "metadata": {},
   "outputs": [
    {
     "data": {
      "text/plain": [
       "array(['Head', 'Daughter', 'Son', 'Wife', 'Husband', 'None', 'Partner',\n",
       "       'Lodger', 'Grandson', 'Granddaughter', 'Sibling', 'Visitor',\n",
       "       'Cousin', 'Adopted Daughter', 'Nephew', 'Neice', 'Adopted Son',\n",
       "       'Step-Son', 'Step-Daughter', 'Adopted Granddaughter'], dtype=object)"
      ]
     },
     "execution_count": 26,
     "metadata": {},
     "output_type": "execute_result"
    }
   ],
   "source": [
    "#Checking unique entries:\n",
    "census_df['Relationship to Head of House'].unique()"
   ]
  },
  {
   "cell_type": "markdown",
   "id": "25cb3990",
   "metadata": {},
   "source": [
    "- Niece was wrongly spelt as Neice."
   ]
  },
  {
   "cell_type": "code",
   "execution_count": 27,
   "id": "d0eb4f90",
   "metadata": {},
   "outputs": [],
   "source": [
    "#Correcting the speeling of 'Neice':\n",
    "census_df['Relationship to Head of House'] = census_df['Relationship to Head of House'].replace('Neice','Niece')"
   ]
  },
  {
   "cell_type": "code",
   "execution_count": 28,
   "id": "ecdad6d3",
   "metadata": {},
   "outputs": [
    {
     "data": {
      "text/plain": [
       "array(['Head', 'Daughter', 'Son', 'Wife', 'Husband', 'None', 'Partner',\n",
       "       'Lodger', 'Grandson', 'Granddaughter', 'Sibling', 'Visitor',\n",
       "       'Cousin', 'Adopted Daughter', 'Nephew', 'Niece', 'Adopted Son',\n",
       "       'Step-Son', 'Step-Daughter', 'Adopted Granddaughter'], dtype=object)"
      ]
     },
     "execution_count": 28,
     "metadata": {},
     "output_type": "execute_result"
    }
   ],
   "source": [
    "#Verifying change:\n",
    "census_df['Relationship to Head of House'].unique()"
   ]
  },
  {
   "cell_type": "markdown",
   "id": "7c57971b",
   "metadata": {},
   "source": [
    "### Marital Status Analysis:"
   ]
  },
  {
   "cell_type": "code",
   "execution_count": 29,
   "id": "0755f35e",
   "metadata": {},
   "outputs": [
    {
     "data": {
      "text/plain": [
       "array(['Divorced', nan, 'Married', 'Single', 'Widowed', ' '], dtype=object)"
      ]
     },
     "execution_count": 29,
     "metadata": {},
     "output_type": "execute_result"
    }
   ],
   "source": [
    "#Checking Unique values:\n",
    "census_df['Marital Status'].unique()"
   ]
  },
  {
   "cell_type": "markdown",
   "id": "cccec045",
   "metadata": {},
   "source": [
    "- Contains null values and empty string (\" \")."
   ]
  },
  {
   "cell_type": "markdown",
   "id": "55302e0f",
   "metadata": {},
   "source": [
    "Examining 'Married Minors' (under 18 years):"
   ]
  },
  {
   "cell_type": "code",
   "execution_count": 30,
   "id": "e202d963",
   "metadata": {
    "scrolled": true
   },
   "outputs": [
    {
     "data": {
      "text/html": [
       "<div>\n",
       "<style scoped>\n",
       "    .dataframe tbody tr th:only-of-type {\n",
       "        vertical-align: middle;\n",
       "    }\n",
       "\n",
       "    .dataframe tbody tr th {\n",
       "        vertical-align: top;\n",
       "    }\n",
       "\n",
       "    .dataframe thead th {\n",
       "        text-align: right;\n",
       "    }\n",
       "</style>\n",
       "<table border=\"1\" class=\"dataframe\">\n",
       "  <thead>\n",
       "    <tr style=\"text-align: right;\">\n",
       "      <th></th>\n",
       "      <th>House Number</th>\n",
       "      <th>Street</th>\n",
       "      <th>First Name</th>\n",
       "      <th>Surname</th>\n",
       "      <th>Age</th>\n",
       "      <th>Relationship to Head of House</th>\n",
       "      <th>Marital Status</th>\n",
       "      <th>Gender</th>\n",
       "      <th>Occupation</th>\n",
       "      <th>Infirmity</th>\n",
       "      <th>Religion</th>\n",
       "    </tr>\n",
       "  </thead>\n",
       "  <tbody>\n",
       "    <tr>\n",
       "      <th>4171</th>\n",
       "      <td>31</td>\n",
       "      <td>Chan Estate</td>\n",
       "      <td>Abigail</td>\n",
       "      <td>Begum</td>\n",
       "      <td>17</td>\n",
       "      <td>Head</td>\n",
       "      <td>Married</td>\n",
       "      <td>Female</td>\n",
       "      <td>Student</td>\n",
       "      <td>None</td>\n",
       "      <td>NaN</td>\n",
       "    </tr>\n",
       "    <tr>\n",
       "      <th>4919</th>\n",
       "      <td>11</td>\n",
       "      <td>Arrows Mission</td>\n",
       "      <td>Valerie</td>\n",
       "      <td>Smith</td>\n",
       "      <td>15</td>\n",
       "      <td>Head</td>\n",
       "      <td>Married</td>\n",
       "      <td>Female</td>\n",
       "      <td>Student</td>\n",
       "      <td>None</td>\n",
       "      <td>NaN</td>\n",
       "    </tr>\n",
       "  </tbody>\n",
       "</table>\n",
       "</div>"
      ],
      "text/plain": [
       "      House Number          Street First Name Surname  Age  \\\n",
       "4171            31     Chan Estate    Abigail   Begum   17   \n",
       "4919            11  Arrows Mission    Valerie   Smith   15   \n",
       "\n",
       "     Relationship to Head of House Marital Status  Gender Occupation  \\\n",
       "4171                          Head        Married  Female    Student   \n",
       "4919                          Head        Married  Female    Student   \n",
       "\n",
       "     Infirmity Religion  \n",
       "4171      None      NaN  \n",
       "4919      None      NaN  "
      ]
     },
     "execution_count": 30,
     "metadata": {},
     "output_type": "execute_result"
    }
   ],
   "source": [
    "census_df[(census_df['Age']<18) & (census_df['Marital Status']=='Married')]"
   ]
  },
  {
   "cell_type": "code",
   "execution_count": 31,
   "id": "66bb213e",
   "metadata": {},
   "outputs": [
    {
     "data": {
      "text/html": [
       "<div>\n",
       "<style scoped>\n",
       "    .dataframe tbody tr th:only-of-type {\n",
       "        vertical-align: middle;\n",
       "    }\n",
       "\n",
       "    .dataframe tbody tr th {\n",
       "        vertical-align: top;\n",
       "    }\n",
       "\n",
       "    .dataframe thead th {\n",
       "        text-align: right;\n",
       "    }\n",
       "</style>\n",
       "<table border=\"1\" class=\"dataframe\">\n",
       "  <thead>\n",
       "    <tr style=\"text-align: right;\">\n",
       "      <th></th>\n",
       "      <th>House Number</th>\n",
       "      <th>Street</th>\n",
       "      <th>First Name</th>\n",
       "      <th>Surname</th>\n",
       "      <th>Age</th>\n",
       "      <th>Relationship to Head of House</th>\n",
       "      <th>Marital Status</th>\n",
       "      <th>Gender</th>\n",
       "      <th>Occupation</th>\n",
       "      <th>Infirmity</th>\n",
       "      <th>Religion</th>\n",
       "    </tr>\n",
       "  </thead>\n",
       "  <tbody>\n",
       "    <tr>\n",
       "      <th>4171</th>\n",
       "      <td>31</td>\n",
       "      <td>Chan Estate</td>\n",
       "      <td>Abigail</td>\n",
       "      <td>Begum</td>\n",
       "      <td>17</td>\n",
       "      <td>Head</td>\n",
       "      <td>Married</td>\n",
       "      <td>Female</td>\n",
       "      <td>Student</td>\n",
       "      <td>None</td>\n",
       "      <td>NaN</td>\n",
       "    </tr>\n",
       "    <tr>\n",
       "      <th>4172</th>\n",
       "      <td>31</td>\n",
       "      <td>Chan Estate</td>\n",
       "      <td>Daniel</td>\n",
       "      <td>Begum</td>\n",
       "      <td>19</td>\n",
       "      <td>Husband</td>\n",
       "      <td>Married</td>\n",
       "      <td>Male</td>\n",
       "      <td>University Student</td>\n",
       "      <td>None</td>\n",
       "      <td>None</td>\n",
       "    </tr>\n",
       "    <tr>\n",
       "      <th>4173</th>\n",
       "      <td>31</td>\n",
       "      <td>Chan Estate</td>\n",
       "      <td>Elliott</td>\n",
       "      <td>Begum</td>\n",
       "      <td>0</td>\n",
       "      <td>Son</td>\n",
       "      <td>NaN</td>\n",
       "      <td>Male</td>\n",
       "      <td>Child</td>\n",
       "      <td>None</td>\n",
       "      <td>NaN</td>\n",
       "    </tr>\n",
       "    <tr>\n",
       "      <th>4174</th>\n",
       "      <td>31</td>\n",
       "      <td>Chan Estate</td>\n",
       "      <td>Douglas</td>\n",
       "      <td>Mills</td>\n",
       "      <td>50</td>\n",
       "      <td>Cousin</td>\n",
       "      <td>Single</td>\n",
       "      <td>Male</td>\n",
       "      <td>Financial adviser</td>\n",
       "      <td>None</td>\n",
       "      <td>Catholic</td>\n",
       "    </tr>\n",
       "  </tbody>\n",
       "</table>\n",
       "</div>"
      ],
      "text/plain": [
       "      House Number       Street First Name Surname  Age  \\\n",
       "4171            31  Chan Estate    Abigail   Begum   17   \n",
       "4172            31  Chan Estate     Daniel   Begum   19   \n",
       "4173            31  Chan Estate    Elliott   Begum    0   \n",
       "4174            31  Chan Estate    Douglas   Mills   50   \n",
       "\n",
       "     Relationship to Head of House Marital Status  Gender          Occupation  \\\n",
       "4171                          Head        Married  Female             Student   \n",
       "4172                       Husband        Married    Male  University Student   \n",
       "4173                           Son            NaN    Male               Child   \n",
       "4174                        Cousin         Single    Male   Financial adviser   \n",
       "\n",
       "     Infirmity  Religion  \n",
       "4171      None       NaN  \n",
       "4172      None      None  \n",
       "4173      None       NaN  \n",
       "4174      None  Catholic  "
      ]
     },
     "execution_count": 31,
     "metadata": {},
     "output_type": "execute_result"
    }
   ],
   "source": [
    "census_df[(census_df['House Number']==31) & (census_df['Street']=='Chan Estate')]"
   ]
  },
  {
   "cell_type": "code",
   "execution_count": 32,
   "id": "afa406f3",
   "metadata": {},
   "outputs": [
    {
     "data": {
      "text/html": [
       "<div>\n",
       "<style scoped>\n",
       "    .dataframe tbody tr th:only-of-type {\n",
       "        vertical-align: middle;\n",
       "    }\n",
       "\n",
       "    .dataframe tbody tr th {\n",
       "        vertical-align: top;\n",
       "    }\n",
       "\n",
       "    .dataframe thead th {\n",
       "        text-align: right;\n",
       "    }\n",
       "</style>\n",
       "<table border=\"1\" class=\"dataframe\">\n",
       "  <thead>\n",
       "    <tr style=\"text-align: right;\">\n",
       "      <th></th>\n",
       "      <th>House Number</th>\n",
       "      <th>Street</th>\n",
       "      <th>First Name</th>\n",
       "      <th>Surname</th>\n",
       "      <th>Age</th>\n",
       "      <th>Relationship to Head of House</th>\n",
       "      <th>Marital Status</th>\n",
       "      <th>Gender</th>\n",
       "      <th>Occupation</th>\n",
       "      <th>Infirmity</th>\n",
       "      <th>Religion</th>\n",
       "    </tr>\n",
       "  </thead>\n",
       "  <tbody>\n",
       "    <tr>\n",
       "      <th>4919</th>\n",
       "      <td>11</td>\n",
       "      <td>Arrows Mission</td>\n",
       "      <td>Valerie</td>\n",
       "      <td>Smith</td>\n",
       "      <td>15</td>\n",
       "      <td>Head</td>\n",
       "      <td>Married</td>\n",
       "      <td>Female</td>\n",
       "      <td>Student</td>\n",
       "      <td>None</td>\n",
       "      <td>NaN</td>\n",
       "    </tr>\n",
       "    <tr>\n",
       "      <th>4920</th>\n",
       "      <td>11</td>\n",
       "      <td>Arrows Mission</td>\n",
       "      <td>Justin</td>\n",
       "      <td>Smith</td>\n",
       "      <td>19</td>\n",
       "      <td>Husband</td>\n",
       "      <td>Married</td>\n",
       "      <td>Male</td>\n",
       "      <td>University Student</td>\n",
       "      <td>None</td>\n",
       "      <td>NaN</td>\n",
       "    </tr>\n",
       "    <tr>\n",
       "      <th>4921</th>\n",
       "      <td>11</td>\n",
       "      <td>Arrows Mission</td>\n",
       "      <td>Jade</td>\n",
       "      <td>Jackson</td>\n",
       "      <td>28</td>\n",
       "      <td>Lodger</td>\n",
       "      <td>Single</td>\n",
       "      <td>Female</td>\n",
       "      <td>Community development worker</td>\n",
       "      <td>None</td>\n",
       "      <td>None</td>\n",
       "    </tr>\n",
       "  </tbody>\n",
       "</table>\n",
       "</div>"
      ],
      "text/plain": [
       "      House Number          Street First Name  Surname  Age  \\\n",
       "4919            11  Arrows Mission    Valerie    Smith   15   \n",
       "4920            11  Arrows Mission     Justin    Smith   19   \n",
       "4921            11  Arrows Mission       Jade  Jackson   28   \n",
       "\n",
       "     Relationship to Head of House Marital Status  Gender  \\\n",
       "4919                          Head        Married  Female   \n",
       "4920                       Husband        Married    Male   \n",
       "4921                        Lodger         Single  Female   \n",
       "\n",
       "                        Occupation Infirmity Religion  \n",
       "4919                       Student      None      NaN  \n",
       "4920            University Student      None      NaN  \n",
       "4921  Community development worker      None     None  "
      ]
     },
     "execution_count": 32,
     "metadata": {},
     "output_type": "execute_result"
    }
   ],
   "source": [
    "census_df[(census_df['House Number']==11) & (census_df['Street']=='Arrows Mission')]"
   ]
  },
  {
   "cell_type": "markdown",
   "id": "f1c39118",
   "metadata": {},
   "source": [
    "- Since its obvious that they can't be married under british law (Marriage and Civil Partnership (Minimum Age) Act 2022, c.28) and their relationship can't be determined, they entries will be dropped and treated as misleading entries:"
   ]
  },
  {
   "cell_type": "code",
   "execution_count": 33,
   "id": "31f9bcab",
   "metadata": {},
   "outputs": [],
   "source": [
    "census_df.drop([4171,4172,4919,4920],inplace=True)"
   ]
  },
  {
   "cell_type": "code",
   "execution_count": 34,
   "id": "cb29dc9b",
   "metadata": {},
   "outputs": [
    {
     "data": {
      "text/html": [
       "<div>\n",
       "<style scoped>\n",
       "    .dataframe tbody tr th:only-of-type {\n",
       "        vertical-align: middle;\n",
       "    }\n",
       "\n",
       "    .dataframe tbody tr th {\n",
       "        vertical-align: top;\n",
       "    }\n",
       "\n",
       "    .dataframe thead th {\n",
       "        text-align: right;\n",
       "    }\n",
       "</style>\n",
       "<table border=\"1\" class=\"dataframe\">\n",
       "  <thead>\n",
       "    <tr style=\"text-align: right;\">\n",
       "      <th></th>\n",
       "      <th>House Number</th>\n",
       "      <th>Street</th>\n",
       "      <th>First Name</th>\n",
       "      <th>Surname</th>\n",
       "      <th>Age</th>\n",
       "      <th>Relationship to Head of House</th>\n",
       "      <th>Marital Status</th>\n",
       "      <th>Gender</th>\n",
       "      <th>Occupation</th>\n",
       "      <th>Infirmity</th>\n",
       "      <th>Religion</th>\n",
       "    </tr>\n",
       "  </thead>\n",
       "  <tbody>\n",
       "    <tr>\n",
       "      <th>0</th>\n",
       "      <td>1</td>\n",
       "      <td>Regentchain Avenue</td>\n",
       "      <td>Ashleigh</td>\n",
       "      <td>Dale</td>\n",
       "      <td>41</td>\n",
       "      <td>Head</td>\n",
       "      <td>Divorced</td>\n",
       "      <td>Female</td>\n",
       "      <td>Field trials officer</td>\n",
       "      <td>None</td>\n",
       "      <td>Catholic</td>\n",
       "    </tr>\n",
       "    <tr>\n",
       "      <th>1</th>\n",
       "      <td>1</td>\n",
       "      <td>Regentchain Avenue</td>\n",
       "      <td>Deborah</td>\n",
       "      <td>Dale</td>\n",
       "      <td>11</td>\n",
       "      <td>Daughter</td>\n",
       "      <td>NaN</td>\n",
       "      <td>Female</td>\n",
       "      <td>Student</td>\n",
       "      <td>None</td>\n",
       "      <td>NaN</td>\n",
       "    </tr>\n",
       "    <tr>\n",
       "      <th>2</th>\n",
       "      <td>1</td>\n",
       "      <td>Regentchain Avenue</td>\n",
       "      <td>Gary</td>\n",
       "      <td>Dale</td>\n",
       "      <td>7</td>\n",
       "      <td>Son</td>\n",
       "      <td>NaN</td>\n",
       "      <td>Male</td>\n",
       "      <td>Student</td>\n",
       "      <td>None</td>\n",
       "      <td>NaN</td>\n",
       "    </tr>\n",
       "    <tr>\n",
       "      <th>3</th>\n",
       "      <td>2</td>\n",
       "      <td>Regentchain Avenue</td>\n",
       "      <td>Edward</td>\n",
       "      <td>Grant</td>\n",
       "      <td>40</td>\n",
       "      <td>Head</td>\n",
       "      <td>Married</td>\n",
       "      <td>Male</td>\n",
       "      <td>Environmental education officer</td>\n",
       "      <td>None</td>\n",
       "      <td>Methodist</td>\n",
       "    </tr>\n",
       "    <tr>\n",
       "      <th>4</th>\n",
       "      <td>2</td>\n",
       "      <td>Regentchain Avenue</td>\n",
       "      <td>Elizabeth</td>\n",
       "      <td>Grant</td>\n",
       "      <td>35</td>\n",
       "      <td>Wife</td>\n",
       "      <td>Married</td>\n",
       "      <td>Female</td>\n",
       "      <td>Public librarian</td>\n",
       "      <td>None</td>\n",
       "      <td>Catholic</td>\n",
       "    </tr>\n",
       "    <tr>\n",
       "      <th>...</th>\n",
       "      <td>...</td>\n",
       "      <td>...</td>\n",
       "      <td>...</td>\n",
       "      <td>...</td>\n",
       "      <td>...</td>\n",
       "      <td>...</td>\n",
       "      <td>...</td>\n",
       "      <td>...</td>\n",
       "      <td>...</td>\n",
       "      <td>...</td>\n",
       "      <td>...</td>\n",
       "    </tr>\n",
       "    <tr>\n",
       "      <th>8368</th>\n",
       "      <td>1</td>\n",
       "      <td>Howard House</td>\n",
       "      <td>Dennis</td>\n",
       "      <td>Bryant</td>\n",
       "      <td>1</td>\n",
       "      <td>Son</td>\n",
       "      <td>NaN</td>\n",
       "      <td>Male</td>\n",
       "      <td>Child</td>\n",
       "      <td>None</td>\n",
       "      <td>NaN</td>\n",
       "    </tr>\n",
       "    <tr>\n",
       "      <th>8369</th>\n",
       "      <td>1</td>\n",
       "      <td>Howard House</td>\n",
       "      <td>Beverley</td>\n",
       "      <td>Cox</td>\n",
       "      <td>44</td>\n",
       "      <td>Lodger</td>\n",
       "      <td>Single</td>\n",
       "      <td>Female</td>\n",
       "      <td>Building services engineer</td>\n",
       "      <td>None</td>\n",
       "      <td>None</td>\n",
       "    </tr>\n",
       "    <tr>\n",
       "      <th>8370</th>\n",
       "      <td>1</td>\n",
       "      <td>Howard House</td>\n",
       "      <td>Lee</td>\n",
       "      <td>Harrison</td>\n",
       "      <td>32</td>\n",
       "      <td>Lodger</td>\n",
       "      <td>Single</td>\n",
       "      <td>Male</td>\n",
       "      <td>Diplomatic Services operational officer</td>\n",
       "      <td>None</td>\n",
       "      <td>None</td>\n",
       "    </tr>\n",
       "    <tr>\n",
       "      <th>8371</th>\n",
       "      <td>1</td>\n",
       "      <td>Howard House</td>\n",
       "      <td>Hollie</td>\n",
       "      <td>Carroll</td>\n",
       "      <td>52</td>\n",
       "      <td>Lodger</td>\n",
       "      <td>Single</td>\n",
       "      <td>Female</td>\n",
       "      <td>Further education lecturer</td>\n",
       "      <td>None</td>\n",
       "      <td>Christian</td>\n",
       "    </tr>\n",
       "    <tr>\n",
       "      <th>8372</th>\n",
       "      <td>1</td>\n",
       "      <td>Howard House</td>\n",
       "      <td>Roy</td>\n",
       "      <td>Barrett</td>\n",
       "      <td>45</td>\n",
       "      <td>Lodger</td>\n",
       "      <td>Single</td>\n",
       "      <td>Male</td>\n",
       "      <td>Unemployed</td>\n",
       "      <td>None</td>\n",
       "      <td>Methodist</td>\n",
       "    </tr>\n",
       "  </tbody>\n",
       "</table>\n",
       "<p>8373 rows × 11 columns</p>\n",
       "</div>"
      ],
      "text/plain": [
       "      House Number              Street First Name   Surname  Age  \\\n",
       "0                1  Regentchain Avenue   Ashleigh      Dale   41   \n",
       "1                1  Regentchain Avenue    Deborah      Dale   11   \n",
       "2                1  Regentchain Avenue       Gary      Dale    7   \n",
       "3                2  Regentchain Avenue     Edward     Grant   40   \n",
       "4                2  Regentchain Avenue  Elizabeth     Grant   35   \n",
       "...            ...                 ...        ...       ...  ...   \n",
       "8368             1        Howard House     Dennis    Bryant    1   \n",
       "8369             1        Howard House   Beverley       Cox   44   \n",
       "8370             1        Howard House        Lee  Harrison   32   \n",
       "8371             1        Howard House     Hollie   Carroll   52   \n",
       "8372             1        Howard House        Roy   Barrett   45   \n",
       "\n",
       "     Relationship to Head of House Marital Status  Gender  \\\n",
       "0                             Head       Divorced  Female   \n",
       "1                         Daughter            NaN  Female   \n",
       "2                              Son            NaN    Male   \n",
       "3                             Head        Married    Male   \n",
       "4                             Wife        Married  Female   \n",
       "...                            ...            ...     ...   \n",
       "8368                           Son            NaN    Male   \n",
       "8369                        Lodger         Single  Female   \n",
       "8370                        Lodger         Single    Male   \n",
       "8371                        Lodger         Single  Female   \n",
       "8372                        Lodger         Single    Male   \n",
       "\n",
       "                                   Occupation Infirmity   Religion  \n",
       "0                        Field trials officer      None   Catholic  \n",
       "1                                     Student      None        NaN  \n",
       "2                                     Student      None        NaN  \n",
       "3             Environmental education officer      None  Methodist  \n",
       "4                            Public librarian      None   Catholic  \n",
       "...                                       ...       ...        ...  \n",
       "8368                                    Child      None        NaN  \n",
       "8369               Building services engineer      None       None  \n",
       "8370  Diplomatic Services operational officer      None       None  \n",
       "8371               Further education lecturer      None  Christian  \n",
       "8372                               Unemployed      None  Methodist  \n",
       "\n",
       "[8373 rows x 11 columns]"
      ]
     },
     "execution_count": 34,
     "metadata": {},
     "output_type": "execute_result"
    }
   ],
   "source": [
    "census_df = census_df.reset_index(drop=True)\n",
    "census_df"
   ]
  },
  {
   "cell_type": "markdown",
   "id": "169ee21b",
   "metadata": {},
   "source": [
    "Treating Empty String (\"  \") in Marital Status:"
   ]
  },
  {
   "cell_type": "code",
   "execution_count": 35,
   "id": "31f2d895",
   "metadata": {
    "scrolled": true
   },
   "outputs": [
    {
     "data": {
      "text/html": [
       "<div>\n",
       "<style scoped>\n",
       "    .dataframe tbody tr th:only-of-type {\n",
       "        vertical-align: middle;\n",
       "    }\n",
       "\n",
       "    .dataframe tbody tr th {\n",
       "        vertical-align: top;\n",
       "    }\n",
       "\n",
       "    .dataframe thead th {\n",
       "        text-align: right;\n",
       "    }\n",
       "</style>\n",
       "<table border=\"1\" class=\"dataframe\">\n",
       "  <thead>\n",
       "    <tr style=\"text-align: right;\">\n",
       "      <th></th>\n",
       "      <th>House Number</th>\n",
       "      <th>Street</th>\n",
       "      <th>First Name</th>\n",
       "      <th>Surname</th>\n",
       "      <th>Age</th>\n",
       "      <th>Relationship to Head of House</th>\n",
       "      <th>Marital Status</th>\n",
       "      <th>Gender</th>\n",
       "      <th>Occupation</th>\n",
       "      <th>Infirmity</th>\n",
       "      <th>Religion</th>\n",
       "    </tr>\n",
       "  </thead>\n",
       "  <tbody>\n",
       "    <tr>\n",
       "      <th>4228</th>\n",
       "      <td>47</td>\n",
       "      <td>Chan Estate</td>\n",
       "      <td>Norman</td>\n",
       "      <td>Ward</td>\n",
       "      <td>25</td>\n",
       "      <td>Son</td>\n",
       "      <td></td>\n",
       "      <td>Male</td>\n",
       "      <td>Administrator</td>\n",
       "      <td>None</td>\n",
       "      <td>None</td>\n",
       "    </tr>\n",
       "  </tbody>\n",
       "</table>\n",
       "</div>"
      ],
      "text/plain": [
       "      House Number       Street First Name Surname  Age  \\\n",
       "4228            47  Chan Estate     Norman    Ward   25   \n",
       "\n",
       "     Relationship to Head of House Marital Status Gender     Occupation  \\\n",
       "4228                           Son                  Male  Administrator   \n",
       "\n",
       "     Infirmity Religion  \n",
       "4228      None     None  "
      ]
     },
     "execution_count": 35,
     "metadata": {},
     "output_type": "execute_result"
    }
   ],
   "source": [
    "census_df[census_df['Marital Status']==' ']"
   ]
  },
  {
   "cell_type": "markdown",
   "id": "a6d21344",
   "metadata": {},
   "source": [
    "- Row 4228 contains the empty string.\n",
    "- Entry is a Son to the Head of house."
   ]
  },
  {
   "cell_type": "markdown",
   "id": "fd681b21",
   "metadata": {},
   "source": [
    "Next, I will analyse the marital Status of all entries holding a Son relationship to the head of house. The Marital Status with the highest entry will be assogned to the empty string:"
   ]
  },
  {
   "cell_type": "code",
   "execution_count": 36,
   "id": "da4cf010",
   "metadata": {},
   "outputs": [
    {
     "data": {
      "text/plain": [
       "0"
      ]
     },
     "execution_count": 36,
     "metadata": {},
     "output_type": "execute_result"
    }
   ],
   "source": [
    "#Married Status for Sons for Age <= 25:\n",
    "len(census_df.loc[(census_df['Marital Status']=='Married') & (census_df['Age']<=25) &\\\n",
    "                  (census_df['Relationship to Head of House']=='Son')]['Marital Status'])"
   ]
  },
  {
   "cell_type": "code",
   "execution_count": 37,
   "id": "02059e20",
   "metadata": {},
   "outputs": [
    {
     "data": {
      "text/plain": [
       "173"
      ]
     },
     "execution_count": 37,
     "metadata": {},
     "output_type": "execute_result"
    }
   ],
   "source": [
    "#Single Status for Sons for Age <= 25:\n",
    "len(census_df[(census_df['Marital Status']=='Single') & (census_df['Age']<=25) &\\\n",
    "              (census_df['Relationship to Head of House']=='Son')]['Marital Status'])"
   ]
  },
  {
   "cell_type": "code",
   "execution_count": 38,
   "id": "0ceab55b",
   "metadata": {},
   "outputs": [
    {
     "data": {
      "text/plain": [
       "44"
      ]
     },
     "execution_count": 38,
     "metadata": {},
     "output_type": "execute_result"
    }
   ],
   "source": [
    "#Divorced Status for Sons for Age <= 25:\n",
    "len(census_df[(census_df['Marital Status']=='Divorced') & (census_df['Age']<=25) &\\\n",
    "              (census_df['Relationship to Head of House']=='Son')]['Marital Status'])"
   ]
  },
  {
   "cell_type": "code",
   "execution_count": 39,
   "id": "11b55f42",
   "metadata": {},
   "outputs": [
    {
     "data": {
      "text/plain": [
       "7"
      ]
     },
     "execution_count": 39,
     "metadata": {},
     "output_type": "execute_result"
    }
   ],
   "source": [
    "#Widowed Status for Sons for Age <= 25:\n",
    "len(census_df[(census_df['Marital Status']=='Widowed') & (census_df['Age']<=25) &\\\n",
    "              (census_df['Relationship to Head of House']=='Son')]['Marital Status'])"
   ]
  },
  {
   "cell_type": "markdown",
   "id": "04014d71",
   "metadata": {},
   "source": [
    "From the analysis for Ages 25 years and below:\n",
    "- 173 of the entries are SINGLE,\n",
    "- 44 are DIVORCED,\n",
    "- 7 are Widowed,\n",
    "- None is married.\n",
    "\n",
    "Therefore, it can be inferred that there's a high chance that an entry who is a son to the head of house is SINGLE. Hence, I will fill the empty value with 'Single'."
   ]
  },
  {
   "cell_type": "code",
   "execution_count": 40,
   "id": "766d6f31",
   "metadata": {},
   "outputs": [],
   "source": [
    "#Filling Empty values with 'Single':\n",
    "census_df.loc[4228,'Marital Status'] = census_df.loc[4230,'Marital Status'].replace(' ', 'Single')"
   ]
  },
  {
   "cell_type": "code",
   "execution_count": 41,
   "id": "9b58949b",
   "metadata": {
    "scrolled": false
   },
   "outputs": [
    {
     "data": {
      "text/html": [
       "<div>\n",
       "<style scoped>\n",
       "    .dataframe tbody tr th:only-of-type {\n",
       "        vertical-align: middle;\n",
       "    }\n",
       "\n",
       "    .dataframe tbody tr th {\n",
       "        vertical-align: top;\n",
       "    }\n",
       "\n",
       "    .dataframe thead th {\n",
       "        text-align: right;\n",
       "    }\n",
       "</style>\n",
       "<table border=\"1\" class=\"dataframe\">\n",
       "  <thead>\n",
       "    <tr style=\"text-align: right;\">\n",
       "      <th></th>\n",
       "      <th>count</th>\n",
       "      <th>mean</th>\n",
       "      <th>std</th>\n",
       "      <th>min</th>\n",
       "      <th>25%</th>\n",
       "      <th>50%</th>\n",
       "      <th>75%</th>\n",
       "      <th>max</th>\n",
       "    </tr>\n",
       "    <tr>\n",
       "      <th>Marital Status</th>\n",
       "      <th></th>\n",
       "      <th></th>\n",
       "      <th></th>\n",
       "      <th></th>\n",
       "      <th></th>\n",
       "      <th></th>\n",
       "      <th></th>\n",
       "      <th></th>\n",
       "    </tr>\n",
       "  </thead>\n",
       "  <tbody>\n",
       "    <tr>\n",
       "      <th>Divorced</th>\n",
       "      <td>791.0</td>\n",
       "      <td>42.415929</td>\n",
       "      <td>17.389367</td>\n",
       "      <td>16.0</td>\n",
       "      <td>29.0</td>\n",
       "      <td>39.0</td>\n",
       "      <td>52.0</td>\n",
       "      <td>100.0</td>\n",
       "    </tr>\n",
       "    <tr>\n",
       "      <th>Married</th>\n",
       "      <td>2221.0</td>\n",
       "      <td>50.488969</td>\n",
       "      <td>16.751617</td>\n",
       "      <td>18.0</td>\n",
       "      <td>38.0</td>\n",
       "      <td>48.0</td>\n",
       "      <td>62.0</td>\n",
       "      <td>116.0</td>\n",
       "    </tr>\n",
       "    <tr>\n",
       "      <th>Single</th>\n",
       "      <td>2999.0</td>\n",
       "      <td>38.247749</td>\n",
       "      <td>14.176446</td>\n",
       "      <td>17.0</td>\n",
       "      <td>26.0</td>\n",
       "      <td>37.0</td>\n",
       "      <td>49.0</td>\n",
       "      <td>96.0</td>\n",
       "    </tr>\n",
       "    <tr>\n",
       "      <th>Widowed</th>\n",
       "      <td>387.0</td>\n",
       "      <td>67.041344</td>\n",
       "      <td>18.265127</td>\n",
       "      <td>18.0</td>\n",
       "      <td>65.5</td>\n",
       "      <td>71.0</td>\n",
       "      <td>78.0</td>\n",
       "      <td>105.0</td>\n",
       "    </tr>\n",
       "  </tbody>\n",
       "</table>\n",
       "</div>"
      ],
      "text/plain": [
       "                 count       mean        std   min   25%   50%   75%    max\n",
       "Marital Status                                                             \n",
       "Divorced         791.0  42.415929  17.389367  16.0  29.0  39.0  52.0  100.0\n",
       "Married         2221.0  50.488969  16.751617  18.0  38.0  48.0  62.0  116.0\n",
       "Single          2999.0  38.247749  14.176446  17.0  26.0  37.0  49.0   96.0\n",
       "Widowed          387.0  67.041344  18.265127  18.0  65.5  71.0  78.0  105.0"
      ]
     },
     "execution_count": 41,
     "metadata": {},
     "output_type": "execute_result"
    }
   ],
   "source": [
    "census_df.groupby(['Marital Status'])['Age'].describe()"
   ]
  },
  {
   "cell_type": "markdown",
   "id": "cbcdf8d7",
   "metadata": {},
   "source": [
    "- Age 16 was divorced. It will be treated during the treatment for null values below."
   ]
  },
  {
   "cell_type": "markdown",
   "id": "02df5ee6",
   "metadata": {},
   "source": [
    "Treating the null in Marital Status:"
   ]
  },
  {
   "cell_type": "code",
   "execution_count": 42,
   "id": "b19823c8",
   "metadata": {},
   "outputs": [
    {
     "data": {
      "text/html": [
       "<div>\n",
       "<style scoped>\n",
       "    .dataframe tbody tr th:only-of-type {\n",
       "        vertical-align: middle;\n",
       "    }\n",
       "\n",
       "    .dataframe tbody tr th {\n",
       "        vertical-align: top;\n",
       "    }\n",
       "\n",
       "    .dataframe thead th {\n",
       "        text-align: right;\n",
       "    }\n",
       "</style>\n",
       "<table border=\"1\" class=\"dataframe\">\n",
       "  <thead>\n",
       "    <tr style=\"text-align: right;\">\n",
       "      <th></th>\n",
       "      <th>House Number</th>\n",
       "      <th>Street</th>\n",
       "      <th>First Name</th>\n",
       "      <th>Surname</th>\n",
       "      <th>Age</th>\n",
       "      <th>Relationship to Head of House</th>\n",
       "      <th>Marital Status</th>\n",
       "      <th>Gender</th>\n",
       "      <th>Occupation</th>\n",
       "      <th>Infirmity</th>\n",
       "      <th>Religion</th>\n",
       "    </tr>\n",
       "  </thead>\n",
       "  <tbody>\n",
       "    <tr>\n",
       "      <th>1</th>\n",
       "      <td>1</td>\n",
       "      <td>Regentchain Avenue</td>\n",
       "      <td>Deborah</td>\n",
       "      <td>Dale</td>\n",
       "      <td>11</td>\n",
       "      <td>Daughter</td>\n",
       "      <td>NaN</td>\n",
       "      <td>Female</td>\n",
       "      <td>Student</td>\n",
       "      <td>None</td>\n",
       "      <td>NaN</td>\n",
       "    </tr>\n",
       "    <tr>\n",
       "      <th>2</th>\n",
       "      <td>1</td>\n",
       "      <td>Regentchain Avenue</td>\n",
       "      <td>Gary</td>\n",
       "      <td>Dale</td>\n",
       "      <td>7</td>\n",
       "      <td>Son</td>\n",
       "      <td>NaN</td>\n",
       "      <td>Male</td>\n",
       "      <td>Student</td>\n",
       "      <td>None</td>\n",
       "      <td>NaN</td>\n",
       "    </tr>\n",
       "    <tr>\n",
       "      <th>6</th>\n",
       "      <td>2</td>\n",
       "      <td>Regentchain Avenue</td>\n",
       "      <td>Mandy</td>\n",
       "      <td>Grant</td>\n",
       "      <td>17</td>\n",
       "      <td>Daughter</td>\n",
       "      <td>NaN</td>\n",
       "      <td>Female</td>\n",
       "      <td>Student</td>\n",
       "      <td>None</td>\n",
       "      <td>NaN</td>\n",
       "    </tr>\n",
       "    <tr>\n",
       "      <th>7</th>\n",
       "      <td>2</td>\n",
       "      <td>Regentchain Avenue</td>\n",
       "      <td>Amanda</td>\n",
       "      <td>Grant</td>\n",
       "      <td>11</td>\n",
       "      <td>Daughter</td>\n",
       "      <td>NaN</td>\n",
       "      <td>Female</td>\n",
       "      <td>Student</td>\n",
       "      <td>None</td>\n",
       "      <td>NaN</td>\n",
       "    </tr>\n",
       "    <tr>\n",
       "      <th>14</th>\n",
       "      <td>4</td>\n",
       "      <td>Regentchain Avenue</td>\n",
       "      <td>Sandra</td>\n",
       "      <td>Price</td>\n",
       "      <td>4</td>\n",
       "      <td>Daughter</td>\n",
       "      <td>NaN</td>\n",
       "      <td>Female</td>\n",
       "      <td>Child</td>\n",
       "      <td>None</td>\n",
       "      <td>NaN</td>\n",
       "    </tr>\n",
       "    <tr>\n",
       "      <th>...</th>\n",
       "      <td>...</td>\n",
       "      <td>...</td>\n",
       "      <td>...</td>\n",
       "      <td>...</td>\n",
       "      <td>...</td>\n",
       "      <td>...</td>\n",
       "      <td>...</td>\n",
       "      <td>...</td>\n",
       "      <td>...</td>\n",
       "      <td>...</td>\n",
       "      <td>...</td>\n",
       "    </tr>\n",
       "    <tr>\n",
       "      <th>8348</th>\n",
       "      <td>1</td>\n",
       "      <td>Oyster Manorhouse</td>\n",
       "      <td>Howard</td>\n",
       "      <td>Goodwin</td>\n",
       "      <td>17</td>\n",
       "      <td>Son</td>\n",
       "      <td>NaN</td>\n",
       "      <td>Male</td>\n",
       "      <td>Student</td>\n",
       "      <td>None</td>\n",
       "      <td>NaN</td>\n",
       "    </tr>\n",
       "    <tr>\n",
       "      <th>8365</th>\n",
       "      <td>1</td>\n",
       "      <td>Howard House</td>\n",
       "      <td>Tom</td>\n",
       "      <td>Bryant</td>\n",
       "      <td>13</td>\n",
       "      <td>Son</td>\n",
       "      <td>NaN</td>\n",
       "      <td>Male</td>\n",
       "      <td>Student</td>\n",
       "      <td>None</td>\n",
       "      <td>NaN</td>\n",
       "    </tr>\n",
       "    <tr>\n",
       "      <th>8366</th>\n",
       "      <td>1</td>\n",
       "      <td>Howard House</td>\n",
       "      <td>Jean</td>\n",
       "      <td>Bryant</td>\n",
       "      <td>8</td>\n",
       "      <td>Daughter</td>\n",
       "      <td>NaN</td>\n",
       "      <td>Female</td>\n",
       "      <td>Student</td>\n",
       "      <td>None</td>\n",
       "      <td>NaN</td>\n",
       "    </tr>\n",
       "    <tr>\n",
       "      <th>8367</th>\n",
       "      <td>1</td>\n",
       "      <td>Howard House</td>\n",
       "      <td>Abbie</td>\n",
       "      <td>Bryant</td>\n",
       "      <td>4</td>\n",
       "      <td>Daughter</td>\n",
       "      <td>NaN</td>\n",
       "      <td>Female</td>\n",
       "      <td>Child</td>\n",
       "      <td>None</td>\n",
       "      <td>NaN</td>\n",
       "    </tr>\n",
       "    <tr>\n",
       "      <th>8368</th>\n",
       "      <td>1</td>\n",
       "      <td>Howard House</td>\n",
       "      <td>Dennis</td>\n",
       "      <td>Bryant</td>\n",
       "      <td>1</td>\n",
       "      <td>Son</td>\n",
       "      <td>NaN</td>\n",
       "      <td>Male</td>\n",
       "      <td>Child</td>\n",
       "      <td>None</td>\n",
       "      <td>NaN</td>\n",
       "    </tr>\n",
       "  </tbody>\n",
       "</table>\n",
       "<p>1975 rows × 11 columns</p>\n",
       "</div>"
      ],
      "text/plain": [
       "      House Number              Street First Name  Surname  Age  \\\n",
       "1                1  Regentchain Avenue    Deborah     Dale   11   \n",
       "2                1  Regentchain Avenue       Gary     Dale    7   \n",
       "6                2  Regentchain Avenue      Mandy    Grant   17   \n",
       "7                2  Regentchain Avenue     Amanda    Grant   11   \n",
       "14               4  Regentchain Avenue     Sandra    Price    4   \n",
       "...            ...                 ...        ...      ...  ...   \n",
       "8348             1   Oyster Manorhouse     Howard  Goodwin   17   \n",
       "8365             1        Howard House        Tom   Bryant   13   \n",
       "8366             1        Howard House       Jean   Bryant    8   \n",
       "8367             1        Howard House      Abbie   Bryant    4   \n",
       "8368             1        Howard House     Dennis   Bryant    1   \n",
       "\n",
       "     Relationship to Head of House Marital Status  Gender Occupation  \\\n",
       "1                         Daughter            NaN  Female    Student   \n",
       "2                              Son            NaN    Male    Student   \n",
       "6                         Daughter            NaN  Female    Student   \n",
       "7                         Daughter            NaN  Female    Student   \n",
       "14                        Daughter            NaN  Female      Child   \n",
       "...                            ...            ...     ...        ...   \n",
       "8348                           Son            NaN    Male    Student   \n",
       "8365                           Son            NaN    Male    Student   \n",
       "8366                      Daughter            NaN  Female    Student   \n",
       "8367                      Daughter            NaN  Female      Child   \n",
       "8368                           Son            NaN    Male      Child   \n",
       "\n",
       "     Infirmity Religion  \n",
       "1         None      NaN  \n",
       "2         None      NaN  \n",
       "6         None      NaN  \n",
       "7         None      NaN  \n",
       "14        None      NaN  \n",
       "...        ...      ...  \n",
       "8348      None      NaN  \n",
       "8365      None      NaN  \n",
       "8366      None      NaN  \n",
       "8367      None      NaN  \n",
       "8368      None      NaN  \n",
       "\n",
       "[1975 rows x 11 columns]"
      ]
     },
     "execution_count": 42,
     "metadata": {},
     "output_type": "execute_result"
    }
   ],
   "source": [
    "#All entries with null values as Marital Status and are minors (less than 18 years):\n",
    "census_df.loc[(census_df['Age']<=17) & (census_df['Marital Status'].isna())]"
   ]
  },
  {
   "cell_type": "markdown",
   "id": "f423367f",
   "metadata": {},
   "source": [
    "- Marital Status contains 1975 total null values. From the above, entries with age less than 18 years represents these values.\n",
    "- According to the data information, any age less than 18 are considered minors and can be tagged N/A. Hence, their Marital Status will be filled with 'N/A':"
   ]
  },
  {
   "cell_type": "code",
   "execution_count": 43,
   "id": "0e6736ec",
   "metadata": {},
   "outputs": [],
   "source": [
    "#Filling the Marital Status for minors(<18) with 'N/A':\n",
    "census_df.loc[census_df['Age']<18,'Marital Status'] = 'N/A'"
   ]
  },
  {
   "cell_type": "code",
   "execution_count": 44,
   "id": "c0239989",
   "metadata": {},
   "outputs": [
    {
     "data": {
      "text/html": [
       "<div>\n",
       "<style scoped>\n",
       "    .dataframe tbody tr th:only-of-type {\n",
       "        vertical-align: middle;\n",
       "    }\n",
       "\n",
       "    .dataframe tbody tr th {\n",
       "        vertical-align: top;\n",
       "    }\n",
       "\n",
       "    .dataframe thead th {\n",
       "        text-align: right;\n",
       "    }\n",
       "</style>\n",
       "<table border=\"1\" class=\"dataframe\">\n",
       "  <thead>\n",
       "    <tr style=\"text-align: right;\">\n",
       "      <th></th>\n",
       "      <th>House Number</th>\n",
       "      <th>Street</th>\n",
       "      <th>First Name</th>\n",
       "      <th>Surname</th>\n",
       "      <th>Age</th>\n",
       "      <th>Relationship to Head of House</th>\n",
       "      <th>Marital Status</th>\n",
       "      <th>Gender</th>\n",
       "      <th>Occupation</th>\n",
       "      <th>Infirmity</th>\n",
       "      <th>Religion</th>\n",
       "    </tr>\n",
       "  </thead>\n",
       "  <tbody>\n",
       "    <tr>\n",
       "      <th>5845</th>\n",
       "      <td>2</td>\n",
       "      <td>Dixon Islands</td>\n",
       "      <td>Deborah</td>\n",
       "      <td>Brown-Webb</td>\n",
       "      <td>15</td>\n",
       "      <td>Daughter</td>\n",
       "      <td>N/A</td>\n",
       "      <td>Female</td>\n",
       "      <td>Student</td>\n",
       "      <td>None</td>\n",
       "      <td>NaN</td>\n",
       "    </tr>\n",
       "    <tr>\n",
       "      <th>7626</th>\n",
       "      <td>8</td>\n",
       "      <td>Aethelred Heights</td>\n",
       "      <td>Katherine</td>\n",
       "      <td>Scott-Jackson</td>\n",
       "      <td>14</td>\n",
       "      <td>Daughter</td>\n",
       "      <td>N/A</td>\n",
       "      <td>Female</td>\n",
       "      <td>Student</td>\n",
       "      <td>None</td>\n",
       "      <td>NaN</td>\n",
       "    </tr>\n",
       "    <tr>\n",
       "      <th>1748</th>\n",
       "      <td>25</td>\n",
       "      <td>Earlsplit Drive</td>\n",
       "      <td>Ian</td>\n",
       "      <td>Carr-King</td>\n",
       "      <td>0</td>\n",
       "      <td>Son</td>\n",
       "      <td>N/A</td>\n",
       "      <td>Male</td>\n",
       "      <td>Child</td>\n",
       "      <td>None</td>\n",
       "      <td>NaN</td>\n",
       "    </tr>\n",
       "    <tr>\n",
       "      <th>1742</th>\n",
       "      <td>24</td>\n",
       "      <td>Earlsplit Drive</td>\n",
       "      <td>Adam</td>\n",
       "      <td>Thompson</td>\n",
       "      <td>12</td>\n",
       "      <td>Son</td>\n",
       "      <td>N/A</td>\n",
       "      <td>Male</td>\n",
       "      <td>Student</td>\n",
       "      <td>None</td>\n",
       "      <td>NaN</td>\n",
       "    </tr>\n",
       "    <tr>\n",
       "      <th>7119</th>\n",
       "      <td>6</td>\n",
       "      <td>Murray Drive</td>\n",
       "      <td>John</td>\n",
       "      <td>Mahmood</td>\n",
       "      <td>4</td>\n",
       "      <td>Son</td>\n",
       "      <td>N/A</td>\n",
       "      <td>Male</td>\n",
       "      <td>Child</td>\n",
       "      <td>None</td>\n",
       "      <td>NaN</td>\n",
       "    </tr>\n",
       "  </tbody>\n",
       "</table>\n",
       "</div>"
      ],
      "text/plain": [
       "      House Number             Street First Name        Surname  Age  \\\n",
       "5845             2      Dixon Islands    Deborah     Brown-Webb   15   \n",
       "7626             8  Aethelred Heights  Katherine  Scott-Jackson   14   \n",
       "1748            25    Earlsplit Drive        Ian      Carr-King    0   \n",
       "1742            24    Earlsplit Drive       Adam       Thompson   12   \n",
       "7119             6       Murray Drive       John        Mahmood    4   \n",
       "\n",
       "     Relationship to Head of House Marital Status  Gender Occupation  \\\n",
       "5845                      Daughter            N/A  Female    Student   \n",
       "7626                      Daughter            N/A  Female    Student   \n",
       "1748                           Son            N/A    Male      Child   \n",
       "1742                           Son            N/A    Male    Student   \n",
       "7119                           Son            N/A    Male      Child   \n",
       "\n",
       "     Infirmity Religion  \n",
       "5845      None      NaN  \n",
       "7626      None      NaN  \n",
       "1748      None      NaN  \n",
       "1742      None      NaN  \n",
       "7119      None      NaN  "
      ]
     },
     "execution_count": 44,
     "metadata": {},
     "output_type": "execute_result"
    }
   ],
   "source": [
    "#Sanity check for null values:\n",
    "census_df[census_df['Age']<18].sample(5)"
   ]
  },
  {
   "cell_type": "code",
   "execution_count": 45,
   "id": "dc6e89b4",
   "metadata": {},
   "outputs": [
    {
     "data": {
      "text/html": [
       "<div>\n",
       "<style scoped>\n",
       "    .dataframe tbody tr th:only-of-type {\n",
       "        vertical-align: middle;\n",
       "    }\n",
       "\n",
       "    .dataframe tbody tr th {\n",
       "        vertical-align: top;\n",
       "    }\n",
       "\n",
       "    .dataframe thead th {\n",
       "        text-align: right;\n",
       "    }\n",
       "</style>\n",
       "<table border=\"1\" class=\"dataframe\">\n",
       "  <thead>\n",
       "    <tr style=\"text-align: right;\">\n",
       "      <th></th>\n",
       "      <th>count</th>\n",
       "      <th>mean</th>\n",
       "      <th>std</th>\n",
       "      <th>min</th>\n",
       "      <th>25%</th>\n",
       "      <th>50%</th>\n",
       "      <th>75%</th>\n",
       "      <th>max</th>\n",
       "    </tr>\n",
       "    <tr>\n",
       "      <th>Marital Status</th>\n",
       "      <th></th>\n",
       "      <th></th>\n",
       "      <th></th>\n",
       "      <th></th>\n",
       "      <th></th>\n",
       "      <th></th>\n",
       "      <th></th>\n",
       "      <th></th>\n",
       "    </tr>\n",
       "  </thead>\n",
       "  <tbody>\n",
       "    <tr>\n",
       "      <th>Divorced</th>\n",
       "      <td>790.0</td>\n",
       "      <td>42.449367</td>\n",
       "      <td>17.374919</td>\n",
       "      <td>18.0</td>\n",
       "      <td>29.0</td>\n",
       "      <td>39.0</td>\n",
       "      <td>52.0</td>\n",
       "      <td>100.0</td>\n",
       "    </tr>\n",
       "    <tr>\n",
       "      <th>Married</th>\n",
       "      <td>2221.0</td>\n",
       "      <td>50.488969</td>\n",
       "      <td>16.751617</td>\n",
       "      <td>18.0</td>\n",
       "      <td>38.0</td>\n",
       "      <td>48.0</td>\n",
       "      <td>62.0</td>\n",
       "      <td>116.0</td>\n",
       "    </tr>\n",
       "    <tr>\n",
       "      <th>N/A</th>\n",
       "      <td>1977.0</td>\n",
       "      <td>8.982296</td>\n",
       "      <td>5.072769</td>\n",
       "      <td>0.0</td>\n",
       "      <td>5.0</td>\n",
       "      <td>9.0</td>\n",
       "      <td>13.0</td>\n",
       "      <td>17.0</td>\n",
       "    </tr>\n",
       "    <tr>\n",
       "      <th>Single</th>\n",
       "      <td>2998.0</td>\n",
       "      <td>38.254837</td>\n",
       "      <td>14.173496</td>\n",
       "      <td>18.0</td>\n",
       "      <td>26.0</td>\n",
       "      <td>37.0</td>\n",
       "      <td>49.0</td>\n",
       "      <td>96.0</td>\n",
       "    </tr>\n",
       "    <tr>\n",
       "      <th>Widowed</th>\n",
       "      <td>387.0</td>\n",
       "      <td>67.041344</td>\n",
       "      <td>18.265127</td>\n",
       "      <td>18.0</td>\n",
       "      <td>65.5</td>\n",
       "      <td>71.0</td>\n",
       "      <td>78.0</td>\n",
       "      <td>105.0</td>\n",
       "    </tr>\n",
       "  </tbody>\n",
       "</table>\n",
       "</div>"
      ],
      "text/plain": [
       "                 count       mean        std   min   25%   50%   75%    max\n",
       "Marital Status                                                             \n",
       "Divorced         790.0  42.449367  17.374919  18.0  29.0  39.0  52.0  100.0\n",
       "Married         2221.0  50.488969  16.751617  18.0  38.0  48.0  62.0  116.0\n",
       "N/A             1977.0   8.982296   5.072769   0.0   5.0   9.0  13.0   17.0\n",
       "Single          2998.0  38.254837  14.173496  18.0  26.0  37.0  49.0   96.0\n",
       "Widowed          387.0  67.041344  18.265127  18.0  65.5  71.0  78.0  105.0"
      ]
     },
     "execution_count": 45,
     "metadata": {},
     "output_type": "execute_result"
    }
   ],
   "source": [
    "census_df.groupby(['Marital Status'])['Age'].describe()"
   ]
  },
  {
   "cell_type": "markdown",
   "id": "26a44fc0",
   "metadata": {},
   "source": [
    "### Gender:"
   ]
  },
  {
   "cell_type": "code",
   "execution_count": 46,
   "id": "43426c72",
   "metadata": {
    "scrolled": false
   },
   "outputs": [
    {
     "data": {
      "text/plain": [
       "array(['Female', 'Male', ' '], dtype=object)"
      ]
     },
     "execution_count": 46,
     "metadata": {},
     "output_type": "execute_result"
    }
   ],
   "source": [
    "#checking unique values:\n",
    "census_df.Gender.unique()"
   ]
  },
  {
   "cell_type": "markdown",
   "id": "deebb372",
   "metadata": {},
   "source": [
    "- Contains an empty string (\" \")."
   ]
  },
  {
   "cell_type": "code",
   "execution_count": 47,
   "id": "af8f6014",
   "metadata": {},
   "outputs": [
    {
     "data": {
      "text/html": [
       "<div>\n",
       "<style scoped>\n",
       "    .dataframe tbody tr th:only-of-type {\n",
       "        vertical-align: middle;\n",
       "    }\n",
       "\n",
       "    .dataframe tbody tr th {\n",
       "        vertical-align: top;\n",
       "    }\n",
       "\n",
       "    .dataframe thead th {\n",
       "        text-align: right;\n",
       "    }\n",
       "</style>\n",
       "<table border=\"1\" class=\"dataframe\">\n",
       "  <thead>\n",
       "    <tr style=\"text-align: right;\">\n",
       "      <th></th>\n",
       "      <th>House Number</th>\n",
       "      <th>Street</th>\n",
       "      <th>First Name</th>\n",
       "      <th>Surname</th>\n",
       "      <th>Age</th>\n",
       "      <th>Relationship to Head of House</th>\n",
       "      <th>Marital Status</th>\n",
       "      <th>Gender</th>\n",
       "      <th>Occupation</th>\n",
       "      <th>Infirmity</th>\n",
       "      <th>Religion</th>\n",
       "    </tr>\n",
       "  </thead>\n",
       "  <tbody>\n",
       "    <tr>\n",
       "      <th>1002</th>\n",
       "      <td>1</td>\n",
       "      <td>Taylor Grove</td>\n",
       "      <td>Pamela</td>\n",
       "      <td>Edwards</td>\n",
       "      <td>69</td>\n",
       "      <td>Head</td>\n",
       "      <td>Married</td>\n",
       "      <td></td>\n",
       "      <td>Retired Engineer, technical sales</td>\n",
       "      <td>None</td>\n",
       "      <td>Christian</td>\n",
       "    </tr>\n",
       "    <tr>\n",
       "      <th>6895</th>\n",
       "      <td>8</td>\n",
       "      <td>Tiger Avenue</td>\n",
       "      <td>Leanne</td>\n",
       "      <td>Gill</td>\n",
       "      <td>22</td>\n",
       "      <td>None</td>\n",
       "      <td>Single</td>\n",
       "      <td></td>\n",
       "      <td>University Student</td>\n",
       "      <td>None</td>\n",
       "      <td>None</td>\n",
       "    </tr>\n",
       "    <tr>\n",
       "      <th>7344</th>\n",
       "      <td>25</td>\n",
       "      <td>Canterbury Well</td>\n",
       "      <td>Irene</td>\n",
       "      <td>Harvey</td>\n",
       "      <td>51</td>\n",
       "      <td>Head</td>\n",
       "      <td>Married</td>\n",
       "      <td></td>\n",
       "      <td>Librarian, public</td>\n",
       "      <td>None</td>\n",
       "      <td>Christian</td>\n",
       "    </tr>\n",
       "  </tbody>\n",
       "</table>\n",
       "</div>"
      ],
      "text/plain": [
       "      House Number           Street First Name  Surname  Age  \\\n",
       "1002             1     Taylor Grove     Pamela  Edwards   69   \n",
       "6895             8     Tiger Avenue     Leanne     Gill   22   \n",
       "7344            25  Canterbury Well      Irene   Harvey   51   \n",
       "\n",
       "     Relationship to Head of House Marital Status Gender  \\\n",
       "1002                          Head        Married          \n",
       "6895                          None         Single          \n",
       "7344                          Head        Married          \n",
       "\n",
       "                             Occupation Infirmity   Religion  \n",
       "1002  Retired Engineer, technical sales      None  Christian  \n",
       "6895                 University Student      None       None  \n",
       "7344                  Librarian, public      None  Christian  "
      ]
     },
     "execution_count": 47,
     "metadata": {},
     "output_type": "execute_result"
    }
   ],
   "source": [
    "#Outputing all entries with \"  \" as Gender:\n",
    "census_df.loc[census_df['Gender']==' ']"
   ]
  },
  {
   "cell_type": "markdown",
   "id": "864e2b49",
   "metadata": {},
   "source": [
    "- From their first names (Pamela, Leanne and Irene), we can tell they are all feminine names. Therefore, the empty gender values will be replaced the 'Female'.\n",
    "- Rows for empty string Gender values are 1002, 6895 and 7344."
   ]
  },
  {
   "cell_type": "code",
   "execution_count": 48,
   "id": "aa4029c6",
   "metadata": {},
   "outputs": [],
   "source": [
    "#Replacing \"  \" in Gender column with 'Female'.\n",
    "census_df.loc[(census_df['Gender']==' '), 'Gender'] = census_df.loc[(census_df['Gender']==' '), 'Gender'].replace(' ','Female')"
   ]
  },
  {
   "cell_type": "code",
   "execution_count": 49,
   "id": "591c4f8d",
   "metadata": {},
   "outputs": [
    {
     "data": {
      "text/html": [
       "<div>\n",
       "<style scoped>\n",
       "    .dataframe tbody tr th:only-of-type {\n",
       "        vertical-align: middle;\n",
       "    }\n",
       "\n",
       "    .dataframe tbody tr th {\n",
       "        vertical-align: top;\n",
       "    }\n",
       "\n",
       "    .dataframe thead th {\n",
       "        text-align: right;\n",
       "    }\n",
       "</style>\n",
       "<table border=\"1\" class=\"dataframe\">\n",
       "  <thead>\n",
       "    <tr style=\"text-align: right;\">\n",
       "      <th></th>\n",
       "      <th>House Number</th>\n",
       "      <th>Street</th>\n",
       "      <th>First Name</th>\n",
       "      <th>Surname</th>\n",
       "      <th>Age</th>\n",
       "      <th>Relationship to Head of House</th>\n",
       "      <th>Marital Status</th>\n",
       "      <th>Gender</th>\n",
       "      <th>Occupation</th>\n",
       "      <th>Infirmity</th>\n",
       "      <th>Religion</th>\n",
       "    </tr>\n",
       "  </thead>\n",
       "  <tbody>\n",
       "    <tr>\n",
       "      <th>1002</th>\n",
       "      <td>1</td>\n",
       "      <td>Taylor Grove</td>\n",
       "      <td>Pamela</td>\n",
       "      <td>Edwards</td>\n",
       "      <td>69</td>\n",
       "      <td>Head</td>\n",
       "      <td>Married</td>\n",
       "      <td>Female</td>\n",
       "      <td>Retired Engineer, technical sales</td>\n",
       "      <td>None</td>\n",
       "      <td>Christian</td>\n",
       "    </tr>\n",
       "    <tr>\n",
       "      <th>6895</th>\n",
       "      <td>8</td>\n",
       "      <td>Tiger Avenue</td>\n",
       "      <td>Leanne</td>\n",
       "      <td>Gill</td>\n",
       "      <td>22</td>\n",
       "      <td>None</td>\n",
       "      <td>Single</td>\n",
       "      <td>Female</td>\n",
       "      <td>University Student</td>\n",
       "      <td>None</td>\n",
       "      <td>None</td>\n",
       "    </tr>\n",
       "    <tr>\n",
       "      <th>7344</th>\n",
       "      <td>25</td>\n",
       "      <td>Canterbury Well</td>\n",
       "      <td>Irene</td>\n",
       "      <td>Harvey</td>\n",
       "      <td>51</td>\n",
       "      <td>Head</td>\n",
       "      <td>Married</td>\n",
       "      <td>Female</td>\n",
       "      <td>Librarian, public</td>\n",
       "      <td>None</td>\n",
       "      <td>Christian</td>\n",
       "    </tr>\n",
       "  </tbody>\n",
       "</table>\n",
       "</div>"
      ],
      "text/plain": [
       "      House Number           Street First Name  Surname  Age  \\\n",
       "1002             1     Taylor Grove     Pamela  Edwards   69   \n",
       "6895             8     Tiger Avenue     Leanne     Gill   22   \n",
       "7344            25  Canterbury Well      Irene   Harvey   51   \n",
       "\n",
       "     Relationship to Head of House Marital Status  Gender  \\\n",
       "1002                          Head        Married  Female   \n",
       "6895                          None         Single  Female   \n",
       "7344                          Head        Married  Female   \n",
       "\n",
       "                             Occupation Infirmity   Religion  \n",
       "1002  Retired Engineer, technical sales      None  Christian  \n",
       "6895                 University Student      None       None  \n",
       "7344                  Librarian, public      None  Christian  "
      ]
     },
     "execution_count": 49,
     "metadata": {},
     "output_type": "execute_result"
    }
   ],
   "source": [
    "#Rechecking the rows to see change:\n",
    "census_df.iloc[[1002,6895,7344], :]"
   ]
  },
  {
   "cell_type": "markdown",
   "id": "c3b2d3de",
   "metadata": {},
   "source": [
    "### Occupation:"
   ]
  },
  {
   "cell_type": "markdown",
   "id": "f8f8bdd1",
   "metadata": {},
   "source": [
    "- The census data contains people who are retired in different professions as shown in the Occupation column below:"
   ]
  },
  {
   "cell_type": "markdown",
   "id": "f7c67062",
   "metadata": {},
   "source": [
    "#### Retired:"
   ]
  },
  {
   "cell_type": "code",
   "execution_count": 50,
   "id": "41a03100",
   "metadata": {
    "scrolled": false
   },
   "outputs": [
    {
     "data": {
      "text/html": [
       "<div>\n",
       "<style scoped>\n",
       "    .dataframe tbody tr th:only-of-type {\n",
       "        vertical-align: middle;\n",
       "    }\n",
       "\n",
       "    .dataframe tbody tr th {\n",
       "        vertical-align: top;\n",
       "    }\n",
       "\n",
       "    .dataframe thead th {\n",
       "        text-align: right;\n",
       "    }\n",
       "</style>\n",
       "<table border=\"1\" class=\"dataframe\">\n",
       "  <thead>\n",
       "    <tr style=\"text-align: right;\">\n",
       "      <th></th>\n",
       "      <th>House Number</th>\n",
       "      <th>Street</th>\n",
       "      <th>First Name</th>\n",
       "      <th>Surname</th>\n",
       "      <th>Age</th>\n",
       "      <th>Relationship to Head of House</th>\n",
       "      <th>Marital Status</th>\n",
       "      <th>Gender</th>\n",
       "      <th>Occupation</th>\n",
       "      <th>Infirmity</th>\n",
       "      <th>Religion</th>\n",
       "    </tr>\n",
       "  </thead>\n",
       "  <tbody>\n",
       "    <tr>\n",
       "      <th>15</th>\n",
       "      <td>5</td>\n",
       "      <td>Regentchain Avenue</td>\n",
       "      <td>Danielle</td>\n",
       "      <td>Dean</td>\n",
       "      <td>78</td>\n",
       "      <td>Head</td>\n",
       "      <td>Married</td>\n",
       "      <td>Female</td>\n",
       "      <td>Retired Community education officer</td>\n",
       "      <td>None</td>\n",
       "      <td>None</td>\n",
       "    </tr>\n",
       "    <tr>\n",
       "      <th>16</th>\n",
       "      <td>5</td>\n",
       "      <td>Regentchain Avenue</td>\n",
       "      <td>Robert</td>\n",
       "      <td>Dean</td>\n",
       "      <td>81</td>\n",
       "      <td>Husband</td>\n",
       "      <td>Married</td>\n",
       "      <td>Male</td>\n",
       "      <td>Retired Doctor, hospital</td>\n",
       "      <td>None</td>\n",
       "      <td>None</td>\n",
       "    </tr>\n",
       "    <tr>\n",
       "      <th>29</th>\n",
       "      <td>8</td>\n",
       "      <td>Regentchain Avenue</td>\n",
       "      <td>Leon</td>\n",
       "      <td>Duncan</td>\n",
       "      <td>85</td>\n",
       "      <td>Head</td>\n",
       "      <td>Widowed</td>\n",
       "      <td>Male</td>\n",
       "      <td>Retired Surgeon</td>\n",
       "      <td>None</td>\n",
       "      <td>Christian</td>\n",
       "    </tr>\n",
       "    <tr>\n",
       "      <th>34</th>\n",
       "      <td>2</td>\n",
       "      <td>Telegraphnet Street</td>\n",
       "      <td>Leah</td>\n",
       "      <td>Taylor</td>\n",
       "      <td>90</td>\n",
       "      <td>Head</td>\n",
       "      <td>Married</td>\n",
       "      <td>Female</td>\n",
       "      <td>Retired Landscape architect</td>\n",
       "      <td>None</td>\n",
       "      <td>Catholic</td>\n",
       "    </tr>\n",
       "    <tr>\n",
       "      <th>35</th>\n",
       "      <td>2</td>\n",
       "      <td>Telegraphnet Street</td>\n",
       "      <td>Craig</td>\n",
       "      <td>Taylor</td>\n",
       "      <td>97</td>\n",
       "      <td>Husband</td>\n",
       "      <td>Married</td>\n",
       "      <td>Male</td>\n",
       "      <td>Retired Engineer, civil (consulting)</td>\n",
       "      <td>None</td>\n",
       "      <td>Catholic</td>\n",
       "    </tr>\n",
       "    <tr>\n",
       "      <th>...</th>\n",
       "      <td>...</td>\n",
       "      <td>...</td>\n",
       "      <td>...</td>\n",
       "      <td>...</td>\n",
       "      <td>...</td>\n",
       "      <td>...</td>\n",
       "      <td>...</td>\n",
       "      <td>...</td>\n",
       "      <td>...</td>\n",
       "      <td>...</td>\n",
       "      <td>...</td>\n",
       "    </tr>\n",
       "    <tr>\n",
       "      <th>8227</th>\n",
       "      <td>41</td>\n",
       "      <td>Arnold Ways</td>\n",
       "      <td>Francis</td>\n",
       "      <td>Moore</td>\n",
       "      <td>79</td>\n",
       "      <td>Head</td>\n",
       "      <td>Married</td>\n",
       "      <td>Male</td>\n",
       "      <td>Retired Counsellor</td>\n",
       "      <td>None</td>\n",
       "      <td>Christian</td>\n",
       "    </tr>\n",
       "    <tr>\n",
       "      <th>8228</th>\n",
       "      <td>41</td>\n",
       "      <td>Arnold Ways</td>\n",
       "      <td>Jodie</td>\n",
       "      <td>Moore</td>\n",
       "      <td>80</td>\n",
       "      <td>Wife</td>\n",
       "      <td>Married</td>\n",
       "      <td>Female</td>\n",
       "      <td>Retired Actor</td>\n",
       "      <td>None</td>\n",
       "      <td>Christian</td>\n",
       "    </tr>\n",
       "    <tr>\n",
       "      <th>8232</th>\n",
       "      <td>45</td>\n",
       "      <td>Arnold Ways</td>\n",
       "      <td>Margaret</td>\n",
       "      <td>James</td>\n",
       "      <td>70</td>\n",
       "      <td>Head</td>\n",
       "      <td>Married</td>\n",
       "      <td>Female</td>\n",
       "      <td>Retired Control and instrumentation engineer</td>\n",
       "      <td>None</td>\n",
       "      <td>Christian</td>\n",
       "    </tr>\n",
       "    <tr>\n",
       "      <th>8237</th>\n",
       "      <td>47</td>\n",
       "      <td>Arnold Ways</td>\n",
       "      <td>Maurice</td>\n",
       "      <td>Hughes</td>\n",
       "      <td>80</td>\n",
       "      <td>Head</td>\n",
       "      <td>Divorced</td>\n",
       "      <td>Male</td>\n",
       "      <td>Retired Therapist, sports</td>\n",
       "      <td>None</td>\n",
       "      <td>Christian</td>\n",
       "    </tr>\n",
       "    <tr>\n",
       "      <th>8244</th>\n",
       "      <td>52</td>\n",
       "      <td>Arnold Ways</td>\n",
       "      <td>Garry</td>\n",
       "      <td>Faulkner</td>\n",
       "      <td>73</td>\n",
       "      <td>Head</td>\n",
       "      <td>Widowed</td>\n",
       "      <td>Male</td>\n",
       "      <td>Retired Chartered loss adjuster</td>\n",
       "      <td>None</td>\n",
       "      <td>Christian</td>\n",
       "    </tr>\n",
       "  </tbody>\n",
       "</table>\n",
       "<p>749 rows × 11 columns</p>\n",
       "</div>"
      ],
      "text/plain": [
       "      House Number               Street First Name   Surname  Age  \\\n",
       "15               5   Regentchain Avenue   Danielle      Dean   78   \n",
       "16               5   Regentchain Avenue     Robert      Dean   81   \n",
       "29               8   Regentchain Avenue       Leon    Duncan   85   \n",
       "34               2  Telegraphnet Street       Leah    Taylor   90   \n",
       "35               2  Telegraphnet Street      Craig    Taylor   97   \n",
       "...            ...                  ...        ...       ...  ...   \n",
       "8227            41          Arnold Ways    Francis     Moore   79   \n",
       "8228            41          Arnold Ways      Jodie     Moore   80   \n",
       "8232            45          Arnold Ways   Margaret     James   70   \n",
       "8237            47          Arnold Ways    Maurice    Hughes   80   \n",
       "8244            52          Arnold Ways      Garry  Faulkner   73   \n",
       "\n",
       "     Relationship to Head of House Marital Status  Gender  \\\n",
       "15                            Head        Married  Female   \n",
       "16                         Husband        Married    Male   \n",
       "29                            Head        Widowed    Male   \n",
       "34                            Head        Married  Female   \n",
       "35                         Husband        Married    Male   \n",
       "...                            ...            ...     ...   \n",
       "8227                          Head        Married    Male   \n",
       "8228                          Wife        Married  Female   \n",
       "8232                          Head        Married  Female   \n",
       "8237                          Head       Divorced    Male   \n",
       "8244                          Head        Widowed    Male   \n",
       "\n",
       "                                        Occupation Infirmity   Religion  \n",
       "15             Retired Community education officer      None       None  \n",
       "16                        Retired Doctor, hospital      None       None  \n",
       "29                                 Retired Surgeon      None  Christian  \n",
       "34                     Retired Landscape architect      None   Catholic  \n",
       "35            Retired Engineer, civil (consulting)      None   Catholic  \n",
       "...                                            ...       ...        ...  \n",
       "8227                            Retired Counsellor      None  Christian  \n",
       "8228                                 Retired Actor      None  Christian  \n",
       "8232  Retired Control and instrumentation engineer      None  Christian  \n",
       "8237                     Retired Therapist, sports      None  Christian  \n",
       "8244               Retired Chartered loss adjuster      None  Christian  \n",
       "\n",
       "[749 rows x 11 columns]"
      ]
     },
     "execution_count": 50,
     "metadata": {},
     "output_type": "execute_result"
    }
   ],
   "source": [
    "#All entries with key word 'Retired' found in Occupation title:\n",
    "census_df[(census_df['Occupation'].str.contains('Retired'))]"
   ]
  },
  {
   "cell_type": "markdown",
   "id": "5ab2474a",
   "metadata": {},
   "source": [
    "- 749 entries are retired.\n",
    "- These entries are all retired in different profession. Therefore, all their Occupations can be replaced with 'Retired' to indicate the retired status."
   ]
  },
  {
   "cell_type": "code",
   "execution_count": 51,
   "id": "d22a3ed6",
   "metadata": {},
   "outputs": [],
   "source": [
    "#Replacing the Occupation entry for all entries with 'Retired' key word in them with 'Retired'.\n",
    "\n",
    "census_df.loc[(census_df['Occupation'].str.contains('Retired')), 'Occupation'] = 'Retired'\n"
   ]
  },
  {
   "cell_type": "code",
   "execution_count": 52,
   "id": "77f4958e",
   "metadata": {},
   "outputs": [
    {
     "data": {
      "text/html": [
       "<div>\n",
       "<style scoped>\n",
       "    .dataframe tbody tr th:only-of-type {\n",
       "        vertical-align: middle;\n",
       "    }\n",
       "\n",
       "    .dataframe tbody tr th {\n",
       "        vertical-align: top;\n",
       "    }\n",
       "\n",
       "    .dataframe thead th {\n",
       "        text-align: right;\n",
       "    }\n",
       "</style>\n",
       "<table border=\"1\" class=\"dataframe\">\n",
       "  <thead>\n",
       "    <tr style=\"text-align: right;\">\n",
       "      <th></th>\n",
       "      <th>House Number</th>\n",
       "      <th>Street</th>\n",
       "      <th>First Name</th>\n",
       "      <th>Surname</th>\n",
       "      <th>Age</th>\n",
       "      <th>Relationship to Head of House</th>\n",
       "      <th>Marital Status</th>\n",
       "      <th>Gender</th>\n",
       "      <th>Occupation</th>\n",
       "      <th>Infirmity</th>\n",
       "      <th>Religion</th>\n",
       "    </tr>\n",
       "  </thead>\n",
       "  <tbody>\n",
       "    <tr>\n",
       "      <th>15</th>\n",
       "      <td>5</td>\n",
       "      <td>Regentchain Avenue</td>\n",
       "      <td>Danielle</td>\n",
       "      <td>Dean</td>\n",
       "      <td>78</td>\n",
       "      <td>Head</td>\n",
       "      <td>Married</td>\n",
       "      <td>Female</td>\n",
       "      <td>Retired</td>\n",
       "      <td>None</td>\n",
       "      <td>None</td>\n",
       "    </tr>\n",
       "    <tr>\n",
       "      <th>16</th>\n",
       "      <td>5</td>\n",
       "      <td>Regentchain Avenue</td>\n",
       "      <td>Robert</td>\n",
       "      <td>Dean</td>\n",
       "      <td>81</td>\n",
       "      <td>Husband</td>\n",
       "      <td>Married</td>\n",
       "      <td>Male</td>\n",
       "      <td>Retired</td>\n",
       "      <td>None</td>\n",
       "      <td>None</td>\n",
       "    </tr>\n",
       "    <tr>\n",
       "      <th>29</th>\n",
       "      <td>8</td>\n",
       "      <td>Regentchain Avenue</td>\n",
       "      <td>Leon</td>\n",
       "      <td>Duncan</td>\n",
       "      <td>85</td>\n",
       "      <td>Head</td>\n",
       "      <td>Widowed</td>\n",
       "      <td>Male</td>\n",
       "      <td>Retired</td>\n",
       "      <td>None</td>\n",
       "      <td>Christian</td>\n",
       "    </tr>\n",
       "    <tr>\n",
       "      <th>34</th>\n",
       "      <td>2</td>\n",
       "      <td>Telegraphnet Street</td>\n",
       "      <td>Leah</td>\n",
       "      <td>Taylor</td>\n",
       "      <td>90</td>\n",
       "      <td>Head</td>\n",
       "      <td>Married</td>\n",
       "      <td>Female</td>\n",
       "      <td>Retired</td>\n",
       "      <td>None</td>\n",
       "      <td>Catholic</td>\n",
       "    </tr>\n",
       "    <tr>\n",
       "      <th>35</th>\n",
       "      <td>2</td>\n",
       "      <td>Telegraphnet Street</td>\n",
       "      <td>Craig</td>\n",
       "      <td>Taylor</td>\n",
       "      <td>97</td>\n",
       "      <td>Husband</td>\n",
       "      <td>Married</td>\n",
       "      <td>Male</td>\n",
       "      <td>Retired</td>\n",
       "      <td>None</td>\n",
       "      <td>Catholic</td>\n",
       "    </tr>\n",
       "  </tbody>\n",
       "</table>\n",
       "</div>"
      ],
      "text/plain": [
       "    House Number               Street First Name Surname  Age  \\\n",
       "15             5   Regentchain Avenue   Danielle    Dean   78   \n",
       "16             5   Regentchain Avenue     Robert    Dean   81   \n",
       "29             8   Regentchain Avenue       Leon  Duncan   85   \n",
       "34             2  Telegraphnet Street       Leah  Taylor   90   \n",
       "35             2  Telegraphnet Street      Craig  Taylor   97   \n",
       "\n",
       "   Relationship to Head of House Marital Status  Gender Occupation Infirmity  \\\n",
       "15                          Head        Married  Female    Retired      None   \n",
       "16                       Husband        Married    Male    Retired      None   \n",
       "29                          Head        Widowed    Male    Retired      None   \n",
       "34                          Head        Married  Female    Retired      None   \n",
       "35                       Husband        Married    Male    Retired      None   \n",
       "\n",
       "     Religion  \n",
       "15       None  \n",
       "16       None  \n",
       "29  Christian  \n",
       "34   Catholic  \n",
       "35   Catholic  "
      ]
     },
     "execution_count": 52,
     "metadata": {},
     "output_type": "execute_result"
    }
   ],
   "source": [
    "#Sanity check to verify change:\n",
    "census_df.loc[(census_df['Occupation'].str.contains('Retired'))].head()"
   ]
  },
  {
   "cell_type": "markdown",
   "id": "753905ec",
   "metadata": {},
   "source": [
    "- Occupation changed to 'Retired'."
   ]
  },
  {
   "cell_type": "markdown",
   "id": "84c89c3e",
   "metadata": {},
   "source": [
    "#### Empty String in Occupation:"
   ]
  },
  {
   "cell_type": "code",
   "execution_count": 53,
   "id": "91bf9832",
   "metadata": {},
   "outputs": [
    {
     "data": {
      "text/html": [
       "<div>\n",
       "<style scoped>\n",
       "    .dataframe tbody tr th:only-of-type {\n",
       "        vertical-align: middle;\n",
       "    }\n",
       "\n",
       "    .dataframe tbody tr th {\n",
       "        vertical-align: top;\n",
       "    }\n",
       "\n",
       "    .dataframe thead th {\n",
       "        text-align: right;\n",
       "    }\n",
       "</style>\n",
       "<table border=\"1\" class=\"dataframe\">\n",
       "  <thead>\n",
       "    <tr style=\"text-align: right;\">\n",
       "      <th></th>\n",
       "      <th>House Number</th>\n",
       "      <th>Street</th>\n",
       "      <th>First Name</th>\n",
       "      <th>Surname</th>\n",
       "      <th>Age</th>\n",
       "      <th>Relationship to Head of House</th>\n",
       "      <th>Marital Status</th>\n",
       "      <th>Gender</th>\n",
       "      <th>Occupation</th>\n",
       "      <th>Infirmity</th>\n",
       "      <th>Religion</th>\n",
       "    </tr>\n",
       "  </thead>\n",
       "  <tbody>\n",
       "    <tr>\n",
       "      <th>3399</th>\n",
       "      <td>194</td>\n",
       "      <td>Harvey Road</td>\n",
       "      <td>Josephine</td>\n",
       "      <td>Anderson</td>\n",
       "      <td>73</td>\n",
       "      <td>Head</td>\n",
       "      <td>Divorced</td>\n",
       "      <td>Female</td>\n",
       "      <td></td>\n",
       "      <td>None</td>\n",
       "      <td>Christian</td>\n",
       "    </tr>\n",
       "  </tbody>\n",
       "</table>\n",
       "</div>"
      ],
      "text/plain": [
       "      House Number       Street First Name   Surname  Age  \\\n",
       "3399           194  Harvey Road  Josephine  Anderson   73   \n",
       "\n",
       "     Relationship to Head of House Marital Status  Gender Occupation  \\\n",
       "3399                          Head       Divorced  Female              \n",
       "\n",
       "     Infirmity   Religion  \n",
       "3399      None  Christian  "
      ]
     },
     "execution_count": 53,
     "metadata": {},
     "output_type": "execute_result"
    }
   ],
   "source": [
    "#Entries with Occupation as \"  \":\n",
    "census_df[census_df['Occupation']==' ']"
   ]
  },
  {
   "cell_type": "markdown",
   "id": "d90ce8c1",
   "metadata": {},
   "source": [
    "- From the above, the age of the individual at row 3399 is 73 years.\n",
    "- 73 years is above the standard retirement age in the United Kingdom. Hence, 'Retired' will be used to replace the empty string."
   ]
  },
  {
   "cell_type": "code",
   "execution_count": 54,
   "id": "a38aaa14",
   "metadata": {},
   "outputs": [],
   "source": [
    "#Filling the empty string with Retired:\n",
    "census_df.loc[3399, 'Occupation'] = 'Retired'"
   ]
  },
  {
   "cell_type": "code",
   "execution_count": 55,
   "id": "f7f9887b",
   "metadata": {},
   "outputs": [
    {
     "data": {
      "text/plain": [
       "House Number                             194\n",
       "Street                           Harvey Road\n",
       "First Name                         Josephine\n",
       "Surname                             Anderson\n",
       "Age                                       73\n",
       "Relationship to Head of House           Head\n",
       "Marital Status                      Divorced\n",
       "Gender                                Female\n",
       "Occupation                           Retired\n",
       "Infirmity                               None\n",
       "Religion                           Christian\n",
       "Name: 3399, dtype: object"
      ]
     },
     "execution_count": 55,
     "metadata": {},
     "output_type": "execute_result"
    }
   ],
   "source": [
    "census_df.iloc[3399,:]"
   ]
  },
  {
   "cell_type": "markdown",
   "id": "1d40591b",
   "metadata": {},
   "source": [
    "- Value replaced with Retired."
   ]
  },
  {
   "cell_type": "code",
   "execution_count": 56,
   "id": "cb87544c",
   "metadata": {},
   "outputs": [],
   "source": [
    "#Creating a copy of the data before changing 'University Student' and 'PhD Student' as Occupation:\n",
    "census_copyDf = census_df.copy() "
   ]
  },
  {
   "cell_type": "code",
   "execution_count": 57,
   "id": "cd3e3179",
   "metadata": {},
   "outputs": [
    {
     "data": {
      "text/html": [
       "<div>\n",
       "<style scoped>\n",
       "    .dataframe tbody tr th:only-of-type {\n",
       "        vertical-align: middle;\n",
       "    }\n",
       "\n",
       "    .dataframe tbody tr th {\n",
       "        vertical-align: top;\n",
       "    }\n",
       "\n",
       "    .dataframe thead th {\n",
       "        text-align: right;\n",
       "    }\n",
       "</style>\n",
       "<table border=\"1\" class=\"dataframe\">\n",
       "  <thead>\n",
       "    <tr style=\"text-align: right;\">\n",
       "      <th></th>\n",
       "      <th>count</th>\n",
       "      <th>mean</th>\n",
       "      <th>std</th>\n",
       "      <th>min</th>\n",
       "      <th>25%</th>\n",
       "      <th>50%</th>\n",
       "      <th>75%</th>\n",
       "      <th>max</th>\n",
       "    </tr>\n",
       "    <tr>\n",
       "      <th>Occupation</th>\n",
       "      <th></th>\n",
       "      <th></th>\n",
       "      <th></th>\n",
       "      <th></th>\n",
       "      <th></th>\n",
       "      <th></th>\n",
       "      <th></th>\n",
       "      <th></th>\n",
       "    </tr>\n",
       "  </thead>\n",
       "  <tbody>\n",
       "    <tr>\n",
       "      <th>Unemployed</th>\n",
       "      <td>529.0</td>\n",
       "      <td>45.035917</td>\n",
       "      <td>14.123395</td>\n",
       "      <td>16.0</td>\n",
       "      <td>35.0</td>\n",
       "      <td>44.0</td>\n",
       "      <td>54.0</td>\n",
       "      <td>96.0</td>\n",
       "    </tr>\n",
       "  </tbody>\n",
       "</table>\n",
       "</div>"
      ],
      "text/plain": [
       "            count       mean        std   min   25%   50%   75%   max\n",
       "Occupation                                                           \n",
       "Unemployed  529.0  45.035917  14.123395  16.0  35.0  44.0  54.0  96.0"
      ]
     },
     "execution_count": 57,
     "metadata": {},
     "output_type": "execute_result"
    }
   ],
   "source": [
    "census_df[census_df['Occupation']=='Unemployed'].groupby(['Occupation'])['Age'].describe()"
   ]
  },
  {
   "cell_type": "markdown",
   "id": "5db45011",
   "metadata": {},
   "source": [
    "- Entry(96 years) above retirement age 65 years."
   ]
  },
  {
   "cell_type": "code",
   "execution_count": 58,
   "id": "7177bc61",
   "metadata": {},
   "outputs": [],
   "source": [
    "#Changing Occupation above retirement age (65) to 'Retired':\n",
    "census_df.loc[(census_df['Age']>65), 'Occupation'] = 'Retired'"
   ]
  },
  {
   "cell_type": "markdown",
   "id": "b8bd5f99",
   "metadata": {},
   "source": [
    "#### Creating a new feature 'Employment Status':\n",
    "\n",
    "Feature classifies entries into Employed, Unemployed, Student (all students including university and PhD. students) and Retired."
   ]
  },
  {
   "cell_type": "code",
   "execution_count": 59,
   "id": "04190010",
   "metadata": {
    "scrolled": false
   },
   "outputs": [],
   "source": [
    "employedDf = census_df[(census_df['Occupation']!='Child') & (census_df['Occupation']!='PhD Student') & \\\n",
    "              (census_df['Occupation']!='University Student') &(census_df['Occupation']!='Retired') & \\\n",
    "              (census_df['Occupation']!='Unemployed') & (census_df['Occupation']!='Student')]['Occupation']\n",
    "employment = []\n",
    "for indx, entry in census_df.iterrows():\n",
    "    if entry['Occupation'] in ['Student','University Student','PhD Student']:\n",
    "        status = 'Student'\n",
    "        employment.append(status)\n",
    "    elif entry['Occupation'] in list(employedDf):\n",
    "        status = 'Employed'\n",
    "        employment.append(status)\n",
    "    else:\n",
    "        status = entry['Occupation']\n",
    "        employment.append(status)\n",
    "        \n",
    "census_df['Employment Status'] = employment"
   ]
  },
  {
   "cell_type": "code",
   "execution_count": null,
   "id": "cd101ff6",
   "metadata": {},
   "outputs": [],
   "source": []
  },
  {
   "cell_type": "code",
   "execution_count": 60,
   "id": "1fe2abfc",
   "metadata": {},
   "outputs": [
    {
     "data": {
      "text/plain": [
       "array(['Employed', 'Student', 'Unemployed', 'Child', 'Retired'],\n",
       "      dtype=object)"
      ]
     },
     "execution_count": 60,
     "metadata": {},
     "output_type": "execute_result"
    }
   ],
   "source": [
    "#New unique values in Occupation:\n",
    "census_df['Employment Status'].unique()"
   ]
  },
  {
   "cell_type": "markdown",
   "id": "3ef97e7e",
   "metadata": {},
   "source": [
    "- We now have Occupation categories as either Employed, Unemployed, Retired, Student or Chile."
   ]
  },
  {
   "cell_type": "code",
   "execution_count": 61,
   "id": "aeec1e83",
   "metadata": {
    "scrolled": false
   },
   "outputs": [
    {
     "data": {
      "text/html": [
       "<div>\n",
       "<style scoped>\n",
       "    .dataframe tbody tr th:only-of-type {\n",
       "        vertical-align: middle;\n",
       "    }\n",
       "\n",
       "    .dataframe tbody tr th {\n",
       "        vertical-align: top;\n",
       "    }\n",
       "\n",
       "    .dataframe thead th {\n",
       "        text-align: right;\n",
       "    }\n",
       "</style>\n",
       "<table border=\"1\" class=\"dataframe\">\n",
       "  <thead>\n",
       "    <tr style=\"text-align: right;\">\n",
       "      <th></th>\n",
       "      <th>count</th>\n",
       "      <th>mean</th>\n",
       "      <th>std</th>\n",
       "      <th>min</th>\n",
       "      <th>25%</th>\n",
       "      <th>50%</th>\n",
       "      <th>75%</th>\n",
       "      <th>max</th>\n",
       "    </tr>\n",
       "    <tr>\n",
       "      <th>Employment Status</th>\n",
       "      <th></th>\n",
       "      <th></th>\n",
       "      <th></th>\n",
       "      <th></th>\n",
       "      <th></th>\n",
       "      <th></th>\n",
       "      <th></th>\n",
       "      <th></th>\n",
       "    </tr>\n",
       "  </thead>\n",
       "  <tbody>\n",
       "    <tr>\n",
       "      <th>Child</th>\n",
       "      <td>473.0</td>\n",
       "      <td>2.114165</td>\n",
       "      <td>1.439335</td>\n",
       "      <td>0.0</td>\n",
       "      <td>1.0</td>\n",
       "      <td>2.0</td>\n",
       "      <td>3.0</td>\n",
       "      <td>4.0</td>\n",
       "    </tr>\n",
       "    <tr>\n",
       "      <th>Employed</th>\n",
       "      <td>4392.0</td>\n",
       "      <td>42.168488</td>\n",
       "      <td>11.692672</td>\n",
       "      <td>19.0</td>\n",
       "      <td>33.0</td>\n",
       "      <td>42.0</td>\n",
       "      <td>51.0</td>\n",
       "      <td>65.0</td>\n",
       "    </tr>\n",
       "    <tr>\n",
       "      <th>Retired</th>\n",
       "      <td>897.0</td>\n",
       "      <td>75.687848</td>\n",
       "      <td>8.141508</td>\n",
       "      <td>66.0</td>\n",
       "      <td>69.0</td>\n",
       "      <td>74.0</td>\n",
       "      <td>80.0</td>\n",
       "      <td>116.0</td>\n",
       "    </tr>\n",
       "    <tr>\n",
       "      <th>Student</th>\n",
       "      <td>2123.0</td>\n",
       "      <td>13.769195</td>\n",
       "      <td>5.223511</td>\n",
       "      <td>5.0</td>\n",
       "      <td>9.0</td>\n",
       "      <td>14.0</td>\n",
       "      <td>18.0</td>\n",
       "      <td>32.0</td>\n",
       "    </tr>\n",
       "    <tr>\n",
       "      <th>Unemployed</th>\n",
       "      <td>488.0</td>\n",
       "      <td>42.487705</td>\n",
       "      <td>11.260763</td>\n",
       "      <td>16.0</td>\n",
       "      <td>34.0</td>\n",
       "      <td>42.0</td>\n",
       "      <td>50.0</td>\n",
       "      <td>65.0</td>\n",
       "    </tr>\n",
       "  </tbody>\n",
       "</table>\n",
       "</div>"
      ],
      "text/plain": [
       "                    count       mean        std   min   25%   50%   75%    max\n",
       "Employment Status                                                             \n",
       "Child               473.0   2.114165   1.439335   0.0   1.0   2.0   3.0    4.0\n",
       "Employed           4392.0  42.168488  11.692672  19.0  33.0  42.0  51.0   65.0\n",
       "Retired             897.0  75.687848   8.141508  66.0  69.0  74.0  80.0  116.0\n",
       "Student            2123.0  13.769195   5.223511   5.0   9.0  14.0  18.0   32.0\n",
       "Unemployed          488.0  42.487705  11.260763  16.0  34.0  42.0  50.0   65.0"
      ]
     },
     "execution_count": 61,
     "metadata": {},
     "output_type": "execute_result"
    }
   ],
   "source": [
    "census_df.groupby(['Employment Status'])['Age'].describe()"
   ]
  },
  {
   "cell_type": "code",
   "execution_count": null,
   "id": "959d102a",
   "metadata": {},
   "outputs": [],
   "source": []
  },
  {
   "cell_type": "code",
   "execution_count": null,
   "id": "47f65ddd",
   "metadata": {
    "scrolled": false
   },
   "outputs": [],
   "source": []
  },
  {
   "cell_type": "markdown",
   "id": "3d1ceaf3",
   "metadata": {},
   "source": [
    "### Infirmity:"
   ]
  },
  {
   "cell_type": "code",
   "execution_count": 62,
   "id": "08f802a4",
   "metadata": {},
   "outputs": [
    {
     "data": {
      "text/plain": [
       "array(['None', 'Blind', ' ', 'Physical Disability', 'Mental Disability',\n",
       "       'Deaf', 'Unknown Infection', 'Disabled'], dtype=object)"
      ]
     },
     "execution_count": 62,
     "metadata": {},
     "output_type": "execute_result"
    }
   ],
   "source": [
    "#Checking unique values:\n",
    "census_df['Infirmity'].unique()"
   ]
  },
  {
   "cell_type": "markdown",
   "id": "691f6bf6",
   "metadata": {},
   "source": [
    "- Contains empty values (\"  \")."
   ]
  },
  {
   "cell_type": "code",
   "execution_count": 63,
   "id": "39b66171",
   "metadata": {
    "scrolled": false
   },
   "outputs": [
    {
     "data": {
      "text/html": [
       "<div>\n",
       "<style scoped>\n",
       "    .dataframe tbody tr th:only-of-type {\n",
       "        vertical-align: middle;\n",
       "    }\n",
       "\n",
       "    .dataframe tbody tr th {\n",
       "        vertical-align: top;\n",
       "    }\n",
       "\n",
       "    .dataframe thead th {\n",
       "        text-align: right;\n",
       "    }\n",
       "</style>\n",
       "<table border=\"1\" class=\"dataframe\">\n",
       "  <thead>\n",
       "    <tr style=\"text-align: right;\">\n",
       "      <th></th>\n",
       "      <th>House Number</th>\n",
       "      <th>Street</th>\n",
       "      <th>First Name</th>\n",
       "      <th>Surname</th>\n",
       "      <th>Age</th>\n",
       "      <th>Relationship to Head of House</th>\n",
       "      <th>Marital Status</th>\n",
       "      <th>Gender</th>\n",
       "      <th>Occupation</th>\n",
       "      <th>Infirmity</th>\n",
       "      <th>Religion</th>\n",
       "      <th>Employment Status</th>\n",
       "    </tr>\n",
       "  </thead>\n",
       "  <tbody>\n",
       "    <tr>\n",
       "      <th>102</th>\n",
       "      <td>2</td>\n",
       "      <td>Smith Port</td>\n",
       "      <td>Reece</td>\n",
       "      <td>Knight</td>\n",
       "      <td>28</td>\n",
       "      <td>Head</td>\n",
       "      <td>Married</td>\n",
       "      <td>Male</td>\n",
       "      <td>Garment/textile technologist</td>\n",
       "      <td></td>\n",
       "      <td>None</td>\n",
       "      <td>Employed</td>\n",
       "    </tr>\n",
       "    <tr>\n",
       "      <th>258</th>\n",
       "      <td>106</td>\n",
       "      <td>Smith Port</td>\n",
       "      <td>Raymond</td>\n",
       "      <td>Brookes</td>\n",
       "      <td>27</td>\n",
       "      <td>Head</td>\n",
       "      <td>Divorced</td>\n",
       "      <td>Male</td>\n",
       "      <td>Programmer, multimedia</td>\n",
       "      <td></td>\n",
       "      <td>None</td>\n",
       "      <td>Employed</td>\n",
       "    </tr>\n",
       "    <tr>\n",
       "      <th>1593</th>\n",
       "      <td>26</td>\n",
       "      <td>Brady Creek</td>\n",
       "      <td>Adam</td>\n",
       "      <td>Hewitt</td>\n",
       "      <td>64</td>\n",
       "      <td>Husband</td>\n",
       "      <td>Married</td>\n",
       "      <td>Male</td>\n",
       "      <td>Unemployed</td>\n",
       "      <td></td>\n",
       "      <td>None</td>\n",
       "      <td>Unemployed</td>\n",
       "    </tr>\n",
       "    <tr>\n",
       "      <th>4053</th>\n",
       "      <td>20</td>\n",
       "      <td>Pendragon Lane</td>\n",
       "      <td>Diane</td>\n",
       "      <td>Rees</td>\n",
       "      <td>9</td>\n",
       "      <td>Granddaughter</td>\n",
       "      <td>N/A</td>\n",
       "      <td>Female</td>\n",
       "      <td>Student</td>\n",
       "      <td></td>\n",
       "      <td>NaN</td>\n",
       "      <td>Student</td>\n",
       "    </tr>\n",
       "    <tr>\n",
       "      <th>5550</th>\n",
       "      <td>12</td>\n",
       "      <td>Manor Flats</td>\n",
       "      <td>Garry</td>\n",
       "      <td>Williamson</td>\n",
       "      <td>46</td>\n",
       "      <td>Head</td>\n",
       "      <td>Single</td>\n",
       "      <td>Male</td>\n",
       "      <td>Local government officer</td>\n",
       "      <td></td>\n",
       "      <td>Christian</td>\n",
       "      <td>Employed</td>\n",
       "    </tr>\n",
       "    <tr>\n",
       "      <th>5633</th>\n",
       "      <td>60</td>\n",
       "      <td>Manor Flats</td>\n",
       "      <td>Vincent</td>\n",
       "      <td>Walker</td>\n",
       "      <td>43</td>\n",
       "      <td>Husband</td>\n",
       "      <td>Married</td>\n",
       "      <td>Male</td>\n",
       "      <td>Equality and diversity officer</td>\n",
       "      <td></td>\n",
       "      <td>None</td>\n",
       "      <td>Employed</td>\n",
       "    </tr>\n",
       "    <tr>\n",
       "      <th>5726</th>\n",
       "      <td>2</td>\n",
       "      <td>Hewitt Avenue</td>\n",
       "      <td>Teresa</td>\n",
       "      <td>Jones</td>\n",
       "      <td>7</td>\n",
       "      <td>Daughter</td>\n",
       "      <td>N/A</td>\n",
       "      <td>Female</td>\n",
       "      <td>Student</td>\n",
       "      <td></td>\n",
       "      <td>NaN</td>\n",
       "      <td>Student</td>\n",
       "    </tr>\n",
       "    <tr>\n",
       "      <th>5798</th>\n",
       "      <td>3</td>\n",
       "      <td>CherryChestnut Spurs</td>\n",
       "      <td>Victor</td>\n",
       "      <td>Fletcher</td>\n",
       "      <td>16</td>\n",
       "      <td>Son</td>\n",
       "      <td>N/A</td>\n",
       "      <td>Male</td>\n",
       "      <td>Student</td>\n",
       "      <td></td>\n",
       "      <td>NaN</td>\n",
       "      <td>Student</td>\n",
       "    </tr>\n",
       "    <tr>\n",
       "      <th>5803</th>\n",
       "      <td>5</td>\n",
       "      <td>CherryChestnut Spurs</td>\n",
       "      <td>Valerie</td>\n",
       "      <td>Dixon</td>\n",
       "      <td>5</td>\n",
       "      <td>Daughter</td>\n",
       "      <td>N/A</td>\n",
       "      <td>Female</td>\n",
       "      <td>Student</td>\n",
       "      <td></td>\n",
       "      <td>NaN</td>\n",
       "      <td>Student</td>\n",
       "    </tr>\n",
       "    <tr>\n",
       "      <th>6677</th>\n",
       "      <td>65</td>\n",
       "      <td>ExcaliburBellsby Drive</td>\n",
       "      <td>Hannah</td>\n",
       "      <td>Charlton</td>\n",
       "      <td>63</td>\n",
       "      <td>None</td>\n",
       "      <td>Single</td>\n",
       "      <td>Female</td>\n",
       "      <td>Tree surgeon</td>\n",
       "      <td></td>\n",
       "      <td>None</td>\n",
       "      <td>Employed</td>\n",
       "    </tr>\n",
       "    <tr>\n",
       "      <th>7030</th>\n",
       "      <td>38</td>\n",
       "      <td>Squirrel Street</td>\n",
       "      <td>Francesca</td>\n",
       "      <td>Green</td>\n",
       "      <td>26</td>\n",
       "      <td>Wife</td>\n",
       "      <td>Married</td>\n",
       "      <td>Female</td>\n",
       "      <td>Chartered public finance accountant</td>\n",
       "      <td></td>\n",
       "      <td>Catholic</td>\n",
       "      <td>Employed</td>\n",
       "    </tr>\n",
       "    <tr>\n",
       "      <th>7452</th>\n",
       "      <td>52</td>\n",
       "      <td>Canterbury Well</td>\n",
       "      <td>Lee</td>\n",
       "      <td>Bowen</td>\n",
       "      <td>47</td>\n",
       "      <td>Husband</td>\n",
       "      <td>Married</td>\n",
       "      <td>Male</td>\n",
       "      <td>Public affairs consultant</td>\n",
       "      <td></td>\n",
       "      <td>Catholic</td>\n",
       "      <td>Employed</td>\n",
       "    </tr>\n",
       "    <tr>\n",
       "      <th>8023</th>\n",
       "      <td>27</td>\n",
       "      <td>Snapdragon Run</td>\n",
       "      <td>Shane</td>\n",
       "      <td>Bailey</td>\n",
       "      <td>89</td>\n",
       "      <td>Head</td>\n",
       "      <td>Widowed</td>\n",
       "      <td>Male</td>\n",
       "      <td>Retired</td>\n",
       "      <td></td>\n",
       "      <td>None</td>\n",
       "      <td>Retired</td>\n",
       "    </tr>\n",
       "  </tbody>\n",
       "</table>\n",
       "</div>"
      ],
      "text/plain": [
       "      House Number                  Street First Name     Surname  Age  \\\n",
       "102              2              Smith Port      Reece      Knight   28   \n",
       "258            106              Smith Port    Raymond     Brookes   27   \n",
       "1593            26             Brady Creek       Adam      Hewitt   64   \n",
       "4053            20          Pendragon Lane      Diane        Rees    9   \n",
       "5550            12             Manor Flats      Garry  Williamson   46   \n",
       "5633            60             Manor Flats    Vincent      Walker   43   \n",
       "5726             2           Hewitt Avenue     Teresa       Jones    7   \n",
       "5798             3    CherryChestnut Spurs     Victor    Fletcher   16   \n",
       "5803             5    CherryChestnut Spurs    Valerie       Dixon    5   \n",
       "6677            65  ExcaliburBellsby Drive     Hannah    Charlton   63   \n",
       "7030            38         Squirrel Street  Francesca       Green   26   \n",
       "7452            52         Canterbury Well        Lee       Bowen   47   \n",
       "8023            27          Snapdragon Run      Shane      Bailey   89   \n",
       "\n",
       "     Relationship to Head of House Marital Status  Gender  \\\n",
       "102                           Head        Married    Male   \n",
       "258                           Head       Divorced    Male   \n",
       "1593                       Husband        Married    Male   \n",
       "4053                 Granddaughter            N/A  Female   \n",
       "5550                          Head         Single    Male   \n",
       "5633                       Husband        Married    Male   \n",
       "5726                      Daughter            N/A  Female   \n",
       "5798                           Son            N/A    Male   \n",
       "5803                      Daughter            N/A  Female   \n",
       "6677                          None         Single  Female   \n",
       "7030                          Wife        Married  Female   \n",
       "7452                       Husband        Married    Male   \n",
       "8023                          Head        Widowed    Male   \n",
       "\n",
       "                               Occupation Infirmity   Religion  \\\n",
       "102          Garment/textile technologist                 None   \n",
       "258                Programmer, multimedia                 None   \n",
       "1593                           Unemployed                 None   \n",
       "4053                              Student                  NaN   \n",
       "5550             Local government officer            Christian   \n",
       "5633       Equality and diversity officer                 None   \n",
       "5726                              Student                  NaN   \n",
       "5798                              Student                  NaN   \n",
       "5803                              Student                  NaN   \n",
       "6677                         Tree surgeon                 None   \n",
       "7030  Chartered public finance accountant             Catholic   \n",
       "7452            Public affairs consultant             Catholic   \n",
       "8023                              Retired                 None   \n",
       "\n",
       "     Employment Status  \n",
       "102           Employed  \n",
       "258           Employed  \n",
       "1593        Unemployed  \n",
       "4053           Student  \n",
       "5550          Employed  \n",
       "5633          Employed  \n",
       "5726           Student  \n",
       "5798           Student  \n",
       "5803           Student  \n",
       "6677          Employed  \n",
       "7030          Employed  \n",
       "7452          Employed  \n",
       "8023           Retired  "
      ]
     },
     "execution_count": 63,
     "metadata": {},
     "output_type": "execute_result"
    }
   ],
   "source": [
    "#Returning all entries with \"  \" for Infirmities:\n",
    "census_df[census_df['Infirmity']==' ']"
   ]
  },
  {
   "cell_type": "markdown",
   "id": "94ce70d0",
   "metadata": {},
   "source": [
    "- More informtion like medical records are needed to make inference on whether an entry has infirmity or not.\n",
    "- Since the information given is not sufficient enough, the empty values will be replaced with a new value, 'Undisclosed'."
   ]
  },
  {
   "cell_type": "code",
   "execution_count": 64,
   "id": "7169f89c",
   "metadata": {},
   "outputs": [],
   "source": [
    "#Replacing the empty strings with 'Undisclosed':\n",
    "census_df.loc[(census_df['Infirmity']==' '), 'Infirmity'] = 'Undisclosed'"
   ]
  },
  {
   "cell_type": "code",
   "execution_count": 65,
   "id": "68e7027d",
   "metadata": {},
   "outputs": [
    {
     "data": {
      "text/html": [
       "<div>\n",
       "<style scoped>\n",
       "    .dataframe tbody tr th:only-of-type {\n",
       "        vertical-align: middle;\n",
       "    }\n",
       "\n",
       "    .dataframe tbody tr th {\n",
       "        vertical-align: top;\n",
       "    }\n",
       "\n",
       "    .dataframe thead th {\n",
       "        text-align: right;\n",
       "    }\n",
       "</style>\n",
       "<table border=\"1\" class=\"dataframe\">\n",
       "  <thead>\n",
       "    <tr style=\"text-align: right;\">\n",
       "      <th></th>\n",
       "      <th>House Number</th>\n",
       "      <th>Street</th>\n",
       "      <th>First Name</th>\n",
       "      <th>Surname</th>\n",
       "      <th>Age</th>\n",
       "      <th>Relationship to Head of House</th>\n",
       "      <th>Marital Status</th>\n",
       "      <th>Gender</th>\n",
       "      <th>Occupation</th>\n",
       "      <th>Infirmity</th>\n",
       "      <th>Religion</th>\n",
       "      <th>Employment Status</th>\n",
       "    </tr>\n",
       "  </thead>\n",
       "  <tbody>\n",
       "    <tr>\n",
       "      <th>102</th>\n",
       "      <td>2</td>\n",
       "      <td>Smith Port</td>\n",
       "      <td>Reece</td>\n",
       "      <td>Knight</td>\n",
       "      <td>28</td>\n",
       "      <td>Head</td>\n",
       "      <td>Married</td>\n",
       "      <td>Male</td>\n",
       "      <td>Garment/textile technologist</td>\n",
       "      <td>Undisclosed</td>\n",
       "      <td>None</td>\n",
       "      <td>Employed</td>\n",
       "    </tr>\n",
       "    <tr>\n",
       "      <th>258</th>\n",
       "      <td>106</td>\n",
       "      <td>Smith Port</td>\n",
       "      <td>Raymond</td>\n",
       "      <td>Brookes</td>\n",
       "      <td>27</td>\n",
       "      <td>Head</td>\n",
       "      <td>Divorced</td>\n",
       "      <td>Male</td>\n",
       "      <td>Programmer, multimedia</td>\n",
       "      <td>Undisclosed</td>\n",
       "      <td>None</td>\n",
       "      <td>Employed</td>\n",
       "    </tr>\n",
       "    <tr>\n",
       "      <th>1593</th>\n",
       "      <td>26</td>\n",
       "      <td>Brady Creek</td>\n",
       "      <td>Adam</td>\n",
       "      <td>Hewitt</td>\n",
       "      <td>64</td>\n",
       "      <td>Husband</td>\n",
       "      <td>Married</td>\n",
       "      <td>Male</td>\n",
       "      <td>Unemployed</td>\n",
       "      <td>Undisclosed</td>\n",
       "      <td>None</td>\n",
       "      <td>Unemployed</td>\n",
       "    </tr>\n",
       "    <tr>\n",
       "      <th>4053</th>\n",
       "      <td>20</td>\n",
       "      <td>Pendragon Lane</td>\n",
       "      <td>Diane</td>\n",
       "      <td>Rees</td>\n",
       "      <td>9</td>\n",
       "      <td>Granddaughter</td>\n",
       "      <td>N/A</td>\n",
       "      <td>Female</td>\n",
       "      <td>Student</td>\n",
       "      <td>Undisclosed</td>\n",
       "      <td>NaN</td>\n",
       "      <td>Student</td>\n",
       "    </tr>\n",
       "    <tr>\n",
       "      <th>5550</th>\n",
       "      <td>12</td>\n",
       "      <td>Manor Flats</td>\n",
       "      <td>Garry</td>\n",
       "      <td>Williamson</td>\n",
       "      <td>46</td>\n",
       "      <td>Head</td>\n",
       "      <td>Single</td>\n",
       "      <td>Male</td>\n",
       "      <td>Local government officer</td>\n",
       "      <td>Undisclosed</td>\n",
       "      <td>Christian</td>\n",
       "      <td>Employed</td>\n",
       "    </tr>\n",
       "  </tbody>\n",
       "</table>\n",
       "</div>"
      ],
      "text/plain": [
       "      House Number          Street First Name     Surname  Age  \\\n",
       "102              2      Smith Port      Reece      Knight   28   \n",
       "258            106      Smith Port    Raymond     Brookes   27   \n",
       "1593            26     Brady Creek       Adam      Hewitt   64   \n",
       "4053            20  Pendragon Lane      Diane        Rees    9   \n",
       "5550            12     Manor Flats      Garry  Williamson   46   \n",
       "\n",
       "     Relationship to Head of House Marital Status  Gender  \\\n",
       "102                           Head        Married    Male   \n",
       "258                           Head       Divorced    Male   \n",
       "1593                       Husband        Married    Male   \n",
       "4053                 Granddaughter            N/A  Female   \n",
       "5550                          Head         Single    Male   \n",
       "\n",
       "                        Occupation    Infirmity   Religion Employment Status  \n",
       "102   Garment/textile technologist  Undisclosed       None          Employed  \n",
       "258         Programmer, multimedia  Undisclosed       None          Employed  \n",
       "1593                    Unemployed  Undisclosed       None        Unemployed  \n",
       "4053                       Student  Undisclosed        NaN           Student  \n",
       "5550      Local government officer  Undisclosed  Christian          Employed  "
      ]
     },
     "execution_count": 65,
     "metadata": {},
     "output_type": "execute_result"
    }
   ],
   "source": [
    "census_df[census_df['Infirmity']=='Undisclosed'].head()"
   ]
  },
  {
   "cell_type": "markdown",
   "id": "62ed1648",
   "metadata": {},
   "source": [
    "- Note: New attribute 'Undisclosed' now indicates those individuals who didn't disclose infirmity status."
   ]
  },
  {
   "cell_type": "markdown",
   "id": "8291cbb2",
   "metadata": {},
   "source": [
    "### Religion:"
   ]
  },
  {
   "cell_type": "code",
   "execution_count": 66,
   "id": "ec2f82c5",
   "metadata": {
    "scrolled": true
   },
   "outputs": [
    {
     "data": {
      "text/plain": [
       "array(['Catholic', nan, 'Methodist', 'None', 'Christian', 'Jewish',\n",
       "       'Sikh', 'Muslim', 'Buddist', 'Quaker', 'Housekeeper', 'Jedi',\n",
       "       'Pagan', ' ', 'Private', 'Orthodoxy'], dtype=object)"
      ]
     },
     "execution_count": 66,
     "metadata": {},
     "output_type": "execute_result"
    }
   ],
   "source": [
    "#Checking unique entries:\n",
    "census_df['Religion'].unique()"
   ]
  },
  {
   "cell_type": "markdown",
   "id": "485a6c2f",
   "metadata": {},
   "source": [
    "\n",
    "- Contains Empty Strings(\"    \") and Null values."
   ]
  },
  {
   "cell_type": "markdown",
   "id": "998a73f7",
   "metadata": {},
   "source": [
    "Treating Empty String (\"   \") values:"
   ]
  },
  {
   "cell_type": "code",
   "execution_count": 67,
   "id": "0801ac93",
   "metadata": {
    "scrolled": true
   },
   "outputs": [
    {
     "data": {
      "text/html": [
       "<div>\n",
       "<style scoped>\n",
       "    .dataframe tbody tr th:only-of-type {\n",
       "        vertical-align: middle;\n",
       "    }\n",
       "\n",
       "    .dataframe tbody tr th {\n",
       "        vertical-align: top;\n",
       "    }\n",
       "\n",
       "    .dataframe thead th {\n",
       "        text-align: right;\n",
       "    }\n",
       "</style>\n",
       "<table border=\"1\" class=\"dataframe\">\n",
       "  <thead>\n",
       "    <tr style=\"text-align: right;\">\n",
       "      <th></th>\n",
       "      <th>House Number</th>\n",
       "      <th>Street</th>\n",
       "      <th>First Name</th>\n",
       "      <th>Surname</th>\n",
       "      <th>Age</th>\n",
       "      <th>Relationship to Head of House</th>\n",
       "      <th>Marital Status</th>\n",
       "      <th>Gender</th>\n",
       "      <th>Occupation</th>\n",
       "      <th>Infirmity</th>\n",
       "      <th>Religion</th>\n",
       "      <th>Employment Status</th>\n",
       "    </tr>\n",
       "  </thead>\n",
       "  <tbody>\n",
       "    <tr>\n",
       "      <th>4286</th>\n",
       "      <td>12</td>\n",
       "      <td>Jones Ramp</td>\n",
       "      <td>Jane</td>\n",
       "      <td>Armstrong</td>\n",
       "      <td>46</td>\n",
       "      <td>Wife</td>\n",
       "      <td>Married</td>\n",
       "      <td>Female</td>\n",
       "      <td>Garment/textile technologist</td>\n",
       "      <td>None</td>\n",
       "      <td></td>\n",
       "      <td>Employed</td>\n",
       "    </tr>\n",
       "    <tr>\n",
       "      <th>7483</th>\n",
       "      <td>58</td>\n",
       "      <td>Canterbury Well</td>\n",
       "      <td>Christopher</td>\n",
       "      <td>Cole</td>\n",
       "      <td>15</td>\n",
       "      <td>Son</td>\n",
       "      <td>N/A</td>\n",
       "      <td>Male</td>\n",
       "      <td>Student</td>\n",
       "      <td>None</td>\n",
       "      <td></td>\n",
       "      <td>Student</td>\n",
       "    </tr>\n",
       "  </tbody>\n",
       "</table>\n",
       "</div>"
      ],
      "text/plain": [
       "      House Number           Street   First Name    Surname  Age  \\\n",
       "4286            12       Jones Ramp         Jane  Armstrong   46   \n",
       "7483            58  Canterbury Well  Christopher       Cole   15   \n",
       "\n",
       "     Relationship to Head of House Marital Status  Gender  \\\n",
       "4286                          Wife        Married  Female   \n",
       "7483                           Son            N/A    Male   \n",
       "\n",
       "                        Occupation Infirmity Religion Employment Status  \n",
       "4286  Garment/textile technologist      None                   Employed  \n",
       "7483                       Student      None                    Student  "
      ]
     },
     "execution_count": 67,
     "metadata": {},
     "output_type": "execute_result"
    }
   ],
   "source": [
    "#Entries with Religion as \"  \":\n",
    "census_df[census_df['Religion']==' ']"
   ]
  },
  {
   "cell_type": "markdown",
   "id": "76a6a192",
   "metadata": {},
   "source": [
    "- Rows 4286 and 7483 contains \"  \" as Religion."
   ]
  },
  {
   "cell_type": "markdown",
   "id": "4e6224d5",
   "metadata": {},
   "source": [
    "Checking the details of Jane's family:"
   ]
  },
  {
   "cell_type": "code",
   "execution_count": 68,
   "id": "10b922ee",
   "metadata": {},
   "outputs": [
    {
     "data": {
      "text/html": [
       "<div>\n",
       "<style scoped>\n",
       "    .dataframe tbody tr th:only-of-type {\n",
       "        vertical-align: middle;\n",
       "    }\n",
       "\n",
       "    .dataframe tbody tr th {\n",
       "        vertical-align: top;\n",
       "    }\n",
       "\n",
       "    .dataframe thead th {\n",
       "        text-align: right;\n",
       "    }\n",
       "</style>\n",
       "<table border=\"1\" class=\"dataframe\">\n",
       "  <thead>\n",
       "    <tr style=\"text-align: right;\">\n",
       "      <th></th>\n",
       "      <th>House Number</th>\n",
       "      <th>Street</th>\n",
       "      <th>First Name</th>\n",
       "      <th>Surname</th>\n",
       "      <th>Age</th>\n",
       "      <th>Relationship to Head of House</th>\n",
       "      <th>Marital Status</th>\n",
       "      <th>Gender</th>\n",
       "      <th>Occupation</th>\n",
       "      <th>Infirmity</th>\n",
       "      <th>Religion</th>\n",
       "      <th>Employment Status</th>\n",
       "    </tr>\n",
       "  </thead>\n",
       "  <tbody>\n",
       "    <tr>\n",
       "      <th>4285</th>\n",
       "      <td>12</td>\n",
       "      <td>Jones Ramp</td>\n",
       "      <td>Sam</td>\n",
       "      <td>Armstrong</td>\n",
       "      <td>49</td>\n",
       "      <td>Head</td>\n",
       "      <td>Married</td>\n",
       "      <td>Male</td>\n",
       "      <td>Accountant, chartered certified</td>\n",
       "      <td>None</td>\n",
       "      <td>Catholic</td>\n",
       "      <td>Employed</td>\n",
       "    </tr>\n",
       "    <tr>\n",
       "      <th>4286</th>\n",
       "      <td>12</td>\n",
       "      <td>Jones Ramp</td>\n",
       "      <td>Jane</td>\n",
       "      <td>Armstrong</td>\n",
       "      <td>46</td>\n",
       "      <td>Wife</td>\n",
       "      <td>Married</td>\n",
       "      <td>Female</td>\n",
       "      <td>Garment/textile technologist</td>\n",
       "      <td>None</td>\n",
       "      <td></td>\n",
       "      <td>Employed</td>\n",
       "    </tr>\n",
       "  </tbody>\n",
       "</table>\n",
       "</div>"
      ],
      "text/plain": [
       "      House Number      Street First Name    Surname  Age  \\\n",
       "4285            12  Jones Ramp        Sam  Armstrong   49   \n",
       "4286            12  Jones Ramp       Jane  Armstrong   46   \n",
       "\n",
       "     Relationship to Head of House Marital Status  Gender  \\\n",
       "4285                          Head        Married    Male   \n",
       "4286                          Wife        Married  Female   \n",
       "\n",
       "                           Occupation Infirmity  Religion Employment Status  \n",
       "4285  Accountant, chartered certified      None  Catholic          Employed  \n",
       "4286     Garment/textile technologist      None                    Employed  "
      ]
     },
     "execution_count": 68,
     "metadata": {},
     "output_type": "execute_result"
    }
   ],
   "source": [
    "#Family entries at row 4288 address details:\n",
    "census_df.loc[(census_df['House Number']==12) & (census_df['Street']=='Jones Ramp')]"
   ]
  },
  {
   "cell_type": "markdown",
   "id": "55087bb9",
   "metadata": {},
   "source": [
    "- Jane Armstrong is currently married and living with Sam Armstrong whose religion is catholic. Hence, it is highly likely that her religion is catholic as well."
   ]
  },
  {
   "cell_type": "code",
   "execution_count": 69,
   "id": "12284565",
   "metadata": {},
   "outputs": [],
   "source": [
    "#Replacing Religion for Jane with 'Catholic':\n",
    "census_df.loc[4286,'Religion'] = 'Catholic'"
   ]
  },
  {
   "cell_type": "code",
   "execution_count": 70,
   "id": "3fe4d6d1",
   "metadata": {},
   "outputs": [
    {
     "data": {
      "text/html": [
       "<div>\n",
       "<style scoped>\n",
       "    .dataframe tbody tr th:only-of-type {\n",
       "        vertical-align: middle;\n",
       "    }\n",
       "\n",
       "    .dataframe tbody tr th {\n",
       "        vertical-align: top;\n",
       "    }\n",
       "\n",
       "    .dataframe thead th {\n",
       "        text-align: right;\n",
       "    }\n",
       "</style>\n",
       "<table border=\"1\" class=\"dataframe\">\n",
       "  <thead>\n",
       "    <tr style=\"text-align: right;\">\n",
       "      <th></th>\n",
       "      <th>House Number</th>\n",
       "      <th>Street</th>\n",
       "      <th>First Name</th>\n",
       "      <th>Surname</th>\n",
       "      <th>Age</th>\n",
       "      <th>Relationship to Head of House</th>\n",
       "      <th>Marital Status</th>\n",
       "      <th>Gender</th>\n",
       "      <th>Occupation</th>\n",
       "      <th>Infirmity</th>\n",
       "      <th>Religion</th>\n",
       "      <th>Employment Status</th>\n",
       "    </tr>\n",
       "  </thead>\n",
       "  <tbody>\n",
       "    <tr>\n",
       "      <th>4285</th>\n",
       "      <td>12</td>\n",
       "      <td>Jones Ramp</td>\n",
       "      <td>Sam</td>\n",
       "      <td>Armstrong</td>\n",
       "      <td>49</td>\n",
       "      <td>Head</td>\n",
       "      <td>Married</td>\n",
       "      <td>Male</td>\n",
       "      <td>Accountant, chartered certified</td>\n",
       "      <td>None</td>\n",
       "      <td>Catholic</td>\n",
       "      <td>Employed</td>\n",
       "    </tr>\n",
       "    <tr>\n",
       "      <th>4286</th>\n",
       "      <td>12</td>\n",
       "      <td>Jones Ramp</td>\n",
       "      <td>Jane</td>\n",
       "      <td>Armstrong</td>\n",
       "      <td>46</td>\n",
       "      <td>Wife</td>\n",
       "      <td>Married</td>\n",
       "      <td>Female</td>\n",
       "      <td>Garment/textile technologist</td>\n",
       "      <td>None</td>\n",
       "      <td>Catholic</td>\n",
       "      <td>Employed</td>\n",
       "    </tr>\n",
       "  </tbody>\n",
       "</table>\n",
       "</div>"
      ],
      "text/plain": [
       "      House Number      Street First Name    Surname  Age  \\\n",
       "4285            12  Jones Ramp        Sam  Armstrong   49   \n",
       "4286            12  Jones Ramp       Jane  Armstrong   46   \n",
       "\n",
       "     Relationship to Head of House Marital Status  Gender  \\\n",
       "4285                          Head        Married    Male   \n",
       "4286                          Wife        Married  Female   \n",
       "\n",
       "                           Occupation Infirmity  Religion Employment Status  \n",
       "4285  Accountant, chartered certified      None  Catholic          Employed  \n",
       "4286     Garment/textile technologist      None  Catholic          Employed  "
      ]
     },
     "execution_count": 70,
     "metadata": {},
     "output_type": "execute_result"
    }
   ],
   "source": [
    "census_df.loc[(census_df['House Number']==12) & (census_df['Street']=='Jones Ramp')]"
   ]
  },
  {
   "cell_type": "markdown",
   "id": "738c4805",
   "metadata": {},
   "source": [
    "- Religion of Jane now replaced with Catholic."
   ]
  },
  {
   "cell_type": "markdown",
   "id": "54fa3dd0",
   "metadata": {},
   "source": [
    "Checking the details of Christopher's family:"
   ]
  },
  {
   "cell_type": "code",
   "execution_count": 71,
   "id": "d0e67df7",
   "metadata": {},
   "outputs": [
    {
     "data": {
      "text/html": [
       "<div>\n",
       "<style scoped>\n",
       "    .dataframe tbody tr th:only-of-type {\n",
       "        vertical-align: middle;\n",
       "    }\n",
       "\n",
       "    .dataframe tbody tr th {\n",
       "        vertical-align: top;\n",
       "    }\n",
       "\n",
       "    .dataframe thead th {\n",
       "        text-align: right;\n",
       "    }\n",
       "</style>\n",
       "<table border=\"1\" class=\"dataframe\">\n",
       "  <thead>\n",
       "    <tr style=\"text-align: right;\">\n",
       "      <th></th>\n",
       "      <th>House Number</th>\n",
       "      <th>Street</th>\n",
       "      <th>First Name</th>\n",
       "      <th>Surname</th>\n",
       "      <th>Age</th>\n",
       "      <th>Relationship to Head of House</th>\n",
       "      <th>Marital Status</th>\n",
       "      <th>Gender</th>\n",
       "      <th>Occupation</th>\n",
       "      <th>Infirmity</th>\n",
       "      <th>Religion</th>\n",
       "      <th>Employment Status</th>\n",
       "    </tr>\n",
       "  </thead>\n",
       "  <tbody>\n",
       "    <tr>\n",
       "      <th>7478</th>\n",
       "      <td>58</td>\n",
       "      <td>Canterbury Well</td>\n",
       "      <td>Daniel</td>\n",
       "      <td>Cole</td>\n",
       "      <td>62</td>\n",
       "      <td>Head</td>\n",
       "      <td>Single</td>\n",
       "      <td>Male</td>\n",
       "      <td>Water quality scientist</td>\n",
       "      <td>None</td>\n",
       "      <td>Methodist</td>\n",
       "      <td>Employed</td>\n",
       "    </tr>\n",
       "    <tr>\n",
       "      <th>7479</th>\n",
       "      <td>58</td>\n",
       "      <td>Canterbury Well</td>\n",
       "      <td>Linda</td>\n",
       "      <td>Wallace</td>\n",
       "      <td>59</td>\n",
       "      <td>Partner</td>\n",
       "      <td>Single</td>\n",
       "      <td>Female</td>\n",
       "      <td>Buyer, retail</td>\n",
       "      <td>None</td>\n",
       "      <td>Methodist</td>\n",
       "      <td>Employed</td>\n",
       "    </tr>\n",
       "    <tr>\n",
       "      <th>7480</th>\n",
       "      <td>58</td>\n",
       "      <td>Canterbury Well</td>\n",
       "      <td>Donna</td>\n",
       "      <td>Cole</td>\n",
       "      <td>25</td>\n",
       "      <td>Daughter</td>\n",
       "      <td>Single</td>\n",
       "      <td>Female</td>\n",
       "      <td>Maintenance engineer</td>\n",
       "      <td>None</td>\n",
       "      <td>None</td>\n",
       "      <td>Employed</td>\n",
       "    </tr>\n",
       "    <tr>\n",
       "      <th>7481</th>\n",
       "      <td>58</td>\n",
       "      <td>Canterbury Well</td>\n",
       "      <td>Deborah</td>\n",
       "      <td>Cole</td>\n",
       "      <td>21</td>\n",
       "      <td>Daughter</td>\n",
       "      <td>Single</td>\n",
       "      <td>Female</td>\n",
       "      <td>University Student</td>\n",
       "      <td>None</td>\n",
       "      <td>Methodist</td>\n",
       "      <td>Student</td>\n",
       "    </tr>\n",
       "    <tr>\n",
       "      <th>7482</th>\n",
       "      <td>58</td>\n",
       "      <td>Canterbury Well</td>\n",
       "      <td>Gerard</td>\n",
       "      <td>Cole</td>\n",
       "      <td>19</td>\n",
       "      <td>Son</td>\n",
       "      <td>Single</td>\n",
       "      <td>Male</td>\n",
       "      <td>University Student</td>\n",
       "      <td>None</td>\n",
       "      <td>None</td>\n",
       "      <td>Student</td>\n",
       "    </tr>\n",
       "    <tr>\n",
       "      <th>7483</th>\n",
       "      <td>58</td>\n",
       "      <td>Canterbury Well</td>\n",
       "      <td>Christopher</td>\n",
       "      <td>Cole</td>\n",
       "      <td>15</td>\n",
       "      <td>Son</td>\n",
       "      <td>N/A</td>\n",
       "      <td>Male</td>\n",
       "      <td>Student</td>\n",
       "      <td>None</td>\n",
       "      <td></td>\n",
       "      <td>Student</td>\n",
       "    </tr>\n",
       "  </tbody>\n",
       "</table>\n",
       "</div>"
      ],
      "text/plain": [
       "      House Number           Street   First Name  Surname  Age  \\\n",
       "7478            58  Canterbury Well       Daniel     Cole   62   \n",
       "7479            58  Canterbury Well        Linda  Wallace   59   \n",
       "7480            58  Canterbury Well        Donna     Cole   25   \n",
       "7481            58  Canterbury Well      Deborah     Cole   21   \n",
       "7482            58  Canterbury Well       Gerard     Cole   19   \n",
       "7483            58  Canterbury Well  Christopher     Cole   15   \n",
       "\n",
       "     Relationship to Head of House Marital Status  Gender  \\\n",
       "7478                          Head         Single    Male   \n",
       "7479                       Partner         Single  Female   \n",
       "7480                      Daughter         Single  Female   \n",
       "7481                      Daughter         Single  Female   \n",
       "7482                           Son         Single    Male   \n",
       "7483                           Son            N/A    Male   \n",
       "\n",
       "                   Occupation Infirmity   Religion Employment Status  \n",
       "7478  Water quality scientist      None  Methodist          Employed  \n",
       "7479            Buyer, retail      None  Methodist          Employed  \n",
       "7480     Maintenance engineer      None       None          Employed  \n",
       "7481       University Student      None  Methodist           Student  \n",
       "7482       University Student      None       None           Student  \n",
       "7483                  Student      None                      Student  "
      ]
     },
     "execution_count": 71,
     "metadata": {},
     "output_type": "execute_result"
    }
   ],
   "source": [
    "census_df.loc[(census_df['House Number']==58) & (census_df['Street']=='Canterbury Well')]"
   ]
  },
  {
   "cell_type": "markdown",
   "id": "ebde3cb9",
   "metadata": {},
   "source": [
    "- As shown, Christopher Cole is 15 years which is still under the minor age bracket within the UK law and as a result, he can be assigned his parent's religion (Methodist)."
   ]
  },
  {
   "cell_type": "code",
   "execution_count": 72,
   "id": "105cd896",
   "metadata": {},
   "outputs": [],
   "source": [
    "#Replacing with Methodist:\n",
    "census_df.loc[7483,'Religion'] = 'Methodist'"
   ]
  },
  {
   "cell_type": "code",
   "execution_count": 73,
   "id": "71d52d73",
   "metadata": {},
   "outputs": [
    {
     "data": {
      "text/html": [
       "<div>\n",
       "<style scoped>\n",
       "    .dataframe tbody tr th:only-of-type {\n",
       "        vertical-align: middle;\n",
       "    }\n",
       "\n",
       "    .dataframe tbody tr th {\n",
       "        vertical-align: top;\n",
       "    }\n",
       "\n",
       "    .dataframe thead th {\n",
       "        text-align: right;\n",
       "    }\n",
       "</style>\n",
       "<table border=\"1\" class=\"dataframe\">\n",
       "  <thead>\n",
       "    <tr style=\"text-align: right;\">\n",
       "      <th></th>\n",
       "      <th>House Number</th>\n",
       "      <th>Street</th>\n",
       "      <th>First Name</th>\n",
       "      <th>Surname</th>\n",
       "      <th>Age</th>\n",
       "      <th>Relationship to Head of House</th>\n",
       "      <th>Marital Status</th>\n",
       "      <th>Gender</th>\n",
       "      <th>Occupation</th>\n",
       "      <th>Infirmity</th>\n",
       "      <th>Religion</th>\n",
       "      <th>Employment Status</th>\n",
       "    </tr>\n",
       "  </thead>\n",
       "  <tbody>\n",
       "    <tr>\n",
       "      <th>7478</th>\n",
       "      <td>58</td>\n",
       "      <td>Canterbury Well</td>\n",
       "      <td>Daniel</td>\n",
       "      <td>Cole</td>\n",
       "      <td>62</td>\n",
       "      <td>Head</td>\n",
       "      <td>Single</td>\n",
       "      <td>Male</td>\n",
       "      <td>Water quality scientist</td>\n",
       "      <td>None</td>\n",
       "      <td>Methodist</td>\n",
       "      <td>Employed</td>\n",
       "    </tr>\n",
       "    <tr>\n",
       "      <th>7479</th>\n",
       "      <td>58</td>\n",
       "      <td>Canterbury Well</td>\n",
       "      <td>Linda</td>\n",
       "      <td>Wallace</td>\n",
       "      <td>59</td>\n",
       "      <td>Partner</td>\n",
       "      <td>Single</td>\n",
       "      <td>Female</td>\n",
       "      <td>Buyer, retail</td>\n",
       "      <td>None</td>\n",
       "      <td>Methodist</td>\n",
       "      <td>Employed</td>\n",
       "    </tr>\n",
       "    <tr>\n",
       "      <th>7480</th>\n",
       "      <td>58</td>\n",
       "      <td>Canterbury Well</td>\n",
       "      <td>Donna</td>\n",
       "      <td>Cole</td>\n",
       "      <td>25</td>\n",
       "      <td>Daughter</td>\n",
       "      <td>Single</td>\n",
       "      <td>Female</td>\n",
       "      <td>Maintenance engineer</td>\n",
       "      <td>None</td>\n",
       "      <td>None</td>\n",
       "      <td>Employed</td>\n",
       "    </tr>\n",
       "    <tr>\n",
       "      <th>7481</th>\n",
       "      <td>58</td>\n",
       "      <td>Canterbury Well</td>\n",
       "      <td>Deborah</td>\n",
       "      <td>Cole</td>\n",
       "      <td>21</td>\n",
       "      <td>Daughter</td>\n",
       "      <td>Single</td>\n",
       "      <td>Female</td>\n",
       "      <td>University Student</td>\n",
       "      <td>None</td>\n",
       "      <td>Methodist</td>\n",
       "      <td>Student</td>\n",
       "    </tr>\n",
       "    <tr>\n",
       "      <th>7482</th>\n",
       "      <td>58</td>\n",
       "      <td>Canterbury Well</td>\n",
       "      <td>Gerard</td>\n",
       "      <td>Cole</td>\n",
       "      <td>19</td>\n",
       "      <td>Son</td>\n",
       "      <td>Single</td>\n",
       "      <td>Male</td>\n",
       "      <td>University Student</td>\n",
       "      <td>None</td>\n",
       "      <td>None</td>\n",
       "      <td>Student</td>\n",
       "    </tr>\n",
       "    <tr>\n",
       "      <th>7483</th>\n",
       "      <td>58</td>\n",
       "      <td>Canterbury Well</td>\n",
       "      <td>Christopher</td>\n",
       "      <td>Cole</td>\n",
       "      <td>15</td>\n",
       "      <td>Son</td>\n",
       "      <td>N/A</td>\n",
       "      <td>Male</td>\n",
       "      <td>Student</td>\n",
       "      <td>None</td>\n",
       "      <td>Methodist</td>\n",
       "      <td>Student</td>\n",
       "    </tr>\n",
       "  </tbody>\n",
       "</table>\n",
       "</div>"
      ],
      "text/plain": [
       "      House Number           Street   First Name  Surname  Age  \\\n",
       "7478            58  Canterbury Well       Daniel     Cole   62   \n",
       "7479            58  Canterbury Well        Linda  Wallace   59   \n",
       "7480            58  Canterbury Well        Donna     Cole   25   \n",
       "7481            58  Canterbury Well      Deborah     Cole   21   \n",
       "7482            58  Canterbury Well       Gerard     Cole   19   \n",
       "7483            58  Canterbury Well  Christopher     Cole   15   \n",
       "\n",
       "     Relationship to Head of House Marital Status  Gender  \\\n",
       "7478                          Head         Single    Male   \n",
       "7479                       Partner         Single  Female   \n",
       "7480                      Daughter         Single  Female   \n",
       "7481                      Daughter         Single  Female   \n",
       "7482                           Son         Single    Male   \n",
       "7483                           Son            N/A    Male   \n",
       "\n",
       "                   Occupation Infirmity   Religion Employment Status  \n",
       "7478  Water quality scientist      None  Methodist          Employed  \n",
       "7479            Buyer, retail      None  Methodist          Employed  \n",
       "7480     Maintenance engineer      None       None          Employed  \n",
       "7481       University Student      None  Methodist           Student  \n",
       "7482       University Student      None       None           Student  \n",
       "7483                  Student      None  Methodist           Student  "
      ]
     },
     "execution_count": 73,
     "metadata": {},
     "output_type": "execute_result"
    }
   ],
   "source": [
    "census_df.loc[(census_df['House Number']==58) & (census_df['Street']=='Canterbury Well')]"
   ]
  },
  {
   "cell_type": "markdown",
   "id": "7537322c",
   "metadata": {},
   "source": [
    "Fixing the Null values in Religion:"
   ]
  },
  {
   "cell_type": "code",
   "execution_count": 74,
   "id": "88546f19",
   "metadata": {},
   "outputs": [
    {
     "data": {
      "text/html": [
       "<div>\n",
       "<style scoped>\n",
       "    .dataframe tbody tr th:only-of-type {\n",
       "        vertical-align: middle;\n",
       "    }\n",
       "\n",
       "    .dataframe tbody tr th {\n",
       "        vertical-align: top;\n",
       "    }\n",
       "\n",
       "    .dataframe thead th {\n",
       "        text-align: right;\n",
       "    }\n",
       "</style>\n",
       "<table border=\"1\" class=\"dataframe\">\n",
       "  <thead>\n",
       "    <tr style=\"text-align: right;\">\n",
       "      <th></th>\n",
       "      <th>House Number</th>\n",
       "      <th>Street</th>\n",
       "      <th>First Name</th>\n",
       "      <th>Surname</th>\n",
       "      <th>Age</th>\n",
       "      <th>Relationship to Head of House</th>\n",
       "      <th>Marital Status</th>\n",
       "      <th>Gender</th>\n",
       "      <th>Occupation</th>\n",
       "      <th>Infirmity</th>\n",
       "      <th>Religion</th>\n",
       "      <th>Employment Status</th>\n",
       "    </tr>\n",
       "  </thead>\n",
       "  <tbody>\n",
       "    <tr>\n",
       "      <th>1</th>\n",
       "      <td>1</td>\n",
       "      <td>Regentchain Avenue</td>\n",
       "      <td>Deborah</td>\n",
       "      <td>Dale</td>\n",
       "      <td>11</td>\n",
       "      <td>Daughter</td>\n",
       "      <td>N/A</td>\n",
       "      <td>Female</td>\n",
       "      <td>Student</td>\n",
       "      <td>None</td>\n",
       "      <td>NaN</td>\n",
       "      <td>Student</td>\n",
       "    </tr>\n",
       "    <tr>\n",
       "      <th>2</th>\n",
       "      <td>1</td>\n",
       "      <td>Regentchain Avenue</td>\n",
       "      <td>Gary</td>\n",
       "      <td>Dale</td>\n",
       "      <td>7</td>\n",
       "      <td>Son</td>\n",
       "      <td>N/A</td>\n",
       "      <td>Male</td>\n",
       "      <td>Student</td>\n",
       "      <td>None</td>\n",
       "      <td>NaN</td>\n",
       "      <td>Student</td>\n",
       "    </tr>\n",
       "    <tr>\n",
       "      <th>6</th>\n",
       "      <td>2</td>\n",
       "      <td>Regentchain Avenue</td>\n",
       "      <td>Mandy</td>\n",
       "      <td>Grant</td>\n",
       "      <td>17</td>\n",
       "      <td>Daughter</td>\n",
       "      <td>N/A</td>\n",
       "      <td>Female</td>\n",
       "      <td>Student</td>\n",
       "      <td>None</td>\n",
       "      <td>NaN</td>\n",
       "      <td>Student</td>\n",
       "    </tr>\n",
       "    <tr>\n",
       "      <th>7</th>\n",
       "      <td>2</td>\n",
       "      <td>Regentchain Avenue</td>\n",
       "      <td>Amanda</td>\n",
       "      <td>Grant</td>\n",
       "      <td>11</td>\n",
       "      <td>Daughter</td>\n",
       "      <td>N/A</td>\n",
       "      <td>Female</td>\n",
       "      <td>Student</td>\n",
       "      <td>None</td>\n",
       "      <td>NaN</td>\n",
       "      <td>Student</td>\n",
       "    </tr>\n",
       "    <tr>\n",
       "      <th>14</th>\n",
       "      <td>4</td>\n",
       "      <td>Regentchain Avenue</td>\n",
       "      <td>Sandra</td>\n",
       "      <td>Price</td>\n",
       "      <td>4</td>\n",
       "      <td>Daughter</td>\n",
       "      <td>N/A</td>\n",
       "      <td>Female</td>\n",
       "      <td>Child</td>\n",
       "      <td>None</td>\n",
       "      <td>NaN</td>\n",
       "      <td>Child</td>\n",
       "    </tr>\n",
       "    <tr>\n",
       "      <th>...</th>\n",
       "      <td>...</td>\n",
       "      <td>...</td>\n",
       "      <td>...</td>\n",
       "      <td>...</td>\n",
       "      <td>...</td>\n",
       "      <td>...</td>\n",
       "      <td>...</td>\n",
       "      <td>...</td>\n",
       "      <td>...</td>\n",
       "      <td>...</td>\n",
       "      <td>...</td>\n",
       "      <td>...</td>\n",
       "    </tr>\n",
       "    <tr>\n",
       "      <th>8348</th>\n",
       "      <td>1</td>\n",
       "      <td>Oyster Manorhouse</td>\n",
       "      <td>Howard</td>\n",
       "      <td>Goodwin</td>\n",
       "      <td>17</td>\n",
       "      <td>Son</td>\n",
       "      <td>N/A</td>\n",
       "      <td>Male</td>\n",
       "      <td>Student</td>\n",
       "      <td>None</td>\n",
       "      <td>NaN</td>\n",
       "      <td>Student</td>\n",
       "    </tr>\n",
       "    <tr>\n",
       "      <th>8365</th>\n",
       "      <td>1</td>\n",
       "      <td>Howard House</td>\n",
       "      <td>Tom</td>\n",
       "      <td>Bryant</td>\n",
       "      <td>13</td>\n",
       "      <td>Son</td>\n",
       "      <td>N/A</td>\n",
       "      <td>Male</td>\n",
       "      <td>Student</td>\n",
       "      <td>None</td>\n",
       "      <td>NaN</td>\n",
       "      <td>Student</td>\n",
       "    </tr>\n",
       "    <tr>\n",
       "      <th>8366</th>\n",
       "      <td>1</td>\n",
       "      <td>Howard House</td>\n",
       "      <td>Jean</td>\n",
       "      <td>Bryant</td>\n",
       "      <td>8</td>\n",
       "      <td>Daughter</td>\n",
       "      <td>N/A</td>\n",
       "      <td>Female</td>\n",
       "      <td>Student</td>\n",
       "      <td>None</td>\n",
       "      <td>NaN</td>\n",
       "      <td>Student</td>\n",
       "    </tr>\n",
       "    <tr>\n",
       "      <th>8367</th>\n",
       "      <td>1</td>\n",
       "      <td>Howard House</td>\n",
       "      <td>Abbie</td>\n",
       "      <td>Bryant</td>\n",
       "      <td>4</td>\n",
       "      <td>Daughter</td>\n",
       "      <td>N/A</td>\n",
       "      <td>Female</td>\n",
       "      <td>Child</td>\n",
       "      <td>None</td>\n",
       "      <td>NaN</td>\n",
       "      <td>Child</td>\n",
       "    </tr>\n",
       "    <tr>\n",
       "      <th>8368</th>\n",
       "      <td>1</td>\n",
       "      <td>Howard House</td>\n",
       "      <td>Dennis</td>\n",
       "      <td>Bryant</td>\n",
       "      <td>1</td>\n",
       "      <td>Son</td>\n",
       "      <td>N/A</td>\n",
       "      <td>Male</td>\n",
       "      <td>Child</td>\n",
       "      <td>None</td>\n",
       "      <td>NaN</td>\n",
       "      <td>Child</td>\n",
       "    </tr>\n",
       "  </tbody>\n",
       "</table>\n",
       "<p>2009 rows × 12 columns</p>\n",
       "</div>"
      ],
      "text/plain": [
       "      House Number              Street First Name  Surname  Age  \\\n",
       "1                1  Regentchain Avenue    Deborah     Dale   11   \n",
       "2                1  Regentchain Avenue       Gary     Dale    7   \n",
       "6                2  Regentchain Avenue      Mandy    Grant   17   \n",
       "7                2  Regentchain Avenue     Amanda    Grant   11   \n",
       "14               4  Regentchain Avenue     Sandra    Price    4   \n",
       "...            ...                 ...        ...      ...  ...   \n",
       "8348             1   Oyster Manorhouse     Howard  Goodwin   17   \n",
       "8365             1        Howard House        Tom   Bryant   13   \n",
       "8366             1        Howard House       Jean   Bryant    8   \n",
       "8367             1        Howard House      Abbie   Bryant    4   \n",
       "8368             1        Howard House     Dennis   Bryant    1   \n",
       "\n",
       "     Relationship to Head of House Marital Status  Gender Occupation  \\\n",
       "1                         Daughter            N/A  Female    Student   \n",
       "2                              Son            N/A    Male    Student   \n",
       "6                         Daughter            N/A  Female    Student   \n",
       "7                         Daughter            N/A  Female    Student   \n",
       "14                        Daughter            N/A  Female      Child   \n",
       "...                            ...            ...     ...        ...   \n",
       "8348                           Son            N/A    Male    Student   \n",
       "8365                           Son            N/A    Male    Student   \n",
       "8366                      Daughter            N/A  Female    Student   \n",
       "8367                      Daughter            N/A  Female      Child   \n",
       "8368                           Son            N/A    Male      Child   \n",
       "\n",
       "     Infirmity Religion Employment Status  \n",
       "1         None      NaN           Student  \n",
       "2         None      NaN           Student  \n",
       "6         None      NaN           Student  \n",
       "7         None      NaN           Student  \n",
       "14        None      NaN             Child  \n",
       "...        ...      ...               ...  \n",
       "8348      None      NaN           Student  \n",
       "8365      None      NaN           Student  \n",
       "8366      None      NaN           Student  \n",
       "8367      None      NaN             Child  \n",
       "8368      None      NaN             Child  \n",
       "\n",
       "[2009 rows x 12 columns]"
      ]
     },
     "execution_count": 74,
     "metadata": {},
     "output_type": "execute_result"
    }
   ],
   "source": [
    "#All entries with Null values in Religion:\n",
    "census_df[census_df['Religion'].isna()]"
   ]
  },
  {
   "cell_type": "markdown",
   "id": "2a80f855",
   "metadata": {},
   "source": [
    "- Total of 2009 entries has null values"
   ]
  },
  {
   "cell_type": "markdown",
   "id": "64385d49",
   "metadata": {},
   "source": [
    "Checking for entries with null values whose ages are minors ( less than 18 years):"
   ]
  },
  {
   "cell_type": "code",
   "execution_count": 75,
   "id": "ee61692f",
   "metadata": {},
   "outputs": [
    {
     "data": {
      "text/html": [
       "<div>\n",
       "<style scoped>\n",
       "    .dataframe tbody tr th:only-of-type {\n",
       "        vertical-align: middle;\n",
       "    }\n",
       "\n",
       "    .dataframe tbody tr th {\n",
       "        vertical-align: top;\n",
       "    }\n",
       "\n",
       "    .dataframe thead th {\n",
       "        text-align: right;\n",
       "    }\n",
       "</style>\n",
       "<table border=\"1\" class=\"dataframe\">\n",
       "  <thead>\n",
       "    <tr style=\"text-align: right;\">\n",
       "      <th></th>\n",
       "      <th>House Number</th>\n",
       "      <th>Street</th>\n",
       "      <th>First Name</th>\n",
       "      <th>Surname</th>\n",
       "      <th>Age</th>\n",
       "      <th>Relationship to Head of House</th>\n",
       "      <th>Marital Status</th>\n",
       "      <th>Gender</th>\n",
       "      <th>Occupation</th>\n",
       "      <th>Infirmity</th>\n",
       "      <th>Religion</th>\n",
       "      <th>Employment Status</th>\n",
       "    </tr>\n",
       "  </thead>\n",
       "  <tbody>\n",
       "    <tr>\n",
       "      <th>1</th>\n",
       "      <td>1</td>\n",
       "      <td>Regentchain Avenue</td>\n",
       "      <td>Deborah</td>\n",
       "      <td>Dale</td>\n",
       "      <td>11</td>\n",
       "      <td>Daughter</td>\n",
       "      <td>N/A</td>\n",
       "      <td>Female</td>\n",
       "      <td>Student</td>\n",
       "      <td>None</td>\n",
       "      <td>NaN</td>\n",
       "      <td>Student</td>\n",
       "    </tr>\n",
       "    <tr>\n",
       "      <th>2</th>\n",
       "      <td>1</td>\n",
       "      <td>Regentchain Avenue</td>\n",
       "      <td>Gary</td>\n",
       "      <td>Dale</td>\n",
       "      <td>7</td>\n",
       "      <td>Son</td>\n",
       "      <td>N/A</td>\n",
       "      <td>Male</td>\n",
       "      <td>Student</td>\n",
       "      <td>None</td>\n",
       "      <td>NaN</td>\n",
       "      <td>Student</td>\n",
       "    </tr>\n",
       "    <tr>\n",
       "      <th>6</th>\n",
       "      <td>2</td>\n",
       "      <td>Regentchain Avenue</td>\n",
       "      <td>Mandy</td>\n",
       "      <td>Grant</td>\n",
       "      <td>17</td>\n",
       "      <td>Daughter</td>\n",
       "      <td>N/A</td>\n",
       "      <td>Female</td>\n",
       "      <td>Student</td>\n",
       "      <td>None</td>\n",
       "      <td>NaN</td>\n",
       "      <td>Student</td>\n",
       "    </tr>\n",
       "    <tr>\n",
       "      <th>7</th>\n",
       "      <td>2</td>\n",
       "      <td>Regentchain Avenue</td>\n",
       "      <td>Amanda</td>\n",
       "      <td>Grant</td>\n",
       "      <td>11</td>\n",
       "      <td>Daughter</td>\n",
       "      <td>N/A</td>\n",
       "      <td>Female</td>\n",
       "      <td>Student</td>\n",
       "      <td>None</td>\n",
       "      <td>NaN</td>\n",
       "      <td>Student</td>\n",
       "    </tr>\n",
       "    <tr>\n",
       "      <th>14</th>\n",
       "      <td>4</td>\n",
       "      <td>Regentchain Avenue</td>\n",
       "      <td>Sandra</td>\n",
       "      <td>Price</td>\n",
       "      <td>4</td>\n",
       "      <td>Daughter</td>\n",
       "      <td>N/A</td>\n",
       "      <td>Female</td>\n",
       "      <td>Child</td>\n",
       "      <td>None</td>\n",
       "      <td>NaN</td>\n",
       "      <td>Child</td>\n",
       "    </tr>\n",
       "    <tr>\n",
       "      <th>...</th>\n",
       "      <td>...</td>\n",
       "      <td>...</td>\n",
       "      <td>...</td>\n",
       "      <td>...</td>\n",
       "      <td>...</td>\n",
       "      <td>...</td>\n",
       "      <td>...</td>\n",
       "      <td>...</td>\n",
       "      <td>...</td>\n",
       "      <td>...</td>\n",
       "      <td>...</td>\n",
       "      <td>...</td>\n",
       "    </tr>\n",
       "    <tr>\n",
       "      <th>8348</th>\n",
       "      <td>1</td>\n",
       "      <td>Oyster Manorhouse</td>\n",
       "      <td>Howard</td>\n",
       "      <td>Goodwin</td>\n",
       "      <td>17</td>\n",
       "      <td>Son</td>\n",
       "      <td>N/A</td>\n",
       "      <td>Male</td>\n",
       "      <td>Student</td>\n",
       "      <td>None</td>\n",
       "      <td>NaN</td>\n",
       "      <td>Student</td>\n",
       "    </tr>\n",
       "    <tr>\n",
       "      <th>8365</th>\n",
       "      <td>1</td>\n",
       "      <td>Howard House</td>\n",
       "      <td>Tom</td>\n",
       "      <td>Bryant</td>\n",
       "      <td>13</td>\n",
       "      <td>Son</td>\n",
       "      <td>N/A</td>\n",
       "      <td>Male</td>\n",
       "      <td>Student</td>\n",
       "      <td>None</td>\n",
       "      <td>NaN</td>\n",
       "      <td>Student</td>\n",
       "    </tr>\n",
       "    <tr>\n",
       "      <th>8366</th>\n",
       "      <td>1</td>\n",
       "      <td>Howard House</td>\n",
       "      <td>Jean</td>\n",
       "      <td>Bryant</td>\n",
       "      <td>8</td>\n",
       "      <td>Daughter</td>\n",
       "      <td>N/A</td>\n",
       "      <td>Female</td>\n",
       "      <td>Student</td>\n",
       "      <td>None</td>\n",
       "      <td>NaN</td>\n",
       "      <td>Student</td>\n",
       "    </tr>\n",
       "    <tr>\n",
       "      <th>8367</th>\n",
       "      <td>1</td>\n",
       "      <td>Howard House</td>\n",
       "      <td>Abbie</td>\n",
       "      <td>Bryant</td>\n",
       "      <td>4</td>\n",
       "      <td>Daughter</td>\n",
       "      <td>N/A</td>\n",
       "      <td>Female</td>\n",
       "      <td>Child</td>\n",
       "      <td>None</td>\n",
       "      <td>NaN</td>\n",
       "      <td>Child</td>\n",
       "    </tr>\n",
       "    <tr>\n",
       "      <th>8368</th>\n",
       "      <td>1</td>\n",
       "      <td>Howard House</td>\n",
       "      <td>Dennis</td>\n",
       "      <td>Bryant</td>\n",
       "      <td>1</td>\n",
       "      <td>Son</td>\n",
       "      <td>N/A</td>\n",
       "      <td>Male</td>\n",
       "      <td>Child</td>\n",
       "      <td>None</td>\n",
       "      <td>NaN</td>\n",
       "      <td>Child</td>\n",
       "    </tr>\n",
       "  </tbody>\n",
       "</table>\n",
       "<p>1976 rows × 12 columns</p>\n",
       "</div>"
      ],
      "text/plain": [
       "      House Number              Street First Name  Surname  Age  \\\n",
       "1                1  Regentchain Avenue    Deborah     Dale   11   \n",
       "2                1  Regentchain Avenue       Gary     Dale    7   \n",
       "6                2  Regentchain Avenue      Mandy    Grant   17   \n",
       "7                2  Regentchain Avenue     Amanda    Grant   11   \n",
       "14               4  Regentchain Avenue     Sandra    Price    4   \n",
       "...            ...                 ...        ...      ...  ...   \n",
       "8348             1   Oyster Manorhouse     Howard  Goodwin   17   \n",
       "8365             1        Howard House        Tom   Bryant   13   \n",
       "8366             1        Howard House       Jean   Bryant    8   \n",
       "8367             1        Howard House      Abbie   Bryant    4   \n",
       "8368             1        Howard House     Dennis   Bryant    1   \n",
       "\n",
       "     Relationship to Head of House Marital Status  Gender Occupation  \\\n",
       "1                         Daughter            N/A  Female    Student   \n",
       "2                              Son            N/A    Male    Student   \n",
       "6                         Daughter            N/A  Female    Student   \n",
       "7                         Daughter            N/A  Female    Student   \n",
       "14                        Daughter            N/A  Female      Child   \n",
       "...                            ...            ...     ...        ...   \n",
       "8348                           Son            N/A    Male    Student   \n",
       "8365                           Son            N/A    Male    Student   \n",
       "8366                      Daughter            N/A  Female    Student   \n",
       "8367                      Daughter            N/A  Female      Child   \n",
       "8368                           Son            N/A    Male      Child   \n",
       "\n",
       "     Infirmity Religion Employment Status  \n",
       "1         None      NaN           Student  \n",
       "2         None      NaN           Student  \n",
       "6         None      NaN           Student  \n",
       "7         None      NaN           Student  \n",
       "14        None      NaN             Child  \n",
       "...        ...      ...               ...  \n",
       "8348      None      NaN           Student  \n",
       "8365      None      NaN           Student  \n",
       "8366      None      NaN           Student  \n",
       "8367      None      NaN             Child  \n",
       "8368      None      NaN             Child  \n",
       "\n",
       "[1976 rows x 12 columns]"
      ]
     },
     "execution_count": 75,
     "metadata": {},
     "output_type": "execute_result"
    }
   ],
   "source": [
    "census_df.loc[(census_df['Age']<=17) & (census_df['Religion'].isna())]"
   ]
  },
  {
   "cell_type": "markdown",
   "id": "32442aea",
   "metadata": {},
   "source": [
    "- There are 1978 null entries that are under 18 years of age (Minors) and as such can't decide what religion to adopt. \n",
    "\n",
    "Hence their null values will be replaced with 'N/A' while those with ages above 17 years will be classified as 'Undecided':"
   ]
  },
  {
   "cell_type": "code",
   "execution_count": 76,
   "id": "9ce6855e",
   "metadata": {},
   "outputs": [],
   "source": [
    "#Replacing null values for ages less tan 18 years with 'Minor (Under 18)':\n",
    "census_df.loc[(census_df['Age']<=17) & (census_df['Religion'].isna()),'Religion'] = 'N/A'"
   ]
  },
  {
   "cell_type": "code",
   "execution_count": 77,
   "id": "64f33485",
   "metadata": {},
   "outputs": [
    {
     "data": {
      "text/html": [
       "<div>\n",
       "<style scoped>\n",
       "    .dataframe tbody tr th:only-of-type {\n",
       "        vertical-align: middle;\n",
       "    }\n",
       "\n",
       "    .dataframe tbody tr th {\n",
       "        vertical-align: top;\n",
       "    }\n",
       "\n",
       "    .dataframe thead th {\n",
       "        text-align: right;\n",
       "    }\n",
       "</style>\n",
       "<table border=\"1\" class=\"dataframe\">\n",
       "  <thead>\n",
       "    <tr style=\"text-align: right;\">\n",
       "      <th></th>\n",
       "      <th>House Number</th>\n",
       "      <th>Street</th>\n",
       "      <th>First Name</th>\n",
       "      <th>Surname</th>\n",
       "      <th>Age</th>\n",
       "      <th>Relationship to Head of House</th>\n",
       "      <th>Marital Status</th>\n",
       "      <th>Gender</th>\n",
       "      <th>Occupation</th>\n",
       "      <th>Infirmity</th>\n",
       "      <th>Religion</th>\n",
       "      <th>Employment Status</th>\n",
       "    </tr>\n",
       "  </thead>\n",
       "  <tbody>\n",
       "    <tr>\n",
       "      <th>1</th>\n",
       "      <td>1</td>\n",
       "      <td>Regentchain Avenue</td>\n",
       "      <td>Deborah</td>\n",
       "      <td>Dale</td>\n",
       "      <td>11</td>\n",
       "      <td>Daughter</td>\n",
       "      <td>N/A</td>\n",
       "      <td>Female</td>\n",
       "      <td>Student</td>\n",
       "      <td>None</td>\n",
       "      <td>N/A</td>\n",
       "      <td>Student</td>\n",
       "    </tr>\n",
       "    <tr>\n",
       "      <th>2</th>\n",
       "      <td>1</td>\n",
       "      <td>Regentchain Avenue</td>\n",
       "      <td>Gary</td>\n",
       "      <td>Dale</td>\n",
       "      <td>7</td>\n",
       "      <td>Son</td>\n",
       "      <td>N/A</td>\n",
       "      <td>Male</td>\n",
       "      <td>Student</td>\n",
       "      <td>None</td>\n",
       "      <td>N/A</td>\n",
       "      <td>Student</td>\n",
       "    </tr>\n",
       "    <tr>\n",
       "      <th>6</th>\n",
       "      <td>2</td>\n",
       "      <td>Regentchain Avenue</td>\n",
       "      <td>Mandy</td>\n",
       "      <td>Grant</td>\n",
       "      <td>17</td>\n",
       "      <td>Daughter</td>\n",
       "      <td>N/A</td>\n",
       "      <td>Female</td>\n",
       "      <td>Student</td>\n",
       "      <td>None</td>\n",
       "      <td>N/A</td>\n",
       "      <td>Student</td>\n",
       "    </tr>\n",
       "    <tr>\n",
       "      <th>7</th>\n",
       "      <td>2</td>\n",
       "      <td>Regentchain Avenue</td>\n",
       "      <td>Amanda</td>\n",
       "      <td>Grant</td>\n",
       "      <td>11</td>\n",
       "      <td>Daughter</td>\n",
       "      <td>N/A</td>\n",
       "      <td>Female</td>\n",
       "      <td>Student</td>\n",
       "      <td>None</td>\n",
       "      <td>N/A</td>\n",
       "      <td>Student</td>\n",
       "    </tr>\n",
       "    <tr>\n",
       "      <th>14</th>\n",
       "      <td>4</td>\n",
       "      <td>Regentchain Avenue</td>\n",
       "      <td>Sandra</td>\n",
       "      <td>Price</td>\n",
       "      <td>4</td>\n",
       "      <td>Daughter</td>\n",
       "      <td>N/A</td>\n",
       "      <td>Female</td>\n",
       "      <td>Child</td>\n",
       "      <td>None</td>\n",
       "      <td>N/A</td>\n",
       "      <td>Child</td>\n",
       "    </tr>\n",
       "  </tbody>\n",
       "</table>\n",
       "</div>"
      ],
      "text/plain": [
       "    House Number              Street First Name Surname  Age  \\\n",
       "1              1  Regentchain Avenue    Deborah    Dale   11   \n",
       "2              1  Regentchain Avenue       Gary    Dale    7   \n",
       "6              2  Regentchain Avenue      Mandy   Grant   17   \n",
       "7              2  Regentchain Avenue     Amanda   Grant   11   \n",
       "14             4  Regentchain Avenue     Sandra   Price    4   \n",
       "\n",
       "   Relationship to Head of House Marital Status  Gender Occupation Infirmity  \\\n",
       "1                       Daughter            N/A  Female    Student      None   \n",
       "2                            Son            N/A    Male    Student      None   \n",
       "6                       Daughter            N/A  Female    Student      None   \n",
       "7                       Daughter            N/A  Female    Student      None   \n",
       "14                      Daughter            N/A  Female      Child      None   \n",
       "\n",
       "   Religion Employment Status  \n",
       "1       N/A           Student  \n",
       "2       N/A           Student  \n",
       "6       N/A           Student  \n",
       "7       N/A           Student  \n",
       "14      N/A             Child  "
      ]
     },
     "execution_count": 77,
     "metadata": {},
     "output_type": "execute_result"
    }
   ],
   "source": [
    "census_df.loc[(census_df['Age']<=17) & (census_df['Religion']=='N/A')].head()"
   ]
  },
  {
   "cell_type": "markdown",
   "id": "bb697bf1",
   "metadata": {},
   "source": [
    "- Religion has been filled with 'N/A'."
   ]
  },
  {
   "cell_type": "code",
   "execution_count": 78,
   "id": "f0097e14",
   "metadata": {},
   "outputs": [],
   "source": [
    "#Filling the null values with 'Undecided for ages above 17 years:'\n",
    "census_df.loc[(census_df['Age']>17) & (census_df['Religion'].isna()), 'Religion'] = 'Undecided'"
   ]
  },
  {
   "cell_type": "code",
   "execution_count": 79,
   "id": "5f613164",
   "metadata": {},
   "outputs": [
    {
     "data": {
      "text/html": [
       "<div>\n",
       "<style scoped>\n",
       "    .dataframe tbody tr th:only-of-type {\n",
       "        vertical-align: middle;\n",
       "    }\n",
       "\n",
       "    .dataframe tbody tr th {\n",
       "        vertical-align: top;\n",
       "    }\n",
       "\n",
       "    .dataframe thead th {\n",
       "        text-align: right;\n",
       "    }\n",
       "</style>\n",
       "<table border=\"1\" class=\"dataframe\">\n",
       "  <thead>\n",
       "    <tr style=\"text-align: right;\">\n",
       "      <th></th>\n",
       "      <th>House Number</th>\n",
       "      <th>Street</th>\n",
       "      <th>First Name</th>\n",
       "      <th>Surname</th>\n",
       "      <th>Age</th>\n",
       "      <th>Relationship to Head of House</th>\n",
       "      <th>Marital Status</th>\n",
       "      <th>Gender</th>\n",
       "      <th>Occupation</th>\n",
       "      <th>Infirmity</th>\n",
       "      <th>Religion</th>\n",
       "      <th>Employment Status</th>\n",
       "    </tr>\n",
       "  </thead>\n",
       "  <tbody>\n",
       "    <tr>\n",
       "      <th>165</th>\n",
       "      <td>41</td>\n",
       "      <td>Smith Port</td>\n",
       "      <td>Carole</td>\n",
       "      <td>Thomas</td>\n",
       "      <td>18</td>\n",
       "      <td>Head</td>\n",
       "      <td>Single</td>\n",
       "      <td>Female</td>\n",
       "      <td>Student</td>\n",
       "      <td>None</td>\n",
       "      <td>Undecided</td>\n",
       "      <td>Student</td>\n",
       "    </tr>\n",
       "    <tr>\n",
       "      <th>215</th>\n",
       "      <td>77</td>\n",
       "      <td>Smith Port</td>\n",
       "      <td>Thomas</td>\n",
       "      <td>Turner</td>\n",
       "      <td>18</td>\n",
       "      <td>Head</td>\n",
       "      <td>Divorced</td>\n",
       "      <td>Male</td>\n",
       "      <td>Student</td>\n",
       "      <td>None</td>\n",
       "      <td>Undecided</td>\n",
       "      <td>Student</td>\n",
       "    </tr>\n",
       "    <tr>\n",
       "      <th>359</th>\n",
       "      <td>175</td>\n",
       "      <td>Smith Port</td>\n",
       "      <td>Clare</td>\n",
       "      <td>Atkinson</td>\n",
       "      <td>18</td>\n",
       "      <td>None</td>\n",
       "      <td>Single</td>\n",
       "      <td>Female</td>\n",
       "      <td>Student</td>\n",
       "      <td>None</td>\n",
       "      <td>Undecided</td>\n",
       "      <td>Student</td>\n",
       "    </tr>\n",
       "    <tr>\n",
       "      <th>489</th>\n",
       "      <td>48</td>\n",
       "      <td>Trent Crescent</td>\n",
       "      <td>Gerald</td>\n",
       "      <td>Clark</td>\n",
       "      <td>18</td>\n",
       "      <td>Head</td>\n",
       "      <td>Single</td>\n",
       "      <td>Male</td>\n",
       "      <td>Student</td>\n",
       "      <td>None</td>\n",
       "      <td>Undecided</td>\n",
       "      <td>Student</td>\n",
       "    </tr>\n",
       "    <tr>\n",
       "      <th>853</th>\n",
       "      <td>63</td>\n",
       "      <td>Cambridge Street</td>\n",
       "      <td>Gavin</td>\n",
       "      <td>Talbot</td>\n",
       "      <td>18</td>\n",
       "      <td>Head</td>\n",
       "      <td>Single</td>\n",
       "      <td>Male</td>\n",
       "      <td>Student</td>\n",
       "      <td>None</td>\n",
       "      <td>Undecided</td>\n",
       "      <td>Student</td>\n",
       "    </tr>\n",
       "  </tbody>\n",
       "</table>\n",
       "</div>"
      ],
      "text/plain": [
       "     House Number            Street First Name   Surname  Age  \\\n",
       "165            41        Smith Port     Carole    Thomas   18   \n",
       "215            77        Smith Port     Thomas    Turner   18   \n",
       "359           175        Smith Port      Clare  Atkinson   18   \n",
       "489            48    Trent Crescent     Gerald     Clark   18   \n",
       "853            63  Cambridge Street      Gavin    Talbot   18   \n",
       "\n",
       "    Relationship to Head of House Marital Status  Gender Occupation Infirmity  \\\n",
       "165                          Head         Single  Female    Student      None   \n",
       "215                          Head       Divorced    Male    Student      None   \n",
       "359                          None         Single  Female    Student      None   \n",
       "489                          Head         Single    Male    Student      None   \n",
       "853                          Head         Single    Male    Student      None   \n",
       "\n",
       "      Religion Employment Status  \n",
       "165  Undecided           Student  \n",
       "215  Undecided           Student  \n",
       "359  Undecided           Student  \n",
       "489  Undecided           Student  \n",
       "853  Undecided           Student  "
      ]
     },
     "execution_count": 79,
     "metadata": {},
     "output_type": "execute_result"
    }
   ],
   "source": [
    "census_df.loc[(census_df['Age']>17) & (census_df['Religion']=='Undecided')].head()"
   ]
  },
  {
   "cell_type": "markdown",
   "id": "4d1441a8",
   "metadata": {},
   "source": [
    "- Religion for null values above 17 years is Undecided."
   ]
  },
  {
   "cell_type": "markdown",
   "id": "0f38034b",
   "metadata": {},
   "source": [
    "#### Treating misleading Entries for Religion:\n",
    "- Catholic and Methodist all fall under the religion Christian, hence, both are changed to Christian.\n",
    "- Jedi is a joke entry because it is not rgarded as a religion in the uk (bbc 2016). Hence, changed to None. Likewise Orthodoxy, Housekeeper."
   ]
  },
  {
   "cell_type": "code",
   "execution_count": 80,
   "id": "2e6e5271",
   "metadata": {},
   "outputs": [],
   "source": [
    "census_df.loc[(census_df['Religion']=='Catholic'), 'Religion'] = 'Christian'\n",
    "\n",
    "census_df.loc[(census_df['Religion']=='Methodist'), 'Religion'] = 'Christian'\n",
    "\n",
    "census_df.loc[(census_df['Religion']=='Private'), 'Religion'] = 'Unidentified'\n",
    "\n",
    "census_df.loc[(census_df['Religion']=='Jedi'), 'Religion'] = 'Unidentified'\n",
    "\n",
    "census_df.loc[(census_df['Religion']=='Orthodoxy'), 'Religion'] = 'Unidentified'\n",
    "\n",
    "census_df.loc[(census_df['Religion']=='Housekeeper'), 'Religion'] = 'Unidentified'"
   ]
  },
  {
   "cell_type": "code",
   "execution_count": 81,
   "id": "d2e33671",
   "metadata": {},
   "outputs": [
    {
     "name": "stdout",
     "output_type": "stream",
     "text": [
      "<class 'pandas.core.frame.DataFrame'>\n",
      "RangeIndex: 8373 entries, 0 to 8372\n",
      "Data columns (total 12 columns):\n",
      " #   Column                         Non-Null Count  Dtype \n",
      "---  ------                         --------------  ----- \n",
      " 0   House Number                   8373 non-null   int64 \n",
      " 1   Street                         8373 non-null   object\n",
      " 2   First Name                     8373 non-null   object\n",
      " 3   Surname                        8373 non-null   object\n",
      " 4   Age                            8373 non-null   int32 \n",
      " 5   Relationship to Head of House  8373 non-null   object\n",
      " 6   Marital Status                 8373 non-null   object\n",
      " 7   Gender                         8373 non-null   object\n",
      " 8   Occupation                     8373 non-null   object\n",
      " 9   Infirmity                      8373 non-null   object\n",
      " 10  Religion                       8373 non-null   object\n",
      " 11  Employment Status              8373 non-null   object\n",
      "dtypes: int32(1), int64(1), object(10)\n",
      "memory usage: 752.4+ KB\n"
     ]
    }
   ],
   "source": [
    "census_df.info()"
   ]
  },
  {
   "cell_type": "code",
   "execution_count": 82,
   "id": "c305b38b",
   "metadata": {},
   "outputs": [
    {
     "data": {
      "text/plain": [
       "House Number                     0\n",
       "Street                           0\n",
       "First Name                       0\n",
       "Surname                          0\n",
       "Age                              0\n",
       "Relationship to Head of House    0\n",
       "Marital Status                   0\n",
       "Gender                           0\n",
       "Occupation                       0\n",
       "Infirmity                        0\n",
       "Religion                         0\n",
       "Employment Status                0\n",
       "dtype: int64"
      ]
     },
     "execution_count": 82,
     "metadata": {},
     "output_type": "execute_result"
    }
   ],
   "source": [
    "census_df.isna().sum()"
   ]
  },
  {
   "cell_type": "markdown",
   "id": "3e3047cd",
   "metadata": {},
   "source": [
    "- No Missing values."
   ]
  },
  {
   "cell_type": "markdown",
   "id": "1ff4924b",
   "metadata": {},
   "source": [
    "### Preliminary Data Insights:"
   ]
  },
  {
   "cell_type": "code",
   "execution_count": 83,
   "id": "c48aa02f",
   "metadata": {
    "scrolled": true
   },
   "outputs": [
    {
     "data": {
      "text/html": [
       "<div>\n",
       "<style scoped>\n",
       "    .dataframe tbody tr th:only-of-type {\n",
       "        vertical-align: middle;\n",
       "    }\n",
       "\n",
       "    .dataframe tbody tr th {\n",
       "        vertical-align: top;\n",
       "    }\n",
       "\n",
       "    .dataframe thead th {\n",
       "        text-align: right;\n",
       "    }\n",
       "</style>\n",
       "<table border=\"1\" class=\"dataframe\">\n",
       "  <thead>\n",
       "    <tr style=\"text-align: right;\">\n",
       "      <th></th>\n",
       "      <th>count</th>\n",
       "      <th>unique</th>\n",
       "      <th>top</th>\n",
       "      <th>freq</th>\n",
       "      <th>mean</th>\n",
       "      <th>std</th>\n",
       "      <th>min</th>\n",
       "      <th>25%</th>\n",
       "      <th>50%</th>\n",
       "      <th>75%</th>\n",
       "      <th>max</th>\n",
       "    </tr>\n",
       "  </thead>\n",
       "  <tbody>\n",
       "    <tr>\n",
       "      <th>House Number</th>\n",
       "      <td>8373.0</td>\n",
       "      <td>NaN</td>\n",
       "      <td>NaN</td>\n",
       "      <td>NaN</td>\n",
       "      <td>31.176759</td>\n",
       "      <td>34.24559</td>\n",
       "      <td>1.0</td>\n",
       "      <td>9.0</td>\n",
       "      <td>20.0</td>\n",
       "      <td>40.0</td>\n",
       "      <td>197.0</td>\n",
       "    </tr>\n",
       "    <tr>\n",
       "      <th>Street</th>\n",
       "      <td>8373</td>\n",
       "      <td>104</td>\n",
       "      <td>Harvey Road</td>\n",
       "      <td>518</td>\n",
       "      <td>NaN</td>\n",
       "      <td>NaN</td>\n",
       "      <td>NaN</td>\n",
       "      <td>NaN</td>\n",
       "      <td>NaN</td>\n",
       "      <td>NaN</td>\n",
       "      <td>NaN</td>\n",
       "    </tr>\n",
       "    <tr>\n",
       "      <th>First Name</th>\n",
       "      <td>8373</td>\n",
       "      <td>365</td>\n",
       "      <td>Donna</td>\n",
       "      <td>38</td>\n",
       "      <td>NaN</td>\n",
       "      <td>NaN</td>\n",
       "      <td>NaN</td>\n",
       "      <td>NaN</td>\n",
       "      <td>NaN</td>\n",
       "      <td>NaN</td>\n",
       "      <td>NaN</td>\n",
       "    </tr>\n",
       "    <tr>\n",
       "      <th>Surname</th>\n",
       "      <td>8373</td>\n",
       "      <td>659</td>\n",
       "      <td>Smith</td>\n",
       "      <td>270</td>\n",
       "      <td>NaN</td>\n",
       "      <td>NaN</td>\n",
       "      <td>NaN</td>\n",
       "      <td>NaN</td>\n",
       "      <td>NaN</td>\n",
       "      <td>NaN</td>\n",
       "      <td>NaN</td>\n",
       "    </tr>\n",
       "    <tr>\n",
       "      <th>Age</th>\n",
       "      <td>8373.0</td>\n",
       "      <td>NaN</td>\n",
       "      <td>NaN</td>\n",
       "      <td>NaN</td>\n",
       "      <td>36.314583</td>\n",
       "      <td>21.782696</td>\n",
       "      <td>0.0</td>\n",
       "      <td>19.0</td>\n",
       "      <td>36.0</td>\n",
       "      <td>51.0</td>\n",
       "      <td>116.0</td>\n",
       "    </tr>\n",
       "    <tr>\n",
       "      <th>Relationship to Head of House</th>\n",
       "      <td>8373</td>\n",
       "      <td>20</td>\n",
       "      <td>Head</td>\n",
       "      <td>3071</td>\n",
       "      <td>NaN</td>\n",
       "      <td>NaN</td>\n",
       "      <td>NaN</td>\n",
       "      <td>NaN</td>\n",
       "      <td>NaN</td>\n",
       "      <td>NaN</td>\n",
       "      <td>NaN</td>\n",
       "    </tr>\n",
       "    <tr>\n",
       "      <th>Marital Status</th>\n",
       "      <td>8373</td>\n",
       "      <td>5</td>\n",
       "      <td>Single</td>\n",
       "      <td>2998</td>\n",
       "      <td>NaN</td>\n",
       "      <td>NaN</td>\n",
       "      <td>NaN</td>\n",
       "      <td>NaN</td>\n",
       "      <td>NaN</td>\n",
       "      <td>NaN</td>\n",
       "      <td>NaN</td>\n",
       "    </tr>\n",
       "    <tr>\n",
       "      <th>Gender</th>\n",
       "      <td>8373</td>\n",
       "      <td>2</td>\n",
       "      <td>Female</td>\n",
       "      <td>4372</td>\n",
       "      <td>NaN</td>\n",
       "      <td>NaN</td>\n",
       "      <td>NaN</td>\n",
       "      <td>NaN</td>\n",
       "      <td>NaN</td>\n",
       "      <td>NaN</td>\n",
       "      <td>NaN</td>\n",
       "    </tr>\n",
       "    <tr>\n",
       "      <th>Occupation</th>\n",
       "      <td>8373</td>\n",
       "      <td>645</td>\n",
       "      <td>Student</td>\n",
       "      <td>1582</td>\n",
       "      <td>NaN</td>\n",
       "      <td>NaN</td>\n",
       "      <td>NaN</td>\n",
       "      <td>NaN</td>\n",
       "      <td>NaN</td>\n",
       "      <td>NaN</td>\n",
       "      <td>NaN</td>\n",
       "    </tr>\n",
       "    <tr>\n",
       "      <th>Infirmity</th>\n",
       "      <td>8373</td>\n",
       "      <td>8</td>\n",
       "      <td>None</td>\n",
       "      <td>8304</td>\n",
       "      <td>NaN</td>\n",
       "      <td>NaN</td>\n",
       "      <td>NaN</td>\n",
       "      <td>NaN</td>\n",
       "      <td>NaN</td>\n",
       "      <td>NaN</td>\n",
       "      <td>NaN</td>\n",
       "    </tr>\n",
       "    <tr>\n",
       "      <th>Religion</th>\n",
       "      <td>8373</td>\n",
       "      <td>11</td>\n",
       "      <td>Christian</td>\n",
       "      <td>3342</td>\n",
       "      <td>NaN</td>\n",
       "      <td>NaN</td>\n",
       "      <td>NaN</td>\n",
       "      <td>NaN</td>\n",
       "      <td>NaN</td>\n",
       "      <td>NaN</td>\n",
       "      <td>NaN</td>\n",
       "    </tr>\n",
       "    <tr>\n",
       "      <th>Employment Status</th>\n",
       "      <td>8373</td>\n",
       "      <td>5</td>\n",
       "      <td>Employed</td>\n",
       "      <td>4392</td>\n",
       "      <td>NaN</td>\n",
       "      <td>NaN</td>\n",
       "      <td>NaN</td>\n",
       "      <td>NaN</td>\n",
       "      <td>NaN</td>\n",
       "      <td>NaN</td>\n",
       "      <td>NaN</td>\n",
       "    </tr>\n",
       "  </tbody>\n",
       "</table>\n",
       "</div>"
      ],
      "text/plain": [
       "                                count unique          top  freq       mean  \\\n",
       "House Number                   8373.0    NaN          NaN   NaN  31.176759   \n",
       "Street                           8373    104  Harvey Road   518        NaN   \n",
       "First Name                       8373    365        Donna    38        NaN   \n",
       "Surname                          8373    659        Smith   270        NaN   \n",
       "Age                            8373.0    NaN          NaN   NaN  36.314583   \n",
       "Relationship to Head of House    8373     20         Head  3071        NaN   \n",
       "Marital Status                   8373      5       Single  2998        NaN   \n",
       "Gender                           8373      2       Female  4372        NaN   \n",
       "Occupation                       8373    645      Student  1582        NaN   \n",
       "Infirmity                        8373      8         None  8304        NaN   \n",
       "Religion                         8373     11    Christian  3342        NaN   \n",
       "Employment Status                8373      5     Employed  4392        NaN   \n",
       "\n",
       "                                     std  min   25%   50%   75%    max  \n",
       "House Number                    34.24559  1.0   9.0  20.0  40.0  197.0  \n",
       "Street                               NaN  NaN   NaN   NaN   NaN    NaN  \n",
       "First Name                           NaN  NaN   NaN   NaN   NaN    NaN  \n",
       "Surname                              NaN  NaN   NaN   NaN   NaN    NaN  \n",
       "Age                            21.782696  0.0  19.0  36.0  51.0  116.0  \n",
       "Relationship to Head of House        NaN  NaN   NaN   NaN   NaN    NaN  \n",
       "Marital Status                       NaN  NaN   NaN   NaN   NaN    NaN  \n",
       "Gender                               NaN  NaN   NaN   NaN   NaN    NaN  \n",
       "Occupation                           NaN  NaN   NaN   NaN   NaN    NaN  \n",
       "Infirmity                            NaN  NaN   NaN   NaN   NaN    NaN  \n",
       "Religion                             NaN  NaN   NaN   NaN   NaN    NaN  \n",
       "Employment Status                    NaN  NaN   NaN   NaN   NaN    NaN  "
      ]
     },
     "execution_count": 83,
     "metadata": {},
     "output_type": "execute_result"
    }
   ],
   "source": [
    "#Checking summary of all elements (categorical and numeric)\n",
    "census_df.describe(include='all').T"
   ]
  },
  {
   "cell_type": "markdown",
   "id": "fe8759cd",
   "metadata": {},
   "source": [
    "#### Important insights so far:\n",
    "- Minimum age is 0, indicating new born baby and maximum age is 116 years.\n",
    "- 25% of the entries are 19 years and below.\n",
    "- 50% of entries are 36 years and below.\n",
    "- 75% of entries are 51 years and below while the remaining 25% are between 51 and 116 years old.\n",
    "- A larger percent of the entries are Single.\n",
    "- Most of the entries had no Infirmity, indicating good health.\n",
    "- Most of the entries lived at street named Harvey Road as seen above.\n",
    "- Female gender appeard the most (4372) in the data.\n",
    "- More people are Employed.\n"
   ]
  },
  {
   "cell_type": "markdown",
   "id": "7afcaad0",
   "metadata": {},
   "source": [
    "# KEY ANALYSIS AND VISUALIZATIONS"
   ]
  },
  {
   "cell_type": "markdown",
   "id": "2fce47a1",
   "metadata": {},
   "source": [
    "### Defining functions to aid major Plots done:"
   ]
  },
  {
   "cell_type": "markdown",
   "id": "4c5de9d4",
   "metadata": {},
   "source": [
    "##### plot_percent_weight():\n",
    "Helps to show numerical/percentage weight of each items of a plot."
   ]
  },
  {
   "cell_type": "code",
   "execution_count": 84,
   "id": "df7daada",
   "metadata": {},
   "outputs": [],
   "source": [
    "\n",
    "def plot_percent_weight(plot_name,data,feature,show_value=None):\n",
    "    '''\n",
    "    plot_name: The name of the variable assigned to the plot.\n",
    "    data: The dataframe to compute the weight against.\n",
    "    feature: The feature being plotted against.\n",
    "    show_value: Determines the weight to show whether only percent or percent and weight (True or False).\n",
    "    '''\n",
    "    #Calculating the weights:\n",
    "    for attribute in plot_name.patches:\n",
    "        if show_value==True:\n",
    "            value = '{:.1f}% ({})'.format(100 * attribute.get_height() / len(data[feature]), attribute.get_height())\n",
    "        elif show_value==False:\n",
    "            value = '{:.1f}%'.format(100 * attribute.get_height() / len(data[feature]))\n",
    "            \n",
    "        #Defining annotation coordinatites:    \n",
    "        x_cord = attribute.get_x() + attribute.get_width() / 6\n",
    "        y_cord = attribute.get_height()\n",
    "        plot_name.annotate(value,(x_cord,y_cord),textcoords='offset points',xytext=(1,2))\n",
    "    return"
   ]
  },
  {
   "cell_type": "markdown",
   "id": "87a1be67",
   "metadata": {},
   "source": [
    "##### countplot_func():\n",
    "For making the countplots showing percentage weights."
   ]
  },
  {
   "cell_type": "code",
   "execution_count": 85,
   "id": "311332bc",
   "metadata": {},
   "outputs": [],
   "source": [
    "def countplot_func(data,main_data,plot_size,xlabel,plot_title,plot_variable=None,add_count=False):\n",
    "    '''\n",
    "    data: The data containing the feature being plotted.\n",
    "    main_data: The dataframe to compute the feature weight against.\n",
    "    plot_size: size of the plot.\n",
    "    xlabel: Name of x-axis.\n",
    "    plot_title: Title of plot.\n",
    "    plot_variable: Feature from main_data to be weighted against.\n",
    "    add_count: Determines whether to add percent or both percent and weight (True or False).\n",
    "    '''\n",
    "    plt.figure(figsize=plot_size)\n",
    "    plot_name = sns.countplot(data=data, x=xlabel)  #Instance of the plot created\n",
    "    plot_percent_weight(plot_name,main_data,plot_variable,add_count)\n",
    "    plt.xlabel(xlabel)\n",
    "    plt.title(plot_title)\n",
    "    plt.grid(linestyle='--',linewidth=0.4)\n",
    "    plt.show()\n",
    "    return"
   ]
  },
  {
   "cell_type": "markdown",
   "id": "c715ce4d",
   "metadata": {},
   "source": [
    "##### barplot_func():\n",
    "For plotting barplots."
   ]
  },
  {
   "cell_type": "code",
   "execution_count": 86,
   "id": "d79de373",
   "metadata": {},
   "outputs": [],
   "source": [
    "def barplot_func(data,main_data,plot_size,x,y,xlabel,plot_title,plot_variable,add_count):\n",
    "    \n",
    "\n",
    "    plt.figure(figsize=plot_size)\n",
    "    plot_name = sns.barplot(data=data, x=x, y=y)\n",
    "    plot_percent_weight(plot_name,main_data,plot_variable,show_value=add_count)\n",
    "    plt.xlabel(xlabel)\n",
    "    plt.title(plot_title)\n",
    "    plt.grid(linestyle='--',linewidth=0.5)\n",
    "    plt.show()\n",
    "    return"
   ]
  },
  {
   "cell_type": "markdown",
   "id": "25b25879",
   "metadata": {},
   "source": [
    "##### catplot_func():\n",
    "For making catplots."
   ]
  },
  {
   "cell_type": "code",
   "execution_count": 87,
   "id": "542bc746",
   "metadata": {},
   "outputs": [],
   "source": [
    "def catplot_func(data,x,y,kind,height,aspect,plot_title,xlabel):\n",
    "    '''\n",
    "    data: Dataframe being considered.\n",
    "    x: feature on x-axis.\n",
    "    y: feature on y_axis.\n",
    "    kind: Specifies the type of plot (e.g box).\n",
    "    height,aspect: Specifies the size of plot.\n",
    "    plot_title: Title of plot'.\n",
    "    xlabel: Title on x-axis.\n",
    "    '''\n",
    "    sns.catplot(data=data, x=x, y=y, kind=kind,height=height, aspect=aspect)\n",
    "    plt.title(plot_title)\n",
    "    plt.xlabel(xlabel)\n",
    "    plt.grid(linestyle='--',linewidth=0.4)\n",
    "    plt.show()\n",
    "    return"
   ]
  },
  {
   "cell_type": "markdown",
   "id": "41b5b615",
   "metadata": {},
   "source": [
    "##### age_pyramid_func():\n",
    "For plotting the age pyramid."
   ]
  },
  {
   "cell_type": "code",
   "execution_count": 88,
   "id": "5b3bacf0",
   "metadata": {},
   "outputs": [],
   "source": [
    "def age_pyramid_func(data,plot_size,y,order,plot_title,xlabel,ylabel):\n",
    "    '''\n",
    "    data: Dataframe to plot.\n",
    "    plot_size: Size of the plot.\n",
    "    order: List holding the age intervals e.g 0-4, 5-9, etc.\n",
    "    plot_title: Title of the plot.\n",
    "    xlabel: Name of x axis.\n",
    "    ylabel: Name of y axis\n",
    "    y: Feature on the y-axis.\n",
    "    NOTE: x has been fixed to be \"Males\" and \"Memales\" for two barplots to aid the plot.\n",
    "    Ensure it is renamed same way in the data.\n",
    "    Also, label has been set to 'Males' and 'Females' for the two barplots respectively.\n",
    "    color has been fixed to be 'mediumblue' and 'darkorange' for male and female respectively.\n",
    "    '''\n",
    "    plt.figure(figsize=plot_size)\n",
    "    age_pyramid = sns.barplot(x='Males', y=y, data=data, order=order, color=('mediumblue'), label='Males')\n",
    "    age_pyramid = sns.barplot(x='Females',y=y,data=data, order=order, color=('darkorange'), label='Females')\n",
    "    age_pyramid.legend()\n",
    "    age_pyramid.set(xlabel=xlabel, ylabel=ylabel,title=plot_title)\n",
    "    plt.grid(linestyle='--',linewidth=0.5)\n",
    "    plt.show()\n",
    "    return"
   ]
  },
  {
   "cell_type": "markdown",
   "id": "9a4d4327",
   "metadata": {},
   "source": [
    "### AGE DISTRIBUTION:"
   ]
  },
  {
   "cell_type": "code",
   "execution_count": 89,
   "id": "58bbfd86",
   "metadata": {
    "scrolled": false
   },
   "outputs": [
    {
     "data": {
      "image/png": "[encoded data removed]",
      "text/plain": [
       "<Figure size 720x576 with 1 Axes>"
      ]
     },
     "metadata": {
      "needs_background": "light"
     },
     "output_type": "display_data"
    }
   ],
   "source": [
    "plt.figure(figsize=(10,8))\n",
    "sns.histplot(data=census_df, x='Age',hue='Gender', kde=True)\n",
    "plt.title('Age Distribution Conditioned by Gender')\n",
    "plt.show()"
   ]
  },
  {
   "cell_type": "markdown",
   "id": "8c1935ae",
   "metadata": {},
   "source": [
    "## Population (Age) Pyramid:"
   ]
  },
  {
   "cell_type": "markdown",
   "id": "43659aed",
   "metadata": {},
   "source": [
    "Defining a function to group the ages in ranges e.g 0-4, 5-9, etc.:"
   ]
  },
  {
   "cell_type": "code",
   "execution_count": 90,
   "id": "69b7eeea",
   "metadata": {},
   "outputs": [],
   "source": [
    "def age_range_func(x,y):\n",
    "    '''\n",
    "    x,y: Used in specifying age interval.\n",
    "    NOTE: x must start from 0. for age interval of 5 years, y equals 5.\n",
    "    '''\n",
    "    age_d = []\n",
    "    while y<100:\n",
    "        for age in range(x,100,y):\n",
    "            if age < 100:\n",
    "                range_ = str(age) +'-'+str(y-1)\n",
    "                age_d.append(range_)\n",
    "            x=y\n",
    "            y=y+5\n",
    "        age_d.append('100+')\n",
    "    return age_d"
   ]
  },
  {
   "cell_type": "markdown",
   "id": "39b2fc9b",
   "metadata": {},
   "source": [
    "Defining a function to generate list of total males and females for each age range:"
   ]
  },
  {
   "cell_type": "code",
   "execution_count": 91,
   "id": "7da24d36",
   "metadata": {},
   "outputs": [],
   "source": [
    "def gender_age_count(data,gender,x=0,y=5):\n",
    "    '''\n",
    "    data: Dataframe being considered.\n",
    "    gender: Specifies gender (male or female)\n",
    "    x,y: Specifies age range \n",
    "    '''\n",
    "    count_list = []\n",
    "    sub = []\n",
    "    while y<=120:\n",
    "        df_gender = data.loc[(data['Gender']==gender) & (data['Age']>=x) & (data['Age']<y)]\n",
    "        if y <= 100:\n",
    "            count_age = len(df_gender['Age'])\n",
    "            if gender == 'Male':\n",
    "                count_list.append(-count_age)\n",
    "            elif gender == 'Female':\n",
    "                count_list.append(count_age)\n",
    "        elif y > 100:\n",
    "            count_age = len(df_gender['Age'])\n",
    "            if gender == 'Male':\n",
    "                sub.append(-count_age)\n",
    "            elif gender == 'Female':\n",
    "                sub.append(count_age)\n",
    "        x=x+5\n",
    "        y=y+5\n",
    "    count_list.append(np.array(sub).sum())\n",
    "    return count_list"
   ]
  },
  {
   "cell_type": "markdown",
   "id": "6fc3a95d",
   "metadata": {},
   "source": [
    "Creating the dataframe for the age pyramid:"
   ]
  },
  {
   "cell_type": "code",
   "execution_count": 92,
   "id": "8df50adf",
   "metadata": {},
   "outputs": [],
   "source": [
    "#List of age range with 5 years gap:\n",
    "age_range = age_range_func(x=0,y=5)\n",
    "\n",
    "#Total population count based on gender for each age group:\n",
    "male_percent = gender_age_count(data=census_df, gender='Male', x=0, y=5)\n",
    "female_percent = gender_age_count(data=census_df, gender='Female', x=0, y=5)\n",
    "\n",
    "#Reversing the values to align with the age range list:\n",
    "age_range.reverse()\n",
    "male_percent.reverse()\n",
    "female_percent.reverse()\n",
    "\n",
    "#Creating a list to hold total population count:\n",
    "total_pop = []\n",
    "for a,b in zip(male_percent,female_percent):\n",
    "    sum_ = -a + b\n",
    "    total_pop.append(sum_)\n",
    "    \n",
    "#Creating the DataFrame for the age pyramid:\n",
    "age_df = pd.DataFrame({'Ages':age_range,'Males':male_percent,'Females':female_percent, 'Population Count':total_pop})"
   ]
  },
  {
   "cell_type": "code",
   "execution_count": 93,
   "id": "1fd512dd",
   "metadata": {},
   "outputs": [
    {
     "data": {
      "text/html": [
       "<div>\n",
       "<style scoped>\n",
       "    .dataframe tbody tr th:only-of-type {\n",
       "        vertical-align: middle;\n",
       "    }\n",
       "\n",
       "    .dataframe tbody tr th {\n",
       "        vertical-align: top;\n",
       "    }\n",
       "\n",
       "    .dataframe thead th {\n",
       "        text-align: right;\n",
       "    }\n",
       "</style>\n",
       "<table border=\"1\" class=\"dataframe\">\n",
       "  <thead>\n",
       "    <tr style=\"text-align: right;\">\n",
       "      <th></th>\n",
       "      <th>Ages</th>\n",
       "      <th>Males</th>\n",
       "      <th>Females</th>\n",
       "      <th>Population Count</th>\n",
       "    </tr>\n",
       "  </thead>\n",
       "  <tbody>\n",
       "    <tr>\n",
       "      <th>0</th>\n",
       "      <td>100+</td>\n",
       "      <td>-8</td>\n",
       "      <td>9</td>\n",
       "      <td>17</td>\n",
       "    </tr>\n",
       "    <tr>\n",
       "      <th>1</th>\n",
       "      <td>95-99</td>\n",
       "      <td>-6</td>\n",
       "      <td>4</td>\n",
       "      <td>10</td>\n",
       "    </tr>\n",
       "    <tr>\n",
       "      <th>2</th>\n",
       "      <td>90-94</td>\n",
       "      <td>-10</td>\n",
       "      <td>10</td>\n",
       "      <td>20</td>\n",
       "    </tr>\n",
       "    <tr>\n",
       "      <th>3</th>\n",
       "      <td>85-89</td>\n",
       "      <td>-38</td>\n",
       "      <td>45</td>\n",
       "      <td>83</td>\n",
       "    </tr>\n",
       "    <tr>\n",
       "      <th>4</th>\n",
       "      <td>80-84</td>\n",
       "      <td>-54</td>\n",
       "      <td>61</td>\n",
       "      <td>115</td>\n",
       "    </tr>\n",
       "    <tr>\n",
       "      <th>5</th>\n",
       "      <td>75-79</td>\n",
       "      <td>-87</td>\n",
       "      <td>75</td>\n",
       "      <td>162</td>\n",
       "    </tr>\n",
       "    <tr>\n",
       "      <th>6</th>\n",
       "      <td>70-74</td>\n",
       "      <td>-111</td>\n",
       "      <td>147</td>\n",
       "      <td>258</td>\n",
       "    </tr>\n",
       "    <tr>\n",
       "      <th>7</th>\n",
       "      <td>65-69</td>\n",
       "      <td>-129</td>\n",
       "      <td>151</td>\n",
       "      <td>280</td>\n",
       "    </tr>\n",
       "    <tr>\n",
       "      <th>8</th>\n",
       "      <td>60-64</td>\n",
       "      <td>-196</td>\n",
       "      <td>193</td>\n",
       "      <td>389</td>\n",
       "    </tr>\n",
       "    <tr>\n",
       "      <th>9</th>\n",
       "      <td>55-59</td>\n",
       "      <td>-232</td>\n",
       "      <td>225</td>\n",
       "      <td>457</td>\n",
       "    </tr>\n",
       "    <tr>\n",
       "      <th>10</th>\n",
       "      <td>50-54</td>\n",
       "      <td>-245</td>\n",
       "      <td>285</td>\n",
       "      <td>530</td>\n",
       "    </tr>\n",
       "    <tr>\n",
       "      <th>11</th>\n",
       "      <td>45-49</td>\n",
       "      <td>-298</td>\n",
       "      <td>368</td>\n",
       "      <td>666</td>\n",
       "    </tr>\n",
       "    <tr>\n",
       "      <th>12</th>\n",
       "      <td>40-44</td>\n",
       "      <td>-296</td>\n",
       "      <td>371</td>\n",
       "      <td>667</td>\n",
       "    </tr>\n",
       "    <tr>\n",
       "      <th>13</th>\n",
       "      <td>35-39</td>\n",
       "      <td>-285</td>\n",
       "      <td>419</td>\n",
       "      <td>704</td>\n",
       "    </tr>\n",
       "    <tr>\n",
       "      <th>14</th>\n",
       "      <td>30-34</td>\n",
       "      <td>-264</td>\n",
       "      <td>309</td>\n",
       "      <td>573</td>\n",
       "    </tr>\n",
       "    <tr>\n",
       "      <th>15</th>\n",
       "      <td>25-29</td>\n",
       "      <td>-291</td>\n",
       "      <td>281</td>\n",
       "      <td>572</td>\n",
       "    </tr>\n",
       "    <tr>\n",
       "      <th>16</th>\n",
       "      <td>20-24</td>\n",
       "      <td>-309</td>\n",
       "      <td>322</td>\n",
       "      <td>631</td>\n",
       "    </tr>\n",
       "    <tr>\n",
       "      <th>17</th>\n",
       "      <td>15-19</td>\n",
       "      <td>-341</td>\n",
       "      <td>295</td>\n",
       "      <td>636</td>\n",
       "    </tr>\n",
       "    <tr>\n",
       "      <th>18</th>\n",
       "      <td>10-14</td>\n",
       "      <td>-292</td>\n",
       "      <td>294</td>\n",
       "      <td>586</td>\n",
       "    </tr>\n",
       "    <tr>\n",
       "      <th>19</th>\n",
       "      <td>5-9</td>\n",
       "      <td>-275</td>\n",
       "      <td>269</td>\n",
       "      <td>544</td>\n",
       "    </tr>\n",
       "    <tr>\n",
       "      <th>20</th>\n",
       "      <td>0-4</td>\n",
       "      <td>-234</td>\n",
       "      <td>239</td>\n",
       "      <td>473</td>\n",
       "    </tr>\n",
       "  </tbody>\n",
       "</table>\n",
       "</div>"
      ],
      "text/plain": [
       "     Ages  Males  Females  Population Count\n",
       "0    100+     -8        9                17\n",
       "1   95-99     -6        4                10\n",
       "2   90-94    -10       10                20\n",
       "3   85-89    -38       45                83\n",
       "4   80-84    -54       61               115\n",
       "5   75-79    -87       75               162\n",
       "6   70-74   -111      147               258\n",
       "7   65-69   -129      151               280\n",
       "8   60-64   -196      193               389\n",
       "9   55-59   -232      225               457\n",
       "10  50-54   -245      285               530\n",
       "11  45-49   -298      368               666\n",
       "12  40-44   -296      371               667\n",
       "13  35-39   -285      419               704\n",
       "14  30-34   -264      309               573\n",
       "15  25-29   -291      281               572\n",
       "16  20-24   -309      322               631\n",
       "17  15-19   -341      295               636\n",
       "18  10-14   -292      294               586\n",
       "19    5-9   -275      269               544\n",
       "20    0-4   -234      239               473"
      ]
     },
     "execution_count": 93,
     "metadata": {},
     "output_type": "execute_result"
    }
   ],
   "source": [
    "age_df"
   ]
  },
  {
   "cell_type": "markdown",
   "id": "5d7dc13a",
   "metadata": {},
   "source": [
    "Plotting the Age Pyramid:"
   ]
  },
  {
   "cell_type": "code",
   "execution_count": 94,
   "id": "bc9005a4",
   "metadata": {},
   "outputs": [
    {
     "data": {
      "image/png": "[encoded data removed]",
      "text/plain": [
       "<Figure size 576x576 with 1 Axes>"
      ]
     },
     "metadata": {
      "needs_background": "light"
     },
     "output_type": "display_data"
    }
   ],
   "source": [
    "age_pyramid_func(data=age_df,plot_size=(8,8),y='Ages',order=age_range,plot_title='Age Pyramid',xlabel='Population Count',\\\n",
    "                ylabel='Age Group (Years)')"
   ]
  },
  {
   "cell_type": "markdown",
   "id": "00b4453d",
   "metadata": {},
   "source": [
    "- Although the town had a relatively low birth rate (0-4), they tend to increase in size as they attain middle age. Both genders live relatively well into old age."
   ]
  },
  {
   "cell_type": "markdown",
   "id": "db90832b",
   "metadata": {},
   "source": [
    "### Gender and Age:"
   ]
  },
  {
   "cell_type": "code",
   "execution_count": 95,
   "id": "35e220bc",
   "metadata": {},
   "outputs": [
    {
     "data": {
      "text/html": [
       "<div>\n",
       "<style scoped>\n",
       "    .dataframe tbody tr th:only-of-type {\n",
       "        vertical-align: middle;\n",
       "    }\n",
       "\n",
       "    .dataframe tbody tr th {\n",
       "        vertical-align: top;\n",
       "    }\n",
       "\n",
       "    .dataframe thead th {\n",
       "        text-align: right;\n",
       "    }\n",
       "</style>\n",
       "<table border=\"1\" class=\"dataframe\">\n",
       "  <thead>\n",
       "    <tr style=\"text-align: right;\">\n",
       "      <th></th>\n",
       "      <th>count</th>\n",
       "      <th>mean</th>\n",
       "      <th>std</th>\n",
       "      <th>min</th>\n",
       "      <th>25%</th>\n",
       "      <th>50%</th>\n",
       "      <th>75%</th>\n",
       "      <th>max</th>\n",
       "    </tr>\n",
       "    <tr>\n",
       "      <th>Gender</th>\n",
       "      <th></th>\n",
       "      <th></th>\n",
       "      <th></th>\n",
       "      <th></th>\n",
       "      <th></th>\n",
       "      <th></th>\n",
       "      <th></th>\n",
       "      <th></th>\n",
       "    </tr>\n",
       "  </thead>\n",
       "  <tbody>\n",
       "    <tr>\n",
       "      <th>Female</th>\n",
       "      <td>4372.0</td>\n",
       "      <td>36.788884</td>\n",
       "      <td>21.539247</td>\n",
       "      <td>0.0</td>\n",
       "      <td>19.0</td>\n",
       "      <td>37.0</td>\n",
       "      <td>51.0</td>\n",
       "      <td>116.0</td>\n",
       "    </tr>\n",
       "    <tr>\n",
       "      <th>Male</th>\n",
       "      <td>4001.0</td>\n",
       "      <td>35.796301</td>\n",
       "      <td>22.036668</td>\n",
       "      <td>0.0</td>\n",
       "      <td>17.0</td>\n",
       "      <td>34.0</td>\n",
       "      <td>52.0</td>\n",
       "      <td>112.0</td>\n",
       "    </tr>\n",
       "  </tbody>\n",
       "</table>\n",
       "</div>"
      ],
      "text/plain": [
       "         count       mean        std  min   25%   50%   75%    max\n",
       "Gender                                                            \n",
       "Female  4372.0  36.788884  21.539247  0.0  19.0  37.0  51.0  116.0\n",
       "Male    4001.0  35.796301  22.036668  0.0  17.0  34.0  52.0  112.0"
      ]
     },
     "execution_count": 95,
     "metadata": {},
     "output_type": "execute_result"
    }
   ],
   "source": [
    "census_df.groupby('Gender')['Age'].describe()"
   ]
  },
  {
   "cell_type": "code",
   "execution_count": 96,
   "id": "47eb4afe",
   "metadata": {
    "scrolled": false
   },
   "outputs": [
    {
     "data": {
      "image/png": "[encoded data removed]",
      "text/plain": [
       "<Figure size 540x180 with 1 Axes>"
      ]
     },
     "metadata": {
      "needs_background": "light"
     },
     "output_type": "display_data"
    }
   ],
   "source": [
    "catplot_func(data=census_df,x='Age',y='Gender',kind='box',height=2.5,aspect=3,plot_title='Gender Distribution by Age',\\\n",
    "             xlabel='Age (Years)')"
   ]
  },
  {
   "cell_type": "code",
   "execution_count": 97,
   "id": "26ef8a36",
   "metadata": {},
   "outputs": [
    {
     "data": {
      "image/png": "[encoded data removed]",
      "text/plain": [
       "<Figure size 288x504 with 1 Axes>"
      ]
     },
     "metadata": {
      "needs_background": "light"
     },
     "output_type": "display_data"
    }
   ],
   "source": [
    "countplot_func(data=census_df,main_data=census_df,plot_size=(4,7),xlabel='Gender',\\\n",
    "                   plot_title='Population Distribution by Gender',plot_variable='Gender',add_count=True)"
   ]
  },
  {
   "cell_type": "markdown",
   "id": "790e9c5f",
   "metadata": {},
   "source": [
    "### Marital Status"
   ]
  },
  {
   "cell_type": "code",
   "execution_count": 98,
   "id": "b3f7ce35",
   "metadata": {},
   "outputs": [
    {
     "data": {
      "text/html": [
       "<div>\n",
       "<style scoped>\n",
       "    .dataframe tbody tr th:only-of-type {\n",
       "        vertical-align: middle;\n",
       "    }\n",
       "\n",
       "    .dataframe tbody tr th {\n",
       "        vertical-align: top;\n",
       "    }\n",
       "\n",
       "    .dataframe thead th {\n",
       "        text-align: right;\n",
       "    }\n",
       "</style>\n",
       "<table border=\"1\" class=\"dataframe\">\n",
       "  <thead>\n",
       "    <tr style=\"text-align: right;\">\n",
       "      <th></th>\n",
       "      <th>count</th>\n",
       "      <th>mean</th>\n",
       "      <th>std</th>\n",
       "      <th>min</th>\n",
       "      <th>25%</th>\n",
       "      <th>50%</th>\n",
       "      <th>75%</th>\n",
       "      <th>max</th>\n",
       "    </tr>\n",
       "    <tr>\n",
       "      <th>Marital Status</th>\n",
       "      <th></th>\n",
       "      <th></th>\n",
       "      <th></th>\n",
       "      <th></th>\n",
       "      <th></th>\n",
       "      <th></th>\n",
       "      <th></th>\n",
       "      <th></th>\n",
       "    </tr>\n",
       "  </thead>\n",
       "  <tbody>\n",
       "    <tr>\n",
       "      <th>Divorced</th>\n",
       "      <td>790.0</td>\n",
       "      <td>42.449367</td>\n",
       "      <td>17.374919</td>\n",
       "      <td>18.0</td>\n",
       "      <td>29.0</td>\n",
       "      <td>39.0</td>\n",
       "      <td>52.0</td>\n",
       "      <td>100.0</td>\n",
       "    </tr>\n",
       "    <tr>\n",
       "      <th>Married</th>\n",
       "      <td>2221.0</td>\n",
       "      <td>50.488969</td>\n",
       "      <td>16.751617</td>\n",
       "      <td>18.0</td>\n",
       "      <td>38.0</td>\n",
       "      <td>48.0</td>\n",
       "      <td>62.0</td>\n",
       "      <td>116.0</td>\n",
       "    </tr>\n",
       "    <tr>\n",
       "      <th>N/A</th>\n",
       "      <td>1977.0</td>\n",
       "      <td>8.982296</td>\n",
       "      <td>5.072769</td>\n",
       "      <td>0.0</td>\n",
       "      <td>5.0</td>\n",
       "      <td>9.0</td>\n",
       "      <td>13.0</td>\n",
       "      <td>17.0</td>\n",
       "    </tr>\n",
       "    <tr>\n",
       "      <th>Single</th>\n",
       "      <td>2998.0</td>\n",
       "      <td>38.254837</td>\n",
       "      <td>14.173496</td>\n",
       "      <td>18.0</td>\n",
       "      <td>26.0</td>\n",
       "      <td>37.0</td>\n",
       "      <td>49.0</td>\n",
       "      <td>96.0</td>\n",
       "    </tr>\n",
       "    <tr>\n",
       "      <th>Widowed</th>\n",
       "      <td>387.0</td>\n",
       "      <td>67.041344</td>\n",
       "      <td>18.265127</td>\n",
       "      <td>18.0</td>\n",
       "      <td>65.5</td>\n",
       "      <td>71.0</td>\n",
       "      <td>78.0</td>\n",
       "      <td>105.0</td>\n",
       "    </tr>\n",
       "  </tbody>\n",
       "</table>\n",
       "</div>"
      ],
      "text/plain": [
       "                 count       mean        std   min   25%   50%   75%    max\n",
       "Marital Status                                                             \n",
       "Divorced         790.0  42.449367  17.374919  18.0  29.0  39.0  52.0  100.0\n",
       "Married         2221.0  50.488969  16.751617  18.0  38.0  48.0  62.0  116.0\n",
       "N/A             1977.0   8.982296   5.072769   0.0   5.0   9.0  13.0   17.0\n",
       "Single          2998.0  38.254837  14.173496  18.0  26.0  37.0  49.0   96.0\n",
       "Widowed          387.0  67.041344  18.265127  18.0  65.5  71.0  78.0  105.0"
      ]
     },
     "execution_count": 98,
     "metadata": {},
     "output_type": "execute_result"
    }
   ],
   "source": [
    "census_df.groupby('Marital Status')['Age'].describe()"
   ]
  },
  {
   "cell_type": "code",
   "execution_count": 99,
   "id": "ff17dbcc",
   "metadata": {
    "scrolled": false
   },
   "outputs": [
    {
     "data": {
      "image/png": "[encoded data removed]",
      "text/plain": [
       "<Figure size 432x504 with 1 Axes>"
      ]
     },
     "metadata": {
      "needs_background": "light"
     },
     "output_type": "display_data"
    }
   ],
   "source": [
    "#Plotting the marital status:\n",
    "countplot_func(data=census_df,main_data=census_df,plot_size=(6,7),xlabel='Marital Status',\\\n",
    "                   plot_title='Marital Status Distribution',plot_variable='Marital Status',add_count=False)"
   ]
  },
  {
   "cell_type": "markdown",
   "id": "ffe245b0",
   "metadata": {},
   "source": [
    "- As shown above, 35.8% of the entries are Single while 26.5% are Married.\n",
    "- 9.4% of the data are Divorced while those who are Widowed, occupy just 4.6% of the data."
   ]
  },
  {
   "cell_type": "code",
   "execution_count": 100,
   "id": "4e2397ba",
   "metadata": {
    "scrolled": true
   },
   "outputs": [
    {
     "data": {
      "image/png": "[encoded data removed]",
      "text/plain": [
       "<Figure size 648x324 with 1 Axes>"
      ]
     },
     "metadata": {
      "needs_background": "light"
     },
     "output_type": "display_data"
    }
   ],
   "source": [
    "catplot_func(data=census_df,x='Age',y='Marital Status',kind='box',height=4.5,aspect=2,\\\n",
    "             plot_title='Comparing Marital Status with Age',xlabel='Age (Years)')"
   ]
  },
  {
   "cell_type": "markdown",
   "id": "bc4a446f",
   "metadata": {},
   "source": [
    "### Computing Marriage and Divorce Rate:"
   ]
  },
  {
   "cell_type": "code",
   "execution_count": 101,
   "id": "48484961",
   "metadata": {},
   "outputs": [],
   "source": [
    "married_num = len(census_df[(census_df['Marital Status']=='Married') & (census_df['Gender']=='Female')])\n",
    "divorced_num = len(census_df[(census_df['Marital Status']=='Divorced') & (census_df['Gender']=='Female')])\n",
    "population_count = len(census_df)"
   ]
  },
  {
   "cell_type": "code",
   "execution_count": 102,
   "id": "fb975933",
   "metadata": {},
   "outputs": [
    {
     "name": "stdout",
     "output_type": "stream",
     "text": [
      "Crude Marriage Rate is: 133.0 marriages per Thousand.\n",
      "----------------------------------------\n",
      "Crude Divorce Rate is: 56.0 divorces per Thousand.\n"
     ]
    }
   ],
   "source": [
    "crude_marriage_rate = (married_num / population_count) * 1000\n",
    "crude_divorce_rate = (divorced_num / population_count) * 1000\n",
    "\n",
    "print(f'Crude Marriage Rate is: {round(crude_marriage_rate,0)} marriages per Thousand.')\n",
    "print('----------------------------------------')\n",
    "print(f'Crude Divorce Rate is: {round(crude_divorce_rate,0)} divorces per Thousand.')"
   ]
  },
  {
   "cell_type": "code",
   "execution_count": 103,
   "id": "1ae32eb1",
   "metadata": {},
   "outputs": [
    {
     "name": "stdout",
     "output_type": "stream",
     "text": [
      "The divorce to marriage rate is: 42.0%\n"
     ]
    }
   ],
   "source": [
    "divorce_to_marriage = round((crude_divorce_rate / crude_marriage_rate),2) * 100\n",
    "print(f'The divorce to marriage rate is: {divorce_to_marriage}%')"
   ]
  },
  {
   "cell_type": "markdown",
   "id": "7015e375",
   "metadata": {},
   "source": [
    "### Comparing Divorce and Marriage Rate and Age Based on Gender:"
   ]
  },
  {
   "cell_type": "code",
   "execution_count": 104,
   "id": "bc8d1fcc",
   "metadata": {},
   "outputs": [
    {
     "data": {
      "text/html": [
       "<div>\n",
       "<style scoped>\n",
       "    .dataframe tbody tr th:only-of-type {\n",
       "        vertical-align: middle;\n",
       "    }\n",
       "\n",
       "    .dataframe tbody tr th {\n",
       "        vertical-align: top;\n",
       "    }\n",
       "\n",
       "    .dataframe thead th {\n",
       "        text-align: right;\n",
       "    }\n",
       "</style>\n",
       "<table border=\"1\" class=\"dataframe\">\n",
       "  <thead>\n",
       "    <tr style=\"text-align: right;\">\n",
       "      <th></th>\n",
       "      <th></th>\n",
       "      <th>count</th>\n",
       "      <th>mean</th>\n",
       "      <th>std</th>\n",
       "      <th>min</th>\n",
       "      <th>25%</th>\n",
       "      <th>50%</th>\n",
       "      <th>75%</th>\n",
       "      <th>max</th>\n",
       "    </tr>\n",
       "    <tr>\n",
       "      <th>Gender</th>\n",
       "      <th>Marital Status</th>\n",
       "      <th></th>\n",
       "      <th></th>\n",
       "      <th></th>\n",
       "      <th></th>\n",
       "      <th></th>\n",
       "      <th></th>\n",
       "      <th></th>\n",
       "      <th></th>\n",
       "    </tr>\n",
       "  </thead>\n",
       "  <tbody>\n",
       "    <tr>\n",
       "      <th rowspan=\"2\" valign=\"top\">Female</th>\n",
       "      <th>Divorced</th>\n",
       "      <td>473.0</td>\n",
       "      <td>43.640592</td>\n",
       "      <td>17.560483</td>\n",
       "      <td>18.0</td>\n",
       "      <td>31.0</td>\n",
       "      <td>40.0</td>\n",
       "      <td>53.0</td>\n",
       "      <td>100.0</td>\n",
       "    </tr>\n",
       "    <tr>\n",
       "      <th>Married</th>\n",
       "      <td>1117.0</td>\n",
       "      <td>49.436885</td>\n",
       "      <td>16.701759</td>\n",
       "      <td>18.0</td>\n",
       "      <td>37.0</td>\n",
       "      <td>48.0</td>\n",
       "      <td>60.0</td>\n",
       "      <td>116.0</td>\n",
       "    </tr>\n",
       "    <tr>\n",
       "      <th rowspan=\"2\" valign=\"top\">Male</th>\n",
       "      <th>Divorced</th>\n",
       "      <td>317.0</td>\n",
       "      <td>40.671924</td>\n",
       "      <td>16.966635</td>\n",
       "      <td>18.0</td>\n",
       "      <td>26.0</td>\n",
       "      <td>38.0</td>\n",
       "      <td>51.0</td>\n",
       "      <td>84.0</td>\n",
       "    </tr>\n",
       "    <tr>\n",
       "      <th>Married</th>\n",
       "      <td>1104.0</td>\n",
       "      <td>51.553442</td>\n",
       "      <td>16.742269</td>\n",
       "      <td>18.0</td>\n",
       "      <td>39.0</td>\n",
       "      <td>50.0</td>\n",
       "      <td>63.0</td>\n",
       "      <td>112.0</td>\n",
       "    </tr>\n",
       "  </tbody>\n",
       "</table>\n",
       "</div>"
      ],
      "text/plain": [
       "                        count       mean        std   min   25%   50%   75%  \\\n",
       "Gender Marital Status                                                         \n",
       "Female Divorced         473.0  43.640592  17.560483  18.0  31.0  40.0  53.0   \n",
       "       Married         1117.0  49.436885  16.701759  18.0  37.0  48.0  60.0   \n",
       "Male   Divorced         317.0  40.671924  16.966635  18.0  26.0  38.0  51.0   \n",
       "       Married         1104.0  51.553442  16.742269  18.0  39.0  50.0  63.0   \n",
       "\n",
       "                         max  \n",
       "Gender Marital Status         \n",
       "Female Divorced        100.0  \n",
       "       Married         116.0  \n",
       "Male   Divorced         84.0  \n",
       "       Married         112.0  "
      ]
     },
     "execution_count": 104,
     "metadata": {},
     "output_type": "execute_result"
    }
   ],
   "source": [
    "married_divorcedDf = census_df[census_df['Marital Status'].isin(['Married','Divorced'])]\n",
    "married_divorcedDf.groupby(['Gender','Marital Status'])['Age'].describe()"
   ]
  },
  {
   "cell_type": "markdown",
   "id": "df657d98",
   "metadata": {},
   "source": [
    "Plotting Divorced rate based on gender:"
   ]
  },
  {
   "cell_type": "code",
   "execution_count": 105,
   "id": "09fe117c",
   "metadata": {},
   "outputs": [
    {
     "data": {
      "image/png": "[encoded data removed]",
      "text/plain": [
       "<Figure size 288x504 with 1 Axes>"
      ]
     },
     "metadata": {
      "needs_background": "light"
     },
     "output_type": "display_data"
    }
   ],
   "source": [
    "#Creating dataframe of all divorced entries:\n",
    "divorced_df = census_df[census_df['Marital Status']=='Divorced']\n",
    "\n",
    "countplot_func(data=divorced_df,main_data=divorced_df,plot_size=(4,7),xlabel='Gender',\\\n",
    "                   plot_title='Divorce Rate based on Gender',plot_variable='Marital Status',add_count=True)"
   ]
  },
  {
   "cell_type": "markdown",
   "id": "1ab863b4",
   "metadata": {},
   "source": [
    "- Female divorcees still living in the town are about 9.8% more than their male counterparts. It can be assumed that the some men do leave the town to settle elsewhere after they get a divorce."
   ]
  },
  {
   "cell_type": "markdown",
   "id": "5eb49c46",
   "metadata": {},
   "source": [
    "### Infirmity:"
   ]
  },
  {
   "cell_type": "code",
   "execution_count": 106,
   "id": "04131216",
   "metadata": {
    "scrolled": false
   },
   "outputs": [
    {
     "data": {
      "image/png": "[encoded data removed]",
      "text/plain": [
       "<Figure size 1008x432 with 1 Axes>"
      ]
     },
     "metadata": {
      "needs_background": "light"
     },
     "output_type": "display_data"
    }
   ],
   "source": [
    "#Infirmity State across population:\n",
    "countplot_func(data=census_df,main_data=census_df,plot_size=(14,6),xlabel='Infirmity',plot_title='Plot of Infirmity',\\\n",
    "                    plot_variable='Infirmity',add_count=False)"
   ]
  },
  {
   "cell_type": "markdown",
   "id": "c2ddee01",
   "metadata": {},
   "source": [
    "- 99.2% of the entries are had no form of infirmity.\n",
    "- This indicates that a most people are in good health."
   ]
  },
  {
   "cell_type": "code",
   "execution_count": 107,
   "id": "4aa53def",
   "metadata": {},
   "outputs": [
    {
     "data": {
      "text/html": [
       "<div>\n",
       "<style scoped>\n",
       "    .dataframe tbody tr th:only-of-type {\n",
       "        vertical-align: middle;\n",
       "    }\n",
       "\n",
       "    .dataframe tbody tr th {\n",
       "        vertical-align: top;\n",
       "    }\n",
       "\n",
       "    .dataframe thead th {\n",
       "        text-align: right;\n",
       "    }\n",
       "</style>\n",
       "<table border=\"1\" class=\"dataframe\">\n",
       "  <thead>\n",
       "    <tr style=\"text-align: right;\">\n",
       "      <th></th>\n",
       "      <th>count</th>\n",
       "      <th>mean</th>\n",
       "      <th>std</th>\n",
       "      <th>min</th>\n",
       "      <th>25%</th>\n",
       "      <th>50%</th>\n",
       "      <th>75%</th>\n",
       "      <th>max</th>\n",
       "    </tr>\n",
       "    <tr>\n",
       "      <th>Infirmity</th>\n",
       "      <th></th>\n",
       "      <th></th>\n",
       "      <th></th>\n",
       "      <th></th>\n",
       "      <th></th>\n",
       "      <th></th>\n",
       "      <th></th>\n",
       "      <th></th>\n",
       "    </tr>\n",
       "  </thead>\n",
       "  <tbody>\n",
       "    <tr>\n",
       "      <th>Blind</th>\n",
       "      <td>9.0</td>\n",
       "      <td>40.555556</td>\n",
       "      <td>18.262743</td>\n",
       "      <td>13.0</td>\n",
       "      <td>37.00</td>\n",
       "      <td>39.0</td>\n",
       "      <td>44.00</td>\n",
       "      <td>75.0</td>\n",
       "    </tr>\n",
       "    <tr>\n",
       "      <th>Deaf</th>\n",
       "      <td>7.0</td>\n",
       "      <td>37.857143</td>\n",
       "      <td>19.869814</td>\n",
       "      <td>16.0</td>\n",
       "      <td>25.50</td>\n",
       "      <td>31.0</td>\n",
       "      <td>46.00</td>\n",
       "      <td>75.0</td>\n",
       "    </tr>\n",
       "    <tr>\n",
       "      <th>Disabled</th>\n",
       "      <td>8.0</td>\n",
       "      <td>30.125000</td>\n",
       "      <td>20.173798</td>\n",
       "      <td>8.0</td>\n",
       "      <td>13.75</td>\n",
       "      <td>27.5</td>\n",
       "      <td>40.50</td>\n",
       "      <td>61.0</td>\n",
       "    </tr>\n",
       "    <tr>\n",
       "      <th>Mental Disability</th>\n",
       "      <td>10.0</td>\n",
       "      <td>32.000000</td>\n",
       "      <td>22.784010</td>\n",
       "      <td>0.0</td>\n",
       "      <td>14.25</td>\n",
       "      <td>31.0</td>\n",
       "      <td>47.75</td>\n",
       "      <td>63.0</td>\n",
       "    </tr>\n",
       "    <tr>\n",
       "      <th>None</th>\n",
       "      <td>8304.0</td>\n",
       "      <td>36.309730</td>\n",
       "      <td>21.794905</td>\n",
       "      <td>0.0</td>\n",
       "      <td>19.00</td>\n",
       "      <td>36.0</td>\n",
       "      <td>51.00</td>\n",
       "      <td>116.0</td>\n",
       "    </tr>\n",
       "    <tr>\n",
       "      <th>Physical Disability</th>\n",
       "      <td>18.0</td>\n",
       "      <td>40.333333</td>\n",
       "      <td>19.580903</td>\n",
       "      <td>3.0</td>\n",
       "      <td>32.25</td>\n",
       "      <td>45.5</td>\n",
       "      <td>51.75</td>\n",
       "      <td>68.0</td>\n",
       "    </tr>\n",
       "    <tr>\n",
       "      <th>Undisclosed</th>\n",
       "      <td>13.0</td>\n",
       "      <td>36.153846</td>\n",
       "      <td>25.442242</td>\n",
       "      <td>5.0</td>\n",
       "      <td>16.00</td>\n",
       "      <td>28.0</td>\n",
       "      <td>47.00</td>\n",
       "      <td>89.0</td>\n",
       "    </tr>\n",
       "    <tr>\n",
       "      <th>Unknown Infection</th>\n",
       "      <td>4.0</td>\n",
       "      <td>39.750000</td>\n",
       "      <td>12.500000</td>\n",
       "      <td>26.0</td>\n",
       "      <td>33.50</td>\n",
       "      <td>38.5</td>\n",
       "      <td>44.75</td>\n",
       "      <td>56.0</td>\n",
       "    </tr>\n",
       "  </tbody>\n",
       "</table>\n",
       "</div>"
      ],
      "text/plain": [
       "                      count       mean        std   min    25%   50%    75%  \\\n",
       "Infirmity                                                                     \n",
       "Blind                   9.0  40.555556  18.262743  13.0  37.00  39.0  44.00   \n",
       "Deaf                    7.0  37.857143  19.869814  16.0  25.50  31.0  46.00   \n",
       "Disabled                8.0  30.125000  20.173798   8.0  13.75  27.5  40.50   \n",
       "Mental Disability      10.0  32.000000  22.784010   0.0  14.25  31.0  47.75   \n",
       "None                 8304.0  36.309730  21.794905   0.0  19.00  36.0  51.00   \n",
       "Physical Disability    18.0  40.333333  19.580903   3.0  32.25  45.5  51.75   \n",
       "Undisclosed            13.0  36.153846  25.442242   5.0  16.00  28.0  47.00   \n",
       "Unknown Infection       4.0  39.750000  12.500000  26.0  33.50  38.5  44.75   \n",
       "\n",
       "                       max  \n",
       "Infirmity                   \n",
       "Blind                 75.0  \n",
       "Deaf                  75.0  \n",
       "Disabled              61.0  \n",
       "Mental Disability     63.0  \n",
       "None                 116.0  \n",
       "Physical Disability   68.0  \n",
       "Undisclosed           89.0  \n",
       "Unknown Infection     56.0  "
      ]
     },
     "execution_count": 107,
     "metadata": {},
     "output_type": "execute_result"
    }
   ],
   "source": [
    "#Infirmity Status and Age distribution:\n",
    "census_df.groupby('Infirmity')['Age'].describe()"
   ]
  },
  {
   "cell_type": "code",
   "execution_count": 108,
   "id": "c61940d3",
   "metadata": {},
   "outputs": [
    {
     "data": {
      "image/png": "[encoded data removed]",
      "text/plain": [
       "<Figure size 720x360 with 1 Axes>"
      ]
     },
     "metadata": {
      "needs_background": "light"
     },
     "output_type": "display_data"
    }
   ],
   "source": [
    "#Plotting Infirmity and Age:\n",
    "catplot_func(data=census_df,x='Age',y='Infirmity',kind='box',height=5,aspect=2,plot_title='Comparing Infirmity with Age',\\\n",
    "             xlabel='Age (Years)')"
   ]
  },
  {
   "cell_type": "markdown",
   "id": "782fa94b",
   "metadata": {},
   "source": [
    "- Although there are cases of infirmity across all ages, people above 85 years sufferred no infirmity which could mean that they are well taken care of at old age."
   ]
  },
  {
   "cell_type": "markdown",
   "id": "26ba8f4d",
   "metadata": {},
   "source": [
    "### Religion Plot"
   ]
  },
  {
   "cell_type": "code",
   "execution_count": 109,
   "id": "81759470",
   "metadata": {
    "scrolled": false
   },
   "outputs": [
    {
     "data": {
      "image/png": "[encoded data removed]",
      "text/plain": [
       "<Figure size 720x576 with 1 Axes>"
      ]
     },
     "metadata": {
      "needs_background": "light"
     },
     "output_type": "display_data"
    }
   ],
   "source": [
    "#Plotting the Religion:\n",
    "countplot_func(data=census_df,main_data=census_df,plot_size=(10,8),xlabel='Religion',\\\n",
    "                    plot_title='Plot Showing Distribution by Religious Beliefs',plot_variable='Religion',add_count=False)"
   ]
  },
  {
   "cell_type": "markdown",
   "id": "82ac46e2",
   "metadata": {},
   "source": [
    "- Most of the entries (39.9%) belonged to none of the religions while 39.9% are Christians."
   ]
  },
  {
   "cell_type": "code",
   "execution_count": 110,
   "id": "de2dec17",
   "metadata": {},
   "outputs": [
    {
     "data": {
      "image/png": "[encoded data removed]",
      "text/plain": [
       "<Figure size 864x432 with 1 Axes>"
      ]
     },
     "metadata": {
      "needs_background": "light"
     },
     "output_type": "display_data"
    }
   ],
   "source": [
    "#Religious affiliations and age:\n",
    "catplot_func(data=census_df,x='Age',y='Religion',kind='box',height=6,aspect=2,plot_title='Plot Comparing Religion and Age',\\\n",
    "             xlabel='Age (Years)')"
   ]
  },
  {
   "cell_type": "markdown",
   "id": "6923fa26",
   "metadata": {},
   "source": [
    "- People above 100 years old are mainly associated with christian religion."
   ]
  },
  {
   "cell_type": "markdown",
   "id": "ebfbc285",
   "metadata": {},
   "source": [
    "### Occupation Plot:"
   ]
  },
  {
   "cell_type": "code",
   "execution_count": 111,
   "id": "3385e627",
   "metadata": {
    "scrolled": false
   },
   "outputs": [
    {
     "data": {
      "image/png": "[encoded data removed]",
      "text/plain": [
       "<Figure size 432x504 with 1 Axes>"
      ]
     },
     "metadata": {
      "needs_background": "light"
     },
     "output_type": "display_data"
    }
   ],
   "source": [
    "#Plotting Employment Status:\n",
    "countplot_func(data=census_df,main_data=census_df,plot_size=(6,7),xlabel='Employment Status',\\\n",
    "                    plot_title='Plot Showing Employment Status',plot_variable='Occupation',add_count=False)"
   ]
  },
  {
   "cell_type": "markdown",
   "id": "4feb8bdf",
   "metadata": {},
   "source": [
    "- over 50% of the entries are employed"
   ]
  },
  {
   "cell_type": "code",
   "execution_count": 112,
   "id": "a0f620a6",
   "metadata": {
    "scrolled": false
   },
   "outputs": [
    {
     "data": {
      "image/png": "[encoded data removed]",
      "text/plain": [
       "<Figure size 792x360 with 1 Axes>"
      ]
     },
     "metadata": {
      "needs_background": "light"
     },
     "output_type": "display_data"
    }
   ],
   "source": [
    "#Employment Status distribution and Age:\n",
    "catplot_func(data=census_df,x='Age',y='Employment Status',kind='box',height=5,aspect=2.2,\\\n",
    "             plot_title='Relationship Between Employment Status and Age',xlabel='Age (Years)')"
   ]
  },
  {
   "cell_type": "code",
   "execution_count": 113,
   "id": "42f01cf2",
   "metadata": {},
   "outputs": [
    {
     "data": {
      "text/html": [
       "<div>\n",
       "<style scoped>\n",
       "    .dataframe tbody tr th:only-of-type {\n",
       "        vertical-align: middle;\n",
       "    }\n",
       "\n",
       "    .dataframe tbody tr th {\n",
       "        vertical-align: top;\n",
       "    }\n",
       "\n",
       "    .dataframe thead th {\n",
       "        text-align: right;\n",
       "    }\n",
       "</style>\n",
       "<table border=\"1\" class=\"dataframe\">\n",
       "  <thead>\n",
       "    <tr style=\"text-align: right;\">\n",
       "      <th></th>\n",
       "      <th>count</th>\n",
       "      <th>mean</th>\n",
       "      <th>std</th>\n",
       "      <th>min</th>\n",
       "      <th>25%</th>\n",
       "      <th>50%</th>\n",
       "      <th>75%</th>\n",
       "      <th>max</th>\n",
       "    </tr>\n",
       "    <tr>\n",
       "      <th>Employment Status</th>\n",
       "      <th></th>\n",
       "      <th></th>\n",
       "      <th></th>\n",
       "      <th></th>\n",
       "      <th></th>\n",
       "      <th></th>\n",
       "      <th></th>\n",
       "      <th></th>\n",
       "    </tr>\n",
       "  </thead>\n",
       "  <tbody>\n",
       "    <tr>\n",
       "      <th>Child</th>\n",
       "      <td>473.0</td>\n",
       "      <td>2.114165</td>\n",
       "      <td>1.439335</td>\n",
       "      <td>0.0</td>\n",
       "      <td>1.0</td>\n",
       "      <td>2.0</td>\n",
       "      <td>3.0</td>\n",
       "      <td>4.0</td>\n",
       "    </tr>\n",
       "    <tr>\n",
       "      <th>Employed</th>\n",
       "      <td>4392.0</td>\n",
       "      <td>42.168488</td>\n",
       "      <td>11.692672</td>\n",
       "      <td>19.0</td>\n",
       "      <td>33.0</td>\n",
       "      <td>42.0</td>\n",
       "      <td>51.0</td>\n",
       "      <td>65.0</td>\n",
       "    </tr>\n",
       "    <tr>\n",
       "      <th>Retired</th>\n",
       "      <td>897.0</td>\n",
       "      <td>75.687848</td>\n",
       "      <td>8.141508</td>\n",
       "      <td>66.0</td>\n",
       "      <td>69.0</td>\n",
       "      <td>74.0</td>\n",
       "      <td>80.0</td>\n",
       "      <td>116.0</td>\n",
       "    </tr>\n",
       "    <tr>\n",
       "      <th>Student</th>\n",
       "      <td>2123.0</td>\n",
       "      <td>13.769195</td>\n",
       "      <td>5.223511</td>\n",
       "      <td>5.0</td>\n",
       "      <td>9.0</td>\n",
       "      <td>14.0</td>\n",
       "      <td>18.0</td>\n",
       "      <td>32.0</td>\n",
       "    </tr>\n",
       "    <tr>\n",
       "      <th>Unemployed</th>\n",
       "      <td>488.0</td>\n",
       "      <td>42.487705</td>\n",
       "      <td>11.260763</td>\n",
       "      <td>16.0</td>\n",
       "      <td>34.0</td>\n",
       "      <td>42.0</td>\n",
       "      <td>50.0</td>\n",
       "      <td>65.0</td>\n",
       "    </tr>\n",
       "  </tbody>\n",
       "</table>\n",
       "</div>"
      ],
      "text/plain": [
       "                    count       mean        std   min   25%   50%   75%    max\n",
       "Employment Status                                                             \n",
       "Child               473.0   2.114165   1.439335   0.0   1.0   2.0   3.0    4.0\n",
       "Employed           4392.0  42.168488  11.692672  19.0  33.0  42.0  51.0   65.0\n",
       "Retired             897.0  75.687848   8.141508  66.0  69.0  74.0  80.0  116.0\n",
       "Student            2123.0  13.769195   5.223511   5.0   9.0  14.0  18.0   32.0\n",
       "Unemployed          488.0  42.487705  11.260763  16.0  34.0  42.0  50.0   65.0"
      ]
     },
     "execution_count": 113,
     "metadata": {},
     "output_type": "execute_result"
    }
   ],
   "source": [
    "#Employment Status and age distribution:\n",
    "census_df.groupby('Employment Status')['Age'].describe()"
   ]
  },
  {
   "cell_type": "markdown",
   "id": "8c9f8abc",
   "metadata": {},
   "source": [
    "- 50% of the those curremtly employed (4392) and unemployed (488) are between 42 and 65 years old, with 25% above 50 years old. This indicates that in years to come, these people will reach retirement age, hence the need to invest in a good retirement plan to cater for them."
   ]
  },
  {
   "cell_type": "code",
   "execution_count": 114,
   "id": "a45fdbd3",
   "metadata": {},
   "outputs": [
    {
     "data": {
      "image/png": "[encoded data removed]",
      "text/plain": [
       "<Figure size 432x216 with 1 Axes>"
      ]
     },
     "metadata": {
      "needs_background": "light"
     },
     "output_type": "display_data"
    }
   ],
   "source": [
    "#Comparing Employed Status and Age:\n",
    "employed_status = census_df[census_df['Employment Status']=='Employed']\n",
    "sns.catplot(data=employed_status, x='Age', y='Employment Status',height=3,kind='box',aspect=2)\n",
    "plt.title('Employed Vs Age')\n",
    "plt.xlabel('Age (Years)')\n",
    "plt.show()"
   ]
  },
  {
   "cell_type": "markdown",
   "id": "6f7885aa",
   "metadata": {},
   "source": [
    "### Computing Total number of Commuters:\n",
    "It has been stated that students at the university are commuters, since there are no universities in the town. Similarly, university or higher education workers (Lecturers, Higher Education Career Advisers, etc.) would likely commute since no university is within the town."
   ]
  },
  {
   "cell_type": "code",
   "execution_count": 115,
   "id": "c431af97",
   "metadata": {},
   "outputs": [],
   "source": [
    "#Creating a copy of original data for reference:\n",
    "copy_censusDf = census_df.copy()"
   ]
  },
  {
   "cell_type": "code",
   "execution_count": 116,
   "id": "9a477a3f",
   "metadata": {},
   "outputs": [
    {
     "name": "stdout",
     "output_type": "stream",
     "text": [
      "Total workers in the university is: 38\n"
     ]
    }
   ],
   "source": [
    "#Total number of university workers:\n",
    "university_workers = len(census_df[(census_df['Occupation'].str.contains('lecturer|Lecturer|Higher education|higher education'))])\n",
    "print(f'Total workers in the university is: {university_workers}')"
   ]
  },
  {
   "cell_type": "code",
   "execution_count": 117,
   "id": "30e7a104",
   "metadata": {},
   "outputs": [
    {
     "name": "stdout",
     "output_type": "stream",
     "text": [
      "Total number of commuters is: 579\n"
     ]
    }
   ],
   "source": [
    "total_commuters = len(census_df[census_df['Occupation'].str.contains('University Student|PhD Student')]) + university_workers\n",
    "print(f'Total number of commuters is: {total_commuters}')"
   ]
  },
  {
   "cell_type": "markdown",
   "id": "737ab74b",
   "metadata": {},
   "source": [
    "### Student Distribution:"
   ]
  },
  {
   "cell_type": "code",
   "execution_count": 118,
   "id": "bf374b49",
   "metadata": {},
   "outputs": [
    {
     "data": {
      "image/png": "[encoded data removed]",
      "text/plain": [
       "<Figure size 360x504 with 1 Axes>"
      ]
     },
     "metadata": {
      "needs_background": "light"
     },
     "output_type": "display_data"
    }
   ],
   "source": [
    "#Extracting entries whose Occupation are students:\n",
    "studentDf = census_df[census_df['Occupation'].str.contains('Student')]\n",
    "\n",
    "#Plot showing Occupation distribution for the students:\n",
    "countplot_func(data=studentDf,main_data=census_df,plot_size=(5,7),xlabel='Occupation',\\\n",
    "                    plot_title='Distribution of Students Across Entire Dataset',plot_variable='Occupation',add_count=True)"
   ]
  },
  {
   "cell_type": "markdown",
   "id": "356b94cb",
   "metadata": {},
   "source": [
    "- 18.9% (i.e 1,582) of all entries in the data are regular high school or non-tertiary students.\n",
    "- 6.3% (531) of entries are University students while only 0.1% (10) are enrolled for their Ph.D.\n",
    "\n",
    "This points to the fact that about 531 of the total number of the students are university student who need to commute to their university on a regular basis. Also, more students will be attending the university in the nearest future, as seen from the 1582 students in non tertiary institutions. So building a train station to accomodate these large number of students leaving the town to attend university will be important."
   ]
  },
  {
   "cell_type": "code",
   "execution_count": 119,
   "id": "1dc94a14",
   "metadata": {
    "scrolled": true
   },
   "outputs": [
    {
     "data": {
      "image/png": "[encoded data removed]",
      "text/plain": [
       "<Figure size 288x360 with 1 Axes>"
      ]
     },
     "metadata": {
      "needs_background": "light"
     },
     "output_type": "display_data"
    }
   ],
   "source": [
    "#Extracting entries who are non university students between 8 and 18:\n",
    "non_university_stud = census_copyDf[(census_copyDf['Occupation']=='Student')]\n",
    "student_future = non_university_stud[non_university_stud['Age'].isin(range(8,19))]\n",
    "\n",
    "#Plot showing fraction of non university students between 8 and 18:\n",
    "countplot_func(data=student_future,main_data=census_df,plot_size=(4,5),xlabel='Occupation',\\\n",
    "                    plot_title='Non-Tertiary Student Between 8-18 years',plot_variable='Occupation',add_count=True)"
   ]
  },
  {
   "cell_type": "markdown",
   "id": "4d8bee89",
   "metadata": {},
   "source": [
    "- 15% of the population will be of university age (18 years) in 10 years time."
   ]
  },
  {
   "cell_type": "code",
   "execution_count": 120,
   "id": "1d4b6192",
   "metadata": {},
   "outputs": [
    {
     "data": {
      "text/html": [
       "<div>\n",
       "<style scoped>\n",
       "    .dataframe tbody tr th:only-of-type {\n",
       "        vertical-align: middle;\n",
       "    }\n",
       "\n",
       "    .dataframe tbody tr th {\n",
       "        vertical-align: top;\n",
       "    }\n",
       "\n",
       "    .dataframe thead th {\n",
       "        text-align: right;\n",
       "    }\n",
       "</style>\n",
       "<table border=\"1\" class=\"dataframe\">\n",
       "  <thead>\n",
       "    <tr style=\"text-align: right;\">\n",
       "      <th></th>\n",
       "      <th>count</th>\n",
       "      <th>mean</th>\n",
       "      <th>std</th>\n",
       "      <th>min</th>\n",
       "      <th>25%</th>\n",
       "      <th>50%</th>\n",
       "      <th>75%</th>\n",
       "      <th>max</th>\n",
       "    </tr>\n",
       "    <tr>\n",
       "      <th>Occupation</th>\n",
       "      <th></th>\n",
       "      <th></th>\n",
       "      <th></th>\n",
       "      <th></th>\n",
       "      <th></th>\n",
       "      <th></th>\n",
       "      <th></th>\n",
       "      <th></th>\n",
       "    </tr>\n",
       "  </thead>\n",
       "  <tbody>\n",
       "    <tr>\n",
       "      <th>PhD Student</th>\n",
       "      <td>10.0</td>\n",
       "      <td>27.400000</td>\n",
       "      <td>2.988868</td>\n",
       "      <td>24.0</td>\n",
       "      <td>24.5</td>\n",
       "      <td>27.0</td>\n",
       "      <td>29.75</td>\n",
       "      <td>32.0</td>\n",
       "    </tr>\n",
       "    <tr>\n",
       "      <th>Student</th>\n",
       "      <td>1582.0</td>\n",
       "      <td>11.481669</td>\n",
       "      <td>3.900321</td>\n",
       "      <td>5.0</td>\n",
       "      <td>8.0</td>\n",
       "      <td>11.0</td>\n",
       "      <td>15.00</td>\n",
       "      <td>18.0</td>\n",
       "    </tr>\n",
       "    <tr>\n",
       "      <th>University Student</th>\n",
       "      <td>531.0</td>\n",
       "      <td>20.327684</td>\n",
       "      <td>1.221647</td>\n",
       "      <td>18.0</td>\n",
       "      <td>19.0</td>\n",
       "      <td>20.0</td>\n",
       "      <td>21.00</td>\n",
       "      <td>22.0</td>\n",
       "    </tr>\n",
       "  </tbody>\n",
       "</table>\n",
       "</div>"
      ],
      "text/plain": [
       "                     count       mean       std   min   25%   50%    75%   max\n",
       "Occupation                                                                    \n",
       "PhD Student           10.0  27.400000  2.988868  24.0  24.5  27.0  29.75  32.0\n",
       "Student             1582.0  11.481669  3.900321   5.0   8.0  11.0  15.00  18.0\n",
       "University Student   531.0  20.327684  1.221647  18.0  19.0  20.0  21.00  22.0"
      ]
     },
     "execution_count": 120,
     "metadata": {},
     "output_type": "execute_result"
    }
   ],
   "source": [
    "#Grouping all students with their Age:\n",
    "student_df = census_copyDf[(census_copyDf['Occupation'].str.contains('Student'))]\n",
    "student_df.groupby('Occupation')['Age'].describe()"
   ]
  },
  {
   "cell_type": "code",
   "execution_count": 121,
   "id": "ca919aab",
   "metadata": {
    "scrolled": false
   },
   "outputs": [
    {
     "data": {
      "image/png": "[encoded data removed]",
      "text/plain": [
       "<Figure size 792x360 with 1 Axes>"
      ]
     },
     "metadata": {
      "needs_background": "light"
     },
     "output_type": "display_data"
    }
   ],
   "source": [
    "#Plot of students with age:\n",
    "catplot_func(data=student_df,x='Age',y='Occupation',kind='box',height=5,aspect=2.2,\\\n",
    "             plot_title='Student Types and Age',xlabel='Age (Years)')"
   ]
  },
  {
   "cell_type": "markdown",
   "id": "359dc15b",
   "metadata": {},
   "source": [
    "- Students above 25 years are PhD. Students."
   ]
  },
  {
   "cell_type": "markdown",
   "id": "e1deaf7f",
   "metadata": {},
   "source": [
    "### Birth and Death Rate:\n",
    "Since, we have no previous population records, it was assummed that there were no migration or emigration in and out of the town. So entries with 0 years are new borns within the year.\n",
    "\n",
    "For the death rate, features named Population Count and Cummulative Count were added to aid analysis.\n",
    "- Population Count: The tolal population at each age range.\n",
    "- Cummulative Count: Cummulative difference between the population count (for checking population growth or decline)."
   ]
  },
  {
   "cell_type": "markdown",
   "id": "ef188d83",
   "metadata": {},
   "source": [
    "##### Crude Birth Rate:"
   ]
  },
  {
   "cell_type": "code",
   "execution_count": 122,
   "id": "bebaa7af",
   "metadata": {},
   "outputs": [],
   "source": [
    "birth_number = len(census_df[census_df['Age']==0])\n",
    "total_population = len(census_df)"
   ]
  },
  {
   "cell_type": "code",
   "execution_count": 123,
   "id": "60118e28",
   "metadata": {
    "scrolled": true
   },
   "outputs": [
    {
     "name": "stdout",
     "output_type": "stream",
     "text": [
      "The Crude Birth Rate is: 11.0 per Thousand\n"
     ]
    }
   ],
   "source": [
    "crude_birth_rate = (birth_number/total_population) * 1000\n",
    "print(f'The Crude Birth Rate is: {round(crude_birth_rate,0)} per Thousand')"
   ]
  },
  {
   "cell_type": "markdown",
   "id": "cb307529",
   "metadata": {},
   "source": [
    "Estimating the birth rate 5 years ago:"
   ]
  },
  {
   "cell_type": "code",
   "execution_count": 124,
   "id": "abed86ed",
   "metadata": {},
   "outputs": [
    {
     "name": "stdout",
     "output_type": "stream",
     "text": [
      "The Crude Birth Rate is: 13.0 per Thousand\n"
     ]
    }
   ],
   "source": [
    "birth_number_5 = len(census_df[census_df['Age']==5])\n",
    "crude_birth_rate_5 = (birth_number_5/total_population) * 1000\n",
    "print(f'The Crude Birth Rate is: {round(crude_birth_rate_5,0)} per Thousand')"
   ]
  },
  {
   "cell_type": "code",
   "execution_count": 125,
   "id": "c04fa50c",
   "metadata": {},
   "outputs": [
    {
     "name": "stdout",
     "output_type": "stream",
     "text": [
      "The Crude Birth Rate 5 years ago was 18.0% higher than now.\n"
     ]
    }
   ],
   "source": [
    "#Computing percent difference between the crude birth rates:\n",
    "percent_diff = ((crude_birth_rate_5 - crude_birth_rate)/crude_birth_rate) * 100\n",
    "print(f'The Crude Birth Rate 5 years ago was {round(percent_diff,1)}% higher than now.')"
   ]
  },
  {
   "cell_type": "markdown",
   "id": "85d0ed0c",
   "metadata": {},
   "source": [
    "- The birth rate 5 years ago is 18% higher than the current birth rate indicating a lower birth rate as seen from the age pyramid."
   ]
  },
  {
   "cell_type": "markdown",
   "id": "11f1e082",
   "metadata": {},
   "source": [
    "### Justification for Low birth rate now compared to 5 years ago:"
   ]
  },
  {
   "cell_type": "code",
   "execution_count": 126,
   "id": "7f5c9cc5",
   "metadata": {},
   "outputs": [
    {
     "name": "stdout",
     "output_type": "stream",
     "text": [
      "Total number Females within fertility age (15 and 45) presently is: 2071\n",
      "----------------------------------------------------------------------------------\n",
      "Total number Females within fertility age (15 and 45) 5 years ago is: 2132\n"
     ]
    }
   ],
   "source": [
    "#Creating an instance of the fertility age range:\n",
    "fertility_age_range = range(15,46)\n",
    "\n",
    "\n",
    "#Current popularion fertility_age_range (15 - 45):\n",
    "fertility_age_now = census_df[(census_df['Age'].isin(range(15,46))) & (census_df['Gender']=='Female')]['Age']\n",
    "\n",
    "#Female fertility_age_ramge 5 years ago:\n",
    "fertility_age_past = []\n",
    "for ages in census_df[census_df['Gender']=='Female']['Age']:\n",
    "    past_ages = ages - 5\n",
    "    if past_ages in fertility_age_range:\n",
    "        fertility_age_past.append(past_ages)\n",
    "    else:\n",
    "        continue\n",
    "print(f'Total number Females within fertility age (15 and 45) presently is: {len(fertility_age_now)}')\n",
    "print('----------------------------------------------------------------------------------')\n",
    "print(f'Total number Females within fertility age (15 and 45) 5 years ago is: {len(fertility_age_past)}')"
   ]
  },
  {
   "cell_type": "code",
   "execution_count": 127,
   "id": "3e098013",
   "metadata": {
    "scrolled": true
   },
   "outputs": [
    {
     "name": "stdout",
     "output_type": "stream",
     "text": [
      "The current number of females within fertility age range reduced by 2.9% compared to 5 years ago.\n"
     ]
    }
   ],
   "source": [
    "#Percent reduction in current number of females compared to 5 years ago:\n",
    "percent_change = ((len(fertility_age_past) - len(fertility_age_now)) / len(fertility_age_past)) * 100\n",
    "print(f'The current number of females within fertility age range reduced by {round(percent_change,1)}% compared to 5 years ago.')"
   ]
  },
  {
   "cell_type": "markdown",
   "id": "52a88bd4",
   "metadata": {},
   "source": [
    "- This reduction explains justifies the low birth rate experienced currently in the population and also indicated by the smaller base (ages 0-4 years) on the age pyramid plotted above."
   ]
  },
  {
   "cell_type": "code",
   "execution_count": 128,
   "id": "838952e8",
   "metadata": {},
   "outputs": [],
   "source": [
    "compare_fertility_df = pd.DataFrame({'Fertility Year':['Current','5 Years Ago'], 'Total number':[len(fertility_age_now), len(fertility_age_past)]})"
   ]
  },
  {
   "cell_type": "code",
   "execution_count": 129,
   "id": "25147d17",
   "metadata": {},
   "outputs": [
    {
     "data": {
      "text/html": [
       "<div>\n",
       "<style scoped>\n",
       "    .dataframe tbody tr th:only-of-type {\n",
       "        vertical-align: middle;\n",
       "    }\n",
       "\n",
       "    .dataframe tbody tr th {\n",
       "        vertical-align: top;\n",
       "    }\n",
       "\n",
       "    .dataframe thead th {\n",
       "        text-align: right;\n",
       "    }\n",
       "</style>\n",
       "<table border=\"1\" class=\"dataframe\">\n",
       "  <thead>\n",
       "    <tr style=\"text-align: right;\">\n",
       "      <th></th>\n",
       "      <th>Fertility Year</th>\n",
       "      <th>Total number</th>\n",
       "    </tr>\n",
       "  </thead>\n",
       "  <tbody>\n",
       "    <tr>\n",
       "      <th>0</th>\n",
       "      <td>Current</td>\n",
       "      <td>2071</td>\n",
       "    </tr>\n",
       "    <tr>\n",
       "      <th>1</th>\n",
       "      <td>5 Years Ago</td>\n",
       "      <td>2132</td>\n",
       "    </tr>\n",
       "  </tbody>\n",
       "</table>\n",
       "</div>"
      ],
      "text/plain": [
       "  Fertility Year  Total number\n",
       "0        Current          2071\n",
       "1    5 Years Ago          2132"
      ]
     },
     "execution_count": 129,
     "metadata": {},
     "output_type": "execute_result"
    }
   ],
   "source": [
    "compare_fertility_df"
   ]
  },
  {
   "cell_type": "code",
   "execution_count": 130,
   "id": "67c1a457",
   "metadata": {},
   "outputs": [
    {
     "data": {
      "image/png": "[encoded data removed]",
      "text/plain": [
       "<Figure size 288x432 with 1 Axes>"
      ]
     },
     "metadata": {
      "needs_background": "light"
     },
     "output_type": "display_data"
    }
   ],
   "source": [
    "barplot_func(data=compare_fertility_df,plot_size=(4,6),main_data=census_df[census_df['Gender']=='Female'],\\\n",
    "             x='Fertility Year',y='Total number',xlabel='Period Considered',\\\n",
    "            plot_title='Females within fertility age (15-45) now and 5 Years Ago',plot_variable='Age',add_count=True)"
   ]
  },
  {
   "cell_type": "markdown",
   "id": "364a8ba8",
   "metadata": {},
   "source": [
    "- 5 years ago, about 49% of the female population were within fertility age range (15-45 years) which is slightly higher than what it is now (about 47%). "
   ]
  },
  {
   "cell_type": "code",
   "execution_count": null,
   "id": "4c2b15b8",
   "metadata": {},
   "outputs": [],
   "source": []
  },
  {
   "cell_type": "markdown",
   "id": "c37270e5",
   "metadata": {},
   "source": [
    "##### Crude Death rate:"
   ]
  },
  {
   "cell_type": "code",
   "execution_count": 131,
   "id": "c2e3c62f",
   "metadata": {},
   "outputs": [
    {
     "name": "stderr",
     "output_type": "stream",
     "text": [
      "C:\\Users\\ohiom\\AppData\\Local\\Temp/ipykernel_30408/554501956.py:9: SettingWithCopyWarning: \n",
      "A value is trying to be set on a copy of a slice from a DataFrame.\n",
      "Try using .loc[row_indexer,col_indexer] = value instead\n",
      "\n",
      "See the caveats in the documentation: https://pandas.pydata.org/pandas-docs/stable/user_guide/indexing.html#returning-a-view-versus-a-copy\n",
      "  new_ageDf['Population Count'] = total\n",
      "C:\\Users\\ohiom\\AppData\\Local\\Temp/ipykernel_30408/554501956.py:21: SettingWithCopyWarning: \n",
      "A value is trying to be set on a copy of a slice from a DataFrame.\n",
      "Try using .loc[row_indexer,col_indexer] = value instead\n",
      "\n",
      "See the caveats in the documentation: https://pandas.pydata.org/pandas-docs/stable/user_guide/indexing.html#returning-a-view-versus-a-copy\n",
      "  new_ageDf['Cummulative Count'] = new_diff\n"
     ]
    }
   ],
   "source": [
    "#Creating new Features, Population Count and cummulative Count:\n",
    "#Population Count: Total population by age interval.\n",
    "#Cummulative Count: cummulative population count\n",
    "total = []\n",
    "for index, row in age_df.iterrows():\n",
    "    total_pop = (row['Males']* -1) + row['Females']\n",
    "    total.append(total_pop)\n",
    "new_ageDf = age_df[['Ages']]\n",
    "new_ageDf['Population Count'] = total\n",
    "\n",
    "new_diff = []\n",
    "i = 0\n",
    "while i in range(0,21):\n",
    "    if i==len(total)-1:\n",
    "        difference = 0\n",
    "        new_diff.append(difference)\n",
    "    else:\n",
    "        difference = total[i] - total[i+1]\n",
    "        new_diff.append(difference)\n",
    "    i+=1\n",
    "new_ageDf['Cummulative Count'] = new_diff"
   ]
  },
  {
   "cell_type": "code",
   "execution_count": 132,
   "id": "2d6bcab2",
   "metadata": {
    "scrolled": false
   },
   "outputs": [
    {
     "data": {
      "text/html": [
       "<div>\n",
       "<style scoped>\n",
       "    .dataframe tbody tr th:only-of-type {\n",
       "        vertical-align: middle;\n",
       "    }\n",
       "\n",
       "    .dataframe tbody tr th {\n",
       "        vertical-align: top;\n",
       "    }\n",
       "\n",
       "    .dataframe thead th {\n",
       "        text-align: right;\n",
       "    }\n",
       "</style>\n",
       "<table border=\"1\" class=\"dataframe\">\n",
       "  <thead>\n",
       "    <tr style=\"text-align: right;\">\n",
       "      <th></th>\n",
       "      <th>Ages</th>\n",
       "      <th>Population Count</th>\n",
       "      <th>Cummulative Count</th>\n",
       "    </tr>\n",
       "  </thead>\n",
       "  <tbody>\n",
       "    <tr>\n",
       "      <th>0</th>\n",
       "      <td>100+</td>\n",
       "      <td>17</td>\n",
       "      <td>7</td>\n",
       "    </tr>\n",
       "    <tr>\n",
       "      <th>1</th>\n",
       "      <td>95-99</td>\n",
       "      <td>10</td>\n",
       "      <td>-10</td>\n",
       "    </tr>\n",
       "    <tr>\n",
       "      <th>2</th>\n",
       "      <td>90-94</td>\n",
       "      <td>20</td>\n",
       "      <td>-63</td>\n",
       "    </tr>\n",
       "    <tr>\n",
       "      <th>3</th>\n",
       "      <td>85-89</td>\n",
       "      <td>83</td>\n",
       "      <td>-32</td>\n",
       "    </tr>\n",
       "    <tr>\n",
       "      <th>4</th>\n",
       "      <td>80-84</td>\n",
       "      <td>115</td>\n",
       "      <td>-47</td>\n",
       "    </tr>\n",
       "    <tr>\n",
       "      <th>5</th>\n",
       "      <td>75-79</td>\n",
       "      <td>162</td>\n",
       "      <td>-96</td>\n",
       "    </tr>\n",
       "    <tr>\n",
       "      <th>6</th>\n",
       "      <td>70-74</td>\n",
       "      <td>258</td>\n",
       "      <td>-22</td>\n",
       "    </tr>\n",
       "    <tr>\n",
       "      <th>7</th>\n",
       "      <td>65-69</td>\n",
       "      <td>280</td>\n",
       "      <td>-109</td>\n",
       "    </tr>\n",
       "    <tr>\n",
       "      <th>8</th>\n",
       "      <td>60-64</td>\n",
       "      <td>389</td>\n",
       "      <td>-68</td>\n",
       "    </tr>\n",
       "    <tr>\n",
       "      <th>9</th>\n",
       "      <td>55-59</td>\n",
       "      <td>457</td>\n",
       "      <td>-73</td>\n",
       "    </tr>\n",
       "    <tr>\n",
       "      <th>10</th>\n",
       "      <td>50-54</td>\n",
       "      <td>530</td>\n",
       "      <td>-136</td>\n",
       "    </tr>\n",
       "    <tr>\n",
       "      <th>11</th>\n",
       "      <td>45-49</td>\n",
       "      <td>666</td>\n",
       "      <td>-1</td>\n",
       "    </tr>\n",
       "    <tr>\n",
       "      <th>12</th>\n",
       "      <td>40-44</td>\n",
       "      <td>667</td>\n",
       "      <td>-37</td>\n",
       "    </tr>\n",
       "    <tr>\n",
       "      <th>13</th>\n",
       "      <td>35-39</td>\n",
       "      <td>704</td>\n",
       "      <td>131</td>\n",
       "    </tr>\n",
       "    <tr>\n",
       "      <th>14</th>\n",
       "      <td>30-34</td>\n",
       "      <td>573</td>\n",
       "      <td>1</td>\n",
       "    </tr>\n",
       "    <tr>\n",
       "      <th>15</th>\n",
       "      <td>25-29</td>\n",
       "      <td>572</td>\n",
       "      <td>-59</td>\n",
       "    </tr>\n",
       "    <tr>\n",
       "      <th>16</th>\n",
       "      <td>20-24</td>\n",
       "      <td>631</td>\n",
       "      <td>-5</td>\n",
       "    </tr>\n",
       "    <tr>\n",
       "      <th>17</th>\n",
       "      <td>15-19</td>\n",
       "      <td>636</td>\n",
       "      <td>50</td>\n",
       "    </tr>\n",
       "    <tr>\n",
       "      <th>18</th>\n",
       "      <td>10-14</td>\n",
       "      <td>586</td>\n",
       "      <td>42</td>\n",
       "    </tr>\n",
       "    <tr>\n",
       "      <th>19</th>\n",
       "      <td>5-9</td>\n",
       "      <td>544</td>\n",
       "      <td>71</td>\n",
       "    </tr>\n",
       "    <tr>\n",
       "      <th>20</th>\n",
       "      <td>0-4</td>\n",
       "      <td>473</td>\n",
       "      <td>0</td>\n",
       "    </tr>\n",
       "  </tbody>\n",
       "</table>\n",
       "</div>"
      ],
      "text/plain": [
       "     Ages  Population Count  Cummulative Count\n",
       "0    100+                17                  7\n",
       "1   95-99                10                -10\n",
       "2   90-94                20                -63\n",
       "3   85-89                83                -32\n",
       "4   80-84               115                -47\n",
       "5   75-79               162                -96\n",
       "6   70-74               258                -22\n",
       "7   65-69               280               -109\n",
       "8   60-64               389                -68\n",
       "9   55-59               457                -73\n",
       "10  50-54               530               -136\n",
       "11  45-49               666                 -1\n",
       "12  40-44               667                -37\n",
       "13  35-39               704                131\n",
       "14  30-34               573                  1\n",
       "15  25-29               572                -59\n",
       "16  20-24               631                 -5\n",
       "17  15-19               636                 50\n",
       "18  10-14               586                 42\n",
       "19    5-9               544                 71\n",
       "20    0-4               473                  0"
      ]
     },
     "execution_count": 132,
     "metadata": {},
     "output_type": "execute_result"
    }
   ],
   "source": [
    "new_ageDf"
   ]
  },
  {
   "cell_type": "markdown",
   "id": "df030f26",
   "metadata": {},
   "source": [
    "- Total Count holds the sum of population count of both genders while Total Decline represents the cummulative difference between the Total Count (negative indicates reduction while positive indicates increase in population)."
   ]
  },
  {
   "cell_type": "markdown",
   "id": "40c8732f",
   "metadata": {},
   "source": [
    "Calculating Crude Death Rate:"
   ]
  },
  {
   "cell_type": "code",
   "execution_count": 133,
   "id": "aa49dc7d",
   "metadata": {},
   "outputs": [
    {
     "name": "stdout",
     "output_type": "stream",
     "text": [
      "The Crude Death Rate is: 6.5 deaths per thousand.\n"
     ]
    }
   ],
   "source": [
    "total_decline = -(new_ageDf.loc[range(1,8)]['Cummulative Count'].values).sum()\n",
    "total_population_65 = len(census_df['Age']>=65)\n",
    "average_decline = total_decline/len(new_ageDf.loc[range(1,8)])\n",
    "crude_death_rate = (average_decline/total_population_65) * 1000\n",
    "print(f'The Crude Death Rate is: {round(crude_death_rate,1)} deaths per thousand.')"
   ]
  },
  {
   "cell_type": "code",
   "execution_count": null,
   "id": "6fcaf947",
   "metadata": {},
   "outputs": [],
   "source": []
  },
  {
   "cell_type": "markdown",
   "id": "c0054c3a",
   "metadata": {},
   "source": [
    "### Employment and Unemployment Trend:"
   ]
  },
  {
   "cell_type": "code",
   "execution_count": 134,
   "id": "28a83ee8",
   "metadata": {},
   "outputs": [],
   "source": [
    "employment_statusDf = census_df[(census_df['Employment Status'].isin(['Employed','Unemployed'])) & (census_df['Age'].isin(range(16,66)))]"
   ]
  },
  {
   "cell_type": "code",
   "execution_count": 135,
   "id": "b93de851",
   "metadata": {},
   "outputs": [],
   "source": [
    "employ_status_age = employment_statusDf[['Employment Status', 'Age']]"
   ]
  },
  {
   "cell_type": "code",
   "execution_count": 136,
   "id": "3cf73058",
   "metadata": {},
   "outputs": [
    {
     "data": {
      "text/html": [
       "<div>\n",
       "<style scoped>\n",
       "    .dataframe tbody tr th:only-of-type {\n",
       "        vertical-align: middle;\n",
       "    }\n",
       "\n",
       "    .dataframe tbody tr th {\n",
       "        vertical-align: top;\n",
       "    }\n",
       "\n",
       "    .dataframe thead th {\n",
       "        text-align: right;\n",
       "    }\n",
       "</style>\n",
       "<table border=\"1\" class=\"dataframe\">\n",
       "  <thead>\n",
       "    <tr style=\"text-align: right;\">\n",
       "      <th></th>\n",
       "      <th>Employment Status</th>\n",
       "      <th>Age</th>\n",
       "    </tr>\n",
       "  </thead>\n",
       "  <tbody>\n",
       "    <tr>\n",
       "      <th>0</th>\n",
       "      <td>Employed</td>\n",
       "      <td>41</td>\n",
       "    </tr>\n",
       "    <tr>\n",
       "      <th>3</th>\n",
       "      <td>Employed</td>\n",
       "      <td>40</td>\n",
       "    </tr>\n",
       "    <tr>\n",
       "      <th>4</th>\n",
       "      <td>Employed</td>\n",
       "      <td>35</td>\n",
       "    </tr>\n",
       "    <tr>\n",
       "      <th>8</th>\n",
       "      <td>Employed</td>\n",
       "      <td>60</td>\n",
       "    </tr>\n",
       "    <tr>\n",
       "      <th>9</th>\n",
       "      <td>Employed</td>\n",
       "      <td>62</td>\n",
       "    </tr>\n",
       "    <tr>\n",
       "      <th>...</th>\n",
       "      <td>...</td>\n",
       "      <td>...</td>\n",
       "    </tr>\n",
       "    <tr>\n",
       "      <th>8362</th>\n",
       "      <td>Employed</td>\n",
       "      <td>23</td>\n",
       "    </tr>\n",
       "    <tr>\n",
       "      <th>8369</th>\n",
       "      <td>Employed</td>\n",
       "      <td>44</td>\n",
       "    </tr>\n",
       "    <tr>\n",
       "      <th>8370</th>\n",
       "      <td>Employed</td>\n",
       "      <td>32</td>\n",
       "    </tr>\n",
       "    <tr>\n",
       "      <th>8371</th>\n",
       "      <td>Employed</td>\n",
       "      <td>52</td>\n",
       "    </tr>\n",
       "    <tr>\n",
       "      <th>8372</th>\n",
       "      <td>Unemployed</td>\n",
       "      <td>45</td>\n",
       "    </tr>\n",
       "  </tbody>\n",
       "</table>\n",
       "<p>4880 rows × 2 columns</p>\n",
       "</div>"
      ],
      "text/plain": [
       "     Employment Status  Age\n",
       "0             Employed   41\n",
       "3             Employed   40\n",
       "4             Employed   35\n",
       "8             Employed   60\n",
       "9             Employed   62\n",
       "...                ...  ...\n",
       "8362          Employed   23\n",
       "8369          Employed   44\n",
       "8370          Employed   32\n",
       "8371          Employed   52\n",
       "8372        Unemployed   45\n",
       "\n",
       "[4880 rows x 2 columns]"
      ]
     },
     "execution_count": 136,
     "metadata": {},
     "output_type": "execute_result"
    }
   ],
   "source": [
    "employ_status_age"
   ]
  },
  {
   "cell_type": "code",
   "execution_count": 137,
   "id": "589381ea",
   "metadata": {},
   "outputs": [
    {
     "data": {
      "text/html": [
       "<div>\n",
       "<style scoped>\n",
       "    .dataframe tbody tr th:only-of-type {\n",
       "        vertical-align: middle;\n",
       "    }\n",
       "\n",
       "    .dataframe tbody tr th {\n",
       "        vertical-align: top;\n",
       "    }\n",
       "\n",
       "    .dataframe thead th {\n",
       "        text-align: right;\n",
       "    }\n",
       "</style>\n",
       "<table border=\"1\" class=\"dataframe\">\n",
       "  <thead>\n",
       "    <tr style=\"text-align: right;\">\n",
       "      <th></th>\n",
       "      <th>count</th>\n",
       "      <th>mean</th>\n",
       "      <th>std</th>\n",
       "      <th>min</th>\n",
       "      <th>25%</th>\n",
       "      <th>50%</th>\n",
       "      <th>75%</th>\n",
       "      <th>max</th>\n",
       "    </tr>\n",
       "    <tr>\n",
       "      <th>Employment Status</th>\n",
       "      <th></th>\n",
       "      <th></th>\n",
       "      <th></th>\n",
       "      <th></th>\n",
       "      <th></th>\n",
       "      <th></th>\n",
       "      <th></th>\n",
       "      <th></th>\n",
       "    </tr>\n",
       "  </thead>\n",
       "  <tbody>\n",
       "    <tr>\n",
       "      <th>Employed</th>\n",
       "      <td>4392.0</td>\n",
       "      <td>42.168488</td>\n",
       "      <td>11.692672</td>\n",
       "      <td>19.0</td>\n",
       "      <td>33.0</td>\n",
       "      <td>42.0</td>\n",
       "      <td>51.0</td>\n",
       "      <td>65.0</td>\n",
       "    </tr>\n",
       "    <tr>\n",
       "      <th>Unemployed</th>\n",
       "      <td>488.0</td>\n",
       "      <td>42.487705</td>\n",
       "      <td>11.260763</td>\n",
       "      <td>16.0</td>\n",
       "      <td>34.0</td>\n",
       "      <td>42.0</td>\n",
       "      <td>50.0</td>\n",
       "      <td>65.0</td>\n",
       "    </tr>\n",
       "  </tbody>\n",
       "</table>\n",
       "</div>"
      ],
      "text/plain": [
       "                    count       mean        std   min   25%   50%   75%   max\n",
       "Employment Status                                                            \n",
       "Employed           4392.0  42.168488  11.692672  19.0  33.0  42.0  51.0  65.0\n",
       "Unemployed          488.0  42.487705  11.260763  16.0  34.0  42.0  50.0  65.0"
      ]
     },
     "execution_count": 137,
     "metadata": {},
     "output_type": "execute_result"
    }
   ],
   "source": [
    "employment_statusDf.groupby('Employment Status')['Age'].describe()"
   ]
  },
  {
   "cell_type": "code",
   "execution_count": 138,
   "id": "2794d462",
   "metadata": {},
   "outputs": [
    {
     "data": {
      "image/png": "[encoded data removed]",
      "text/plain": [
       "<Figure size 475.2x216 with 1 Axes>"
      ]
     },
     "metadata": {
      "needs_background": "light"
     },
     "output_type": "display_data"
    }
   ],
   "source": [
    "catplot_func(data=employment_statusDf,x='Age',y='Employment Status',kind='box',height=3,aspect=2.2,\\\n",
    "             plot_title='Plot Showing Employment Status Within Working Age (16 - 64 years)',xlabel='Age (Years)')"
   ]
  },
  {
   "cell_type": "code",
   "execution_count": 139,
   "id": "d865fa3f",
   "metadata": {},
   "outputs": [
    {
     "data": {
      "image/png": "[encoded data removed]",
      "text/plain": [
       "<Figure size 288x360 with 1 Axes>"
      ]
     },
     "metadata": {
      "needs_background": "light"
     },
     "output_type": "display_data"
    }
   ],
   "source": [
    "#Plot showing all employment status within working age: \n",
    "countplot_func(data=employment_statusDf,main_data=employment_statusDf,plot_size=(4,5),xlabel='Employment Status',\\\n",
    "                    plot_title='Percentage for Employed and Unemployed within Working Age',plot_variable='Employment Status',add_count=True)"
   ]
  },
  {
   "cell_type": "code",
   "execution_count": null,
   "id": "12f5dd18",
   "metadata": {},
   "outputs": [],
   "source": []
  },
  {
   "cell_type": "markdown",
   "id": "0120d149",
   "metadata": {},
   "source": [
    "### Future Retirement"
   ]
  },
  {
   "cell_type": "markdown",
   "id": "a3adb1a9",
   "metadata": {},
   "source": [
    "##### Computing percentage of retirement in 15 years time:\n",
    "Note: Ages 50 years and above would be of retirement age in 15 years time."
   ]
  },
  {
   "cell_type": "code",
   "execution_count": 140,
   "id": "3479361d",
   "metadata": {},
   "outputs": [],
   "source": [
    "future_retire = age_df[age_df['Ages'].isin(['50-54','55-59','60-64'])]"
   ]
  },
  {
   "cell_type": "code",
   "execution_count": 141,
   "id": "be332ac4",
   "metadata": {},
   "outputs": [
    {
     "data": {
      "text/html": [
       "<div>\n",
       "<style scoped>\n",
       "    .dataframe tbody tr th:only-of-type {\n",
       "        vertical-align: middle;\n",
       "    }\n",
       "\n",
       "    .dataframe tbody tr th {\n",
       "        vertical-align: top;\n",
       "    }\n",
       "\n",
       "    .dataframe thead th {\n",
       "        text-align: right;\n",
       "    }\n",
       "</style>\n",
       "<table border=\"1\" class=\"dataframe\">\n",
       "  <thead>\n",
       "    <tr style=\"text-align: right;\">\n",
       "      <th></th>\n",
       "      <th>Ages</th>\n",
       "      <th>Males</th>\n",
       "      <th>Females</th>\n",
       "      <th>Population Count</th>\n",
       "    </tr>\n",
       "  </thead>\n",
       "  <tbody>\n",
       "    <tr>\n",
       "      <th>8</th>\n",
       "      <td>60-64</td>\n",
       "      <td>-196</td>\n",
       "      <td>193</td>\n",
       "      <td>389</td>\n",
       "    </tr>\n",
       "    <tr>\n",
       "      <th>9</th>\n",
       "      <td>55-59</td>\n",
       "      <td>-232</td>\n",
       "      <td>225</td>\n",
       "      <td>457</td>\n",
       "    </tr>\n",
       "    <tr>\n",
       "      <th>10</th>\n",
       "      <td>50-54</td>\n",
       "      <td>-245</td>\n",
       "      <td>285</td>\n",
       "      <td>530</td>\n",
       "    </tr>\n",
       "  </tbody>\n",
       "</table>\n",
       "</div>"
      ],
      "text/plain": [
       "     Ages  Males  Females  Population Count\n",
       "8   60-64   -196      193               389\n",
       "9   55-59   -232      225               457\n",
       "10  50-54   -245      285               530"
      ]
     },
     "execution_count": 141,
     "metadata": {},
     "output_type": "execute_result"
    }
   ],
   "source": [
    "future_retire"
   ]
  },
  {
   "cell_type": "code",
   "execution_count": 142,
   "id": "3afa9138",
   "metadata": {},
   "outputs": [
    {
     "name": "stdout",
     "output_type": "stream",
     "text": [
      "31.3% of those employed would already be retired in 15 years\n"
     ]
    }
   ],
   "source": [
    "retire_above_50 = (future_retire['Population Count'].sum()/\\\n",
    "                   len(employment_statusDf[employment_statusDf['Employment Status']=='Employed']))*100\n",
    "print(f'{round(retire_above_50, 1)}% of those employed would already be retired in 15 years')"
   ]
  },
  {
   "cell_type": "markdown",
   "id": "d7d1f3f0",
   "metadata": {},
   "source": [
    "Barplot to show the percentage of those employed whose retirement is at least 15 years from now:"
   ]
  },
  {
   "cell_type": "code",
   "execution_count": 143,
   "id": "f2eee354",
   "metadata": {
    "scrolled": true
   },
   "outputs": [
    {
     "data": {
      "image/png": "[encoded data removed]",
      "text/plain": [
       "<Figure size 288x360 with 1 Axes>"
      ]
     },
     "metadata": {
      "needs_background": "light"
     },
     "output_type": "display_data"
    }
   ],
   "source": [
    "barplot_func(data=future_retire,plot_size=(4,5),main_data=employment_statusDf[employment_statusDf['Employment Status']=='Employed'],\\\n",
    "             x='Ages',y='Population Count',xlabel='Age Range (Years)',\\\n",
    "            plot_title='Percentage of Employed To Be Retired in 15 years time',plot_variable='Age',add_count=False)"
   ]
  },
  {
   "cell_type": "markdown",
   "id": "8afe69e8",
   "metadata": {},
   "source": [
    "- A total of about 31.4% of those currently working will be retired in 15 years time."
   ]
  },
  {
   "cell_type": "markdown",
   "id": "5f4e746e",
   "metadata": {},
   "source": [
    "## Migration:"
   ]
  },
  {
   "cell_type": "markdown",
   "id": "2212be36",
   "metadata": {},
   "source": [
    "#### Immigration:"
   ]
  },
  {
   "cell_type": "code",
   "execution_count": 144,
   "id": "3953d825",
   "metadata": {},
   "outputs": [
    {
     "data": {
      "text/html": [
       "<div>\n",
       "<style scoped>\n",
       "    .dataframe tbody tr th:only-of-type {\n",
       "        vertical-align: middle;\n",
       "    }\n",
       "\n",
       "    .dataframe tbody tr th {\n",
       "        vertical-align: top;\n",
       "    }\n",
       "\n",
       "    .dataframe thead th {\n",
       "        text-align: right;\n",
       "    }\n",
       "</style>\n",
       "<table border=\"1\" class=\"dataframe\">\n",
       "  <thead>\n",
       "    <tr style=\"text-align: right;\">\n",
       "      <th></th>\n",
       "      <th>House Number</th>\n",
       "      <th>Street</th>\n",
       "      <th>First Name</th>\n",
       "      <th>Surname</th>\n",
       "      <th>Age</th>\n",
       "      <th>Relationship to Head of House</th>\n",
       "      <th>Marital Status</th>\n",
       "      <th>Gender</th>\n",
       "      <th>Occupation</th>\n",
       "      <th>Infirmity</th>\n",
       "      <th>Religion</th>\n",
       "      <th>Employment Status</th>\n",
       "    </tr>\n",
       "  </thead>\n",
       "  <tbody>\n",
       "    <tr>\n",
       "      <th>52</th>\n",
       "      <td>6</td>\n",
       "      <td>Telegraphnet Street</td>\n",
       "      <td>Mark</td>\n",
       "      <td>Webb</td>\n",
       "      <td>25</td>\n",
       "      <td>Lodger</td>\n",
       "      <td>Widowed</td>\n",
       "      <td>Male</td>\n",
       "      <td>Set designer</td>\n",
       "      <td>None</td>\n",
       "      <td>None</td>\n",
       "      <td>Employed</td>\n",
       "    </tr>\n",
       "    <tr>\n",
       "      <th>310</th>\n",
       "      <td>140</td>\n",
       "      <td>Smith Port</td>\n",
       "      <td>Tony</td>\n",
       "      <td>Short</td>\n",
       "      <td>59</td>\n",
       "      <td>Lodger</td>\n",
       "      <td>Single</td>\n",
       "      <td>Male</td>\n",
       "      <td>Holiday representative</td>\n",
       "      <td>None</td>\n",
       "      <td>None</td>\n",
       "      <td>Employed</td>\n",
       "    </tr>\n",
       "    <tr>\n",
       "      <th>311</th>\n",
       "      <td>140</td>\n",
       "      <td>Smith Port</td>\n",
       "      <td>Clare</td>\n",
       "      <td>Jones</td>\n",
       "      <td>61</td>\n",
       "      <td>Lodger</td>\n",
       "      <td>Widowed</td>\n",
       "      <td>Female</td>\n",
       "      <td>Scientist, physiological</td>\n",
       "      <td>None</td>\n",
       "      <td>None</td>\n",
       "      <td>Employed</td>\n",
       "    </tr>\n",
       "    <tr>\n",
       "      <th>316</th>\n",
       "      <td>144</td>\n",
       "      <td>Smith Port</td>\n",
       "      <td>Julian</td>\n",
       "      <td>Morgan</td>\n",
       "      <td>27</td>\n",
       "      <td>Lodger</td>\n",
       "      <td>Single</td>\n",
       "      <td>Male</td>\n",
       "      <td>Forensic psychologist</td>\n",
       "      <td>None</td>\n",
       "      <td>Sikh</td>\n",
       "      <td>Employed</td>\n",
       "    </tr>\n",
       "    <tr>\n",
       "      <th>383</th>\n",
       "      <td>5</td>\n",
       "      <td>Trent Crescent</td>\n",
       "      <td>Elaine</td>\n",
       "      <td>Dean</td>\n",
       "      <td>50</td>\n",
       "      <td>Lodger</td>\n",
       "      <td>Single</td>\n",
       "      <td>Female</td>\n",
       "      <td>Surveyor, hydrographic</td>\n",
       "      <td>None</td>\n",
       "      <td>None</td>\n",
       "      <td>Employed</td>\n",
       "    </tr>\n",
       "  </tbody>\n",
       "</table>\n",
       "</div>"
      ],
      "text/plain": [
       "     House Number               Street First Name Surname  Age  \\\n",
       "52              6  Telegraphnet Street       Mark    Webb   25   \n",
       "310           140           Smith Port       Tony   Short   59   \n",
       "311           140           Smith Port      Clare   Jones   61   \n",
       "316           144           Smith Port     Julian  Morgan   27   \n",
       "383             5       Trent Crescent     Elaine    Dean   50   \n",
       "\n",
       "    Relationship to Head of House Marital Status  Gender  \\\n",
       "52                         Lodger        Widowed    Male   \n",
       "310                        Lodger         Single    Male   \n",
       "311                        Lodger        Widowed  Female   \n",
       "316                        Lodger         Single    Male   \n",
       "383                        Lodger         Single  Female   \n",
       "\n",
       "                   Occupation Infirmity Religion Employment Status  \n",
       "52               Set designer      None     None          Employed  \n",
       "310    Holiday representative      None     None          Employed  \n",
       "311  Scientist, physiological      None     None          Employed  \n",
       "316     Forensic psychologist      None     Sikh          Employed  \n",
       "383    Surveyor, hydrographic      None     None          Employed  "
      ]
     },
     "execution_count": 144,
     "metadata": {},
     "output_type": "execute_result"
    }
   ],
   "source": [
    "#Extracting lodger information:\n",
    "lodgers_df = census_df[census_df['Relationship to Head of House']=='Lodger']\n",
    "lodgers_df.head()"
   ]
  },
  {
   "cell_type": "code",
   "execution_count": 145,
   "id": "68c210b3",
   "metadata": {},
   "outputs": [
    {
     "data": {
      "text/plain": [
       "281"
      ]
     },
     "execution_count": 145,
     "metadata": {},
     "output_type": "execute_result"
    }
   ],
   "source": [
    "#Number of lodgers:\n",
    "num_of_immigrants = len(lodgers_df)\n",
    "num_of_immigrants"
   ]
  },
  {
   "cell_type": "code",
   "execution_count": 146,
   "id": "42dd20e7",
   "metadata": {},
   "outputs": [
    {
     "data": {
      "text/html": [
       "<div>\n",
       "<style scoped>\n",
       "    .dataframe tbody tr th:only-of-type {\n",
       "        vertical-align: middle;\n",
       "    }\n",
       "\n",
       "    .dataframe tbody tr th {\n",
       "        vertical-align: top;\n",
       "    }\n",
       "\n",
       "    .dataframe thead th {\n",
       "        text-align: right;\n",
       "    }\n",
       "</style>\n",
       "<table border=\"1\" class=\"dataframe\">\n",
       "  <thead>\n",
       "    <tr style=\"text-align: right;\">\n",
       "      <th></th>\n",
       "      <th>count</th>\n",
       "      <th>mean</th>\n",
       "      <th>std</th>\n",
       "      <th>min</th>\n",
       "      <th>25%</th>\n",
       "      <th>50%</th>\n",
       "      <th>75%</th>\n",
       "      <th>max</th>\n",
       "    </tr>\n",
       "    <tr>\n",
       "      <th>Employment Status</th>\n",
       "      <th></th>\n",
       "      <th></th>\n",
       "      <th></th>\n",
       "      <th></th>\n",
       "      <th></th>\n",
       "      <th></th>\n",
       "      <th></th>\n",
       "      <th></th>\n",
       "    </tr>\n",
       "  </thead>\n",
       "  <tbody>\n",
       "    <tr>\n",
       "      <th>Employed</th>\n",
       "      <td>242.0</td>\n",
       "      <td>41.789256</td>\n",
       "      <td>12.504979</td>\n",
       "      <td>19.0</td>\n",
       "      <td>30.0</td>\n",
       "      <td>41.0</td>\n",
       "      <td>52.00</td>\n",
       "      <td>64.0</td>\n",
       "    </tr>\n",
       "    <tr>\n",
       "      <th>Student</th>\n",
       "      <td>27.0</td>\n",
       "      <td>20.666667</td>\n",
       "      <td>1.270978</td>\n",
       "      <td>18.0</td>\n",
       "      <td>20.0</td>\n",
       "      <td>21.0</td>\n",
       "      <td>22.00</td>\n",
       "      <td>22.0</td>\n",
       "    </tr>\n",
       "    <tr>\n",
       "      <th>Unemployed</th>\n",
       "      <td>12.0</td>\n",
       "      <td>39.166667</td>\n",
       "      <td>12.597499</td>\n",
       "      <td>24.0</td>\n",
       "      <td>29.5</td>\n",
       "      <td>37.0</td>\n",
       "      <td>46.25</td>\n",
       "      <td>63.0</td>\n",
       "    </tr>\n",
       "  </tbody>\n",
       "</table>\n",
       "</div>"
      ],
      "text/plain": [
       "                   count       mean        std   min   25%   50%    75%   max\n",
       "Employment Status                                                            \n",
       "Employed           242.0  41.789256  12.504979  19.0  30.0  41.0  52.00  64.0\n",
       "Student             27.0  20.666667   1.270978  18.0  20.0  21.0  22.00  22.0\n",
       "Unemployed          12.0  39.166667  12.597499  24.0  29.5  37.0  46.25  63.0"
      ]
     },
     "execution_count": 146,
     "metadata": {},
     "output_type": "execute_result"
    }
   ],
   "source": [
    "lodgers_df.groupby(['Employment Status'])['Age'].describe()"
   ]
  },
  {
   "cell_type": "code",
   "execution_count": 147,
   "id": "2b50bcf3",
   "metadata": {},
   "outputs": [
    {
     "data": {
      "image/png": "[encoded data removed]",
      "text/plain": [
       "<Figure size 288x504 with 1 Axes>"
      ]
     },
     "metadata": {
      "needs_background": "light"
     },
     "output_type": "display_data"
    }
   ],
   "source": [
    "#Employment Status of Lodgers:\n",
    "countplot_func(data=lodgers_df,main_data=lodgers_df,plot_size=(4,7),xlabel='Employment Status',\\\n",
    "                   plot_title='Employment Status of Lodgers',plot_variable='Employment Status',add_count=True)"
   ]
  },
  {
   "cell_type": "markdown",
   "id": "ae63de3e",
   "metadata": {},
   "source": [
    "- 86% of lodgers are Employed and most of these employed lodgers (50%) are between 30 and 52 years old."
   ]
  },
  {
   "cell_type": "code",
   "execution_count": 148,
   "id": "216f66f4",
   "metadata": {
    "scrolled": false
   },
   "outputs": [
    {
     "data": {
      "image/png": "[encoded data removed]",
      "text/plain": [
       "<Figure size 288x504 with 1 Axes>"
      ]
     },
     "metadata": {
      "needs_background": "light"
     },
     "output_type": "display_data"
    }
   ],
   "source": [
    "#Plot showing lodgers based on gender:\n",
    "countplot_func(data=lodgers_df,main_data=lodgers_df,plot_size=(4,7),xlabel='Gender',\\\n",
    "                   plot_title='Lodgers Based On Gender',plot_variable='Gender',add_count=True)"
   ]
  },
  {
   "cell_type": "markdown",
   "id": "009bdfb8",
   "metadata": {},
   "source": [
    "- More males immigrating into town."
   ]
  },
  {
   "cell_type": "code",
   "execution_count": 149,
   "id": "96e0c099",
   "metadata": {
    "scrolled": true
   },
   "outputs": [
    {
     "name": "stdout",
     "output_type": "stream",
     "text": [
      "The current immigration rate in the town is: 34.0 immigrants per thousand.\n"
     ]
    }
   ],
   "source": [
    "immigration_rate = (num_of_immigrants/len(census_df)) * 1000\n",
    "print(f'The current immigration rate in the town is: {round(immigration_rate,0)} immigrants per thousand.')"
   ]
  },
  {
   "cell_type": "markdown",
   "id": "b370bc81",
   "metadata": {},
   "source": [
    "### Emmigration:"
   ]
  },
  {
   "cell_type": "code",
   "execution_count": 150,
   "id": "b3d99866",
   "metadata": {},
   "outputs": [],
   "source": [
    "male_divorcee = divorced_df[divorced_df['Gender']=='Male']\n",
    "female_divorcee = divorced_df[divorced_df['Gender']=='Female']"
   ]
  },
  {
   "cell_type": "code",
   "execution_count": 151,
   "id": "a350d048",
   "metadata": {},
   "outputs": [
    {
     "data": {
      "text/plain": [
       "156"
      ]
     },
     "execution_count": 151,
     "metadata": {},
     "output_type": "execute_result"
    }
   ],
   "source": [
    "num_emmigrant = len(female_divorcee) - len(male_divorcee)\n",
    "num_emmigrant"
   ]
  },
  {
   "cell_type": "code",
   "execution_count": 152,
   "id": "75087201",
   "metadata": {},
   "outputs": [
    {
     "name": "stdout",
     "output_type": "stream",
     "text": [
      "The emmigration rate is currently at: 19.0 immigrants per thousand.\n"
     ]
    }
   ],
   "source": [
    "emmigration_rate = (num_emmigrant/len(census_df)) * 1000\n",
    "print(f'The emmigration rate is currently at: {round(emmigration_rate,0)} immigrants per thousand.')"
   ]
  },
  {
   "cell_type": "markdown",
   "id": "188a72e6",
   "metadata": {},
   "source": [
    "## Net Migration Rate:"
   ]
  },
  {
   "cell_type": "code",
   "execution_count": 153,
   "id": "c5606d04",
   "metadata": {
    "scrolled": true
   },
   "outputs": [
    {
     "name": "stdout",
     "output_type": "stream",
     "text": [
      "The Net Migration rate for the town is: 15.0 migrants per thousand.\n"
     ]
    }
   ],
   "source": [
    "net_migration = ((num_of_immigrants - num_emmigrant)/len(census_df)) * 1000\n",
    "print(f'The Net Migration rate for the town is: {round(net_migration,0)} migrants per thousand.')"
   ]
  },
  {
   "cell_type": "markdown",
   "id": "6447b943",
   "metadata": {},
   "source": [
    "- The population is slightly increasing despite the low birth rate as shown from the age pyramid.\n",
    "- immigration rate is higher than the emmigration rate meaning more people enter the town than they leave. Also, from the employed lodgers, 50% are between 30 and 52 years old which is slightly equals the age range of those in employment, justifying influx of people."
   ]
  },
  {
   "cell_type": "code",
   "execution_count": null,
   "id": "d06c2fac",
   "metadata": {},
   "outputs": [],
   "source": []
  },
  {
   "cell_type": "code",
   "execution_count": null,
   "id": "66a325ce",
   "metadata": {},
   "outputs": [],
   "source": []
  }
 ],
 "metadata": {
  "kernelspec": {
   "display_name": "Python 3 (ipykernel)",
   "language": "python",
   "name": "python3"
  },
  "language_info": {
   "codemirror_mode": {
    "name": "ipython",
    "version": 3
   },
   "file_extension": ".py",
   "mimetype": "text/x-python",
   "name": "python",
   "nbconvert_exporter": "python",
   "pygments_lexer": "ipython3",
   "version": "3.9.7"
  }
 },
 "nbformat": 4,
 "nbformat_minor": 5
}
